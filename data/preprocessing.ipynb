{
  "nbformat": 4,
  "nbformat_minor": 0,
  "metadata": {
    "colab": {
      "name": "preprocessing.ipynb",
      "provenance": [],
      "collapsed_sections": [],
      "include_colab_link": true
    },
    "kernelspec": {
      "name": "python3",
      "display_name": "Python 3"
    }
  },
  "cells": [
    {
      "cell_type": "markdown",
      "metadata": {
        "id": "view-in-github",
        "colab_type": "text"
      },
      "source": [
        "<a href=\"https://colab.research.google.com/github/r4phael/ml-course/blob/master/data/preprocessing.ipynb\" target=\"_parent\"><img src=\"https://colab.research.google.com/assets/colab-badge.svg\" alt=\"Open In Colab\"/></a>"
      ]
    },
    {
      "cell_type": "markdown",
      "metadata": {
        "id": "wuQHNMPNELWq",
        "colab_type": "text"
      },
      "source": [
        "Importing the libraries"
      ]
    },
    {
      "cell_type": "code",
      "metadata": {
        "id": "Ml7cyyo3abml",
        "colab_type": "code",
        "colab": {}
      },
      "source": [
        "import pandas as pd\n",
        "import random\n",
        "from sklearn.preprocessing import LabelEncoder\n",
        "from sklearn.model_selection import train_test_split\n",
        "from sklearn.preprocessing import StandardScaler\n",
        "from sklearn.model_selection import KFold\n"
      ],
      "execution_count": 0,
      "outputs": []
    },
    {
      "cell_type": "markdown",
      "metadata": {
        "id": "DapEc3FMETe8",
        "colab_type": "text"
      },
      "source": [
        "Defining Functions"
      ]
    },
    {
      "cell_type": "code",
      "metadata": {
        "id": "v9csJkaLETws",
        "colab_type": "code",
        "colab": {}
      },
      "source": [
        "def k_fold_cv(indexes, k = 5, seed = 42):\n",
        "    \n",
        "    size = len(indexes)\n",
        "    subset_size = round(size / k)\n",
        "    random.Random(seed).shuffle(indexes)\n",
        "    subsets = [indexes[x:x+subset_size] for x in range(0, len(indexes), subset_size)]\n",
        "    kfolds = []\n",
        "    for i in range(k):\n",
        "        test = subsets[i]\n",
        "        train = []\n",
        "        for subset in subsets:\n",
        "            if subset != test:\n",
        "                train.append(subset)\n",
        "        kfolds.append((train,test))\n",
        "        \n",
        "    return kfolds"
      ],
      "execution_count": 0,
      "outputs": []
    },
    {
      "cell_type": "markdown",
      "metadata": {
        "id": "i2zNe_VNEu16",
        "colab_type": "text"
      },
      "source": [
        "Importing and exploring the dataset"
      ]
    },
    {
      "cell_type": "code",
      "metadata": {
        "id": "XhtrtAb9EvT7",
        "colab_type": "code",
        "colab": {
          "base_uri": "https://localhost:8080/",
          "height": 204
        },
        "outputId": "a1c014e5-9714-4467-c6ab-5bdb4f328fe1"
      },
      "source": [
        "data_url = 'https://raw.githubusercontent.com/r4phael/ml-course/master/data/preprocessing_data.csv'\n",
        "\n",
        "df = pd.read_csv(data_url)\n",
        "\n",
        "df.describe()\n",
        "\n",
        "df.head(5)"
      ],
      "execution_count": 6,
      "outputs": [
        {
          "output_type": "execute_result",
          "data": {
            "text/html": [
              "<div>\n",
              "<style scoped>\n",
              "    .dataframe tbody tr th:only-of-type {\n",
              "        vertical-align: middle;\n",
              "    }\n",
              "\n",
              "    .dataframe tbody tr th {\n",
              "        vertical-align: top;\n",
              "    }\n",
              "\n",
              "    .dataframe thead th {\n",
              "        text-align: right;\n",
              "    }\n",
              "</style>\n",
              "<table border=\"1\" class=\"dataframe\">\n",
              "  <thead>\n",
              "    <tr style=\"text-align: right;\">\n",
              "      <th></th>\n",
              "      <th>City</th>\n",
              "      <th>Age</th>\n",
              "      <th>Salary</th>\n",
              "      <th>Sex</th>\n",
              "      <th>Acquired</th>\n",
              "    </tr>\n",
              "  </thead>\n",
              "  <tbody>\n",
              "    <tr>\n",
              "      <th>0</th>\n",
              "      <td>Maceio</td>\n",
              "      <td>42.0</td>\n",
              "      <td>6500.0</td>\n",
              "      <td>M</td>\n",
              "      <td>No</td>\n",
              "    </tr>\n",
              "    <tr>\n",
              "      <th>1</th>\n",
              "      <td>Sao Paulo</td>\n",
              "      <td>21.0</td>\n",
              "      <td>4300.0</td>\n",
              "      <td>F</td>\n",
              "      <td>Yes</td>\n",
              "    </tr>\n",
              "    <tr>\n",
              "      <th>2</th>\n",
              "      <td>Brasilia</td>\n",
              "      <td>28.0</td>\n",
              "      <td>4900.0</td>\n",
              "      <td>F</td>\n",
              "      <td>No</td>\n",
              "    </tr>\n",
              "    <tr>\n",
              "      <th>3</th>\n",
              "      <td>Recife</td>\n",
              "      <td>35.0</td>\n",
              "      <td>5400.0</td>\n",
              "      <td>F</td>\n",
              "      <td>No</td>\n",
              "    </tr>\n",
              "    <tr>\n",
              "      <th>4</th>\n",
              "      <td>Rio de Janeiro</td>\n",
              "      <td>38.0</td>\n",
              "      <td>NaN</td>\n",
              "      <td>M</td>\n",
              "      <td>Yes</td>\n",
              "    </tr>\n",
              "  </tbody>\n",
              "</table>\n",
              "</div>"
            ],
            "text/plain": [
              "             City   Age  Salary Sex Acquired\n",
              "0          Maceio  42.0  6500.0   M       No\n",
              "1       Sao Paulo  21.0  4300.0   F      Yes\n",
              "2        Brasilia  28.0  4900.0   F       No\n",
              "3          Recife  35.0  5400.0   F       No\n",
              "4  Rio de Janeiro  38.0     NaN   M      Yes"
            ]
          },
          "metadata": {
            "tags": []
          },
          "execution_count": 6
        }
      ]
    },
    {
      "cell_type": "markdown",
      "metadata": {
        "id": "7gWrQyDhEveQ",
        "colab_type": "text"
      },
      "source": [
        "Distribution of nuimeric variables"
      ]
    },
    {
      "cell_type": "code",
      "metadata": {
        "id": "J4EiW3qTEvqV",
        "colab_type": "code",
        "colab": {
          "base_uri": "https://localhost:8080/",
          "height": 580
        },
        "outputId": "94b8b06e-53b9-4e20-dab0-e68f5072e249"
      },
      "source": [
        "df.boxplot()\n",
        "\n",
        "df.hist()"
      ],
      "execution_count": 7,
      "outputs": [
        {
          "output_type": "execute_result",
          "data": {
            "text/plain": [
              "array([[<matplotlib.axes._subplots.AxesSubplot object at 0x7f7197d60048>,\n",
              "        <matplotlib.axes._subplots.AxesSubplot object at 0x7f7197d12160>]],\n",
              "      dtype=object)"
            ]
          },
          "metadata": {
            "tags": []
          },
          "execution_count": 7
        },
        {
          "output_type": "display_data",
          "data": {
            "image/png": "[encoded data removed]",
            "text/plain": [
              "<Figure size 432x288 with 1 Axes>"
            ]
          },
          "metadata": {
            "tags": []
          }
        },
        {
          "output_type": "display_data",
          "data": {
            "image/png": "[encoded data removed]",
            "text/plain": [
              "<Figure size 432x288 with 2 Axes>"
            ]
          },
          "metadata": {
            "tags": []
          }
        }
      ]
    },
    {
      "cell_type": "markdown",
      "metadata": {
        "id": "Pb9BNG6JEv0q",
        "colab_type": "text"
      },
      "source": [
        "Fill NA with 0, median or mean."
      ]
    },
    {
      "cell_type": "code",
      "metadata": {
        "id": "5YZvU837Ev9n",
        "colab_type": "code",
        "colab": {}
      },
      "source": [
        "df.fillna(df.mean())\n",
        "\n",
        "df.fillna(df.median())\n",
        "\n",
        "df.fillna(0)\n",
        "\n",
        "df = df.fillna(df.median())"
      ],
      "execution_count": 0,
      "outputs": []
    },
    {
      "cell_type": "markdown",
      "metadata": {
        "id": "KosHK6EKEwIO",
        "colab_type": "text"
      },
      "source": [
        "Defining the dependend and dependent variables"
      ]
    },
    {
      "cell_type": "code",
      "metadata": {
        "id": "dyTqObUCEwQc",
        "colab_type": "code",
        "colab": {}
      },
      "source": [
        "X = df.iloc[:, :-1].values\n",
        "y = df.iloc[:, 4].values\n"
      ],
      "execution_count": 0,
      "outputs": []
    },
    {
      "cell_type": "markdown",
      "metadata": {
        "id": "L8PiCd7EFOlC",
        "colab_type": "text"
      },
      "source": [
        "Encoding the labels with value between 0 and n_classes-1. Fit and Transform  the values."
      ]
    },
    {
      "cell_type": "code",
      "metadata": {
        "id": "-GTNjfslFovI",
        "colab_type": "code",
        "colab": {}
      },
      "source": [
        "le = LabelEncoder()\n",
        "\n",
        "y = df.iloc[:, 4].values\n",
        "y = le.fit_transform(y)\n"
      ],
      "execution_count": 0,
      "outputs": []
    },
    {
      "cell_type": "markdown",
      "metadata": {
        "id": "lIlc1hbuFv-W",
        "colab_type": "text"
      },
      "source": [
        "Some machine learning techniques require you to drop one dimension from the epresentation so as o avoid dependency among the variables. Use drop_first=True\" to achieve that."
      ]
    },
    {
      "cell_type": "code",
      "metadata": {
        "id": "Nt16kmUhFzw1",
        "colab_type": "code",
        "colab": {}
      },
      "source": [
        "X = pd.get_dummies(df.iloc[:, :-1] ,prefix=['city', 'sex'], drop_first=True).values\n",
        "y = df.iloc[:, 4].values"
      ],
      "execution_count": 0,
      "outputs": []
    },
    {
      "cell_type": "markdown",
      "metadata": {
        "id": "W_gdmirlF12c",
        "colab_type": "text"
      },
      "source": [
        "K-fold cross validation with 5 folds:"
      ]
    },
    {
      "cell_type": "code",
      "metadata": {
        "id": "FWvLV6ZjF2Ak",
        "colab_type": "code",
        "colab": {
          "base_uri": "https://localhost:8080/",
          "height": 102
        },
        "outputId": "43c8fad2-dcdc-43da-f590-0e80d8fdce18"
      },
      "source": [
        "k_fold_cv(list(df.index.values))"
      ],
      "execution_count": 12,
      "outputs": [
        {
          "output_type": "execute_result",
          "data": {
            "text/plain": [
              "[([[2, 8], [5, 6], [9, 4], [0, 1]], [7, 3]),\n",
              " ([[7, 3], [5, 6], [9, 4], [0, 1]], [2, 8]),\n",
              " ([[7, 3], [2, 8], [9, 4], [0, 1]], [5, 6]),\n",
              " ([[7, 3], [2, 8], [5, 6], [0, 1]], [9, 4]),\n",
              " ([[7, 3], [2, 8], [5, 6], [9, 4]], [0, 1])]"
            ]
          },
          "metadata": {
            "tags": []
          },
          "execution_count": 12
        }
      ]
    },
    {
      "cell_type": "markdown",
      "metadata": {
        "id": "Xl9OHy7bF9Gr",
        "colab_type": "text"
      },
      "source": [
        "5-folds cross validation with sklearn"
      ]
    },
    {
      "cell_type": "code",
      "metadata": {
        "id": "_2XPVhESF9TD",
        "colab_type": "code",
        "colab": {
          "base_uri": "https://localhost:8080/",
          "height": 102
        },
        "outputId": "8b385550-2018-4825-ce7e-8e749b22197f"
      },
      "source": [
        "kf = KFold(n_splits=5, random_state=42, shuffle=True)\n",
        "for train_index, test_index in kf.split(X):\n",
        "    print(\"TRAIN:\", train_index, \"TEST:\", test_index)\n",
        "    #X_train, X_test = X[train_index], X[test_index]\n",
        "    #y_train, y_test = y[train_index], y[test_index]"
      ],
      "execution_count": 19,
      "outputs": [
        {
          "output_type": "stream",
          "text": [
            "TRAIN: [0 2 3 4 5 6 7 9] TEST: [1 8]\n",
            "TRAIN: [1 2 3 4 6 7 8 9] TEST: [0 5]\n",
            "TRAIN: [0 1 3 4 5 6 8 9] TEST: [2 7]\n",
            "TRAIN: [0 1 2 3 5 6 7 8] TEST: [4 9]\n",
            "TRAIN: [0 1 2 4 5 7 8 9] TEST: [3 6]\n"
          ],
          "name": "stdout"
        }
      ]
    },
    {
      "cell_type": "markdown",
      "metadata": {
        "id": "D115SXB4GJGC",
        "colab_type": "text"
      },
      "source": [
        " Splitting the dataset in train and tests splits"
      ]
    },
    {
      "cell_type": "code",
      "metadata": {
        "id": "QImAPykOGMOz",
        "colab_type": "code",
        "colab": {}
      },
      "source": [
        "X_train, X_test, y_train, y_test = train_test_split(X, y, test_size = 0.2, random_state = 42)"
      ],
      "execution_count": 0,
      "outputs": []
    },
    {
      "cell_type": "markdown",
      "metadata": {
        "id": "4uj0JsZjGOBr",
        "colab_type": "text"
      },
      "source": [
        "Feature scaling of independent variables"
      ]
    },
    {
      "cell_type": "code",
      "metadata": {
        "id": "VAsr0iLCGN3N",
        "colab_type": "code",
        "colab": {
          "base_uri": "https://localhost:8080/",
          "height": 527
        },
        "outputId": "f1884187-9b59-4d6d-8715-7a738226f8be"
      },
      "source": [
        "sc = StandardScaler()\n",
        "X = sc.fit_transform(X)\n",
        "\n",
        "X"
      ],
      "execution_count": 16,
      "outputs": [
        {
          "output_type": "execute_result",
          "data": {
            "text/plain": [
              "array([[ 0.62112999,  0.80160482, -0.33333333, -0.33333333, -0.33333333,\n",
              "         3.        , -0.33333333, -0.33333333, -0.33333333, -0.33333333,\n",
              "        -0.33333333,  1.        ],\n",
              "       [-1.98761598, -1.40280843, -0.33333333, -0.33333333, -0.33333333,\n",
              "        -0.33333333, -0.33333333, -0.33333333, -0.33333333, -0.33333333,\n",
              "         3.        , -1.        ],\n",
              "       [-1.11803399, -0.80160482,  3.        , -0.33333333, -0.33333333,\n",
              "        -0.33333333, -0.33333333, -0.33333333, -0.33333333, -0.33333333,\n",
              "        -0.33333333, -1.        ],\n",
              "       [-0.248452  , -0.30060181, -0.33333333, -0.33333333, -0.33333333,\n",
              "        -0.33333333, -0.33333333, -0.33333333,  3.        , -0.33333333,\n",
              "        -0.33333333, -1.        ],\n",
              "       [ 0.124226  , -0.30060181, -0.33333333, -0.33333333, -0.33333333,\n",
              "        -0.33333333, -0.33333333, -0.33333333, -0.33333333,  3.        ,\n",
              "        -0.33333333,  1.        ],\n",
              "       [-0.49690399, -0.50100301, -0.33333333,  3.        , -0.33333333,\n",
              "        -0.33333333, -0.33333333, -0.33333333, -0.33333333, -0.33333333,\n",
              "        -0.33333333,  1.        ],\n",
              "       [ 0.124226  , -1.00200602, -0.33333333, -0.33333333, -0.33333333,\n",
              "        -0.33333333, -0.33333333, -0.33333333, -0.33333333, -0.33333333,\n",
              "        -0.33333333, -1.        ],\n",
              "       [ 0.99380799,  1.40280843, -0.33333333, -0.33333333, -0.33333333,\n",
              "        -0.33333333,  3.        , -0.33333333, -0.33333333, -0.33333333,\n",
              "        -0.33333333,  1.        ],\n",
              "       [ 1.73916398,  1.80361084, -0.33333333, -0.33333333, -0.33333333,\n",
              "        -0.33333333, -0.33333333,  3.        , -0.33333333, -0.33333333,\n",
              "        -0.33333333, -1.        ],\n",
              "       [ 0.248452  ,  0.30060181, -0.33333333, -0.33333333,  3.        ,\n",
              "        -0.33333333, -0.33333333, -0.33333333, -0.33333333, -0.33333333,\n",
              "        -0.33333333,  1.        ]])"
            ]
          },
          "metadata": {
            "tags": []
          },
          "execution_count": 16
        }
      ]
    }
  ]
}