{
  "nbformat": 4,
  "nbformat_minor": 0,
  "metadata": {
    "colab": {
      "name": "linear_regression.ipynb",
      "provenance": [],
      "collapsed_sections": [],
      "include_colab_link": true
    },
    "kernelspec": {
      "name": "python3",
      "display_name": "Python 3"
    }
  },
  "cells": [
    {
      "cell_type": "markdown",
      "metadata": {
        "id": "view-in-github",
        "colab_type": "text"
      },
      "source": [
        "<a href=\"https://colab.research.google.com/github/r4phael/ml-course/blob/master/notebooks/linear_regression.ipynb\" target=\"_parent\"><img src=\"https://colab.research.google.com/assets/colab-badge.svg\" alt=\"Open In Colab\"/></a>"
      ]
    },
    {
      "cell_type": "markdown",
      "metadata": {
        "id": "EB3dPPlgQeVt",
        "colab_type": "text"
      },
      "source": [
        "#**Semana 3 - Regressão Linear**"
      ]
    },
    {
      "cell_type": "markdown",
      "metadata": {
        "id": "k6l8c0olEHpN",
        "colab_type": "text"
      },
      "source": [
        "Importando libs"
      ]
    },
    {
      "cell_type": "code",
      "metadata": {
        "id": "i7FF5Glb_NrK",
        "colab_type": "code",
        "colab": {}
      },
      "source": [
        "import pandas as pd\n",
        "import random\n",
        "import numpy as np\n",
        "import matplotlib.pyplot as plt\n",
        "from sklearn.preprocessing import StandardScaler \n",
        "from sklearn.metrics import confusion_matrix\n",
        "from sklearn.model_selection import train_test_split\n",
        "from sklearn.metrics import f1_score\n",
        "from matplotlib.colors import ListedColormap\n",
        "#Modelo:\n",
        "from sklearn.linear_model import LinearRegression"
      ],
      "execution_count": 0,
      "outputs": []
    },
    {
      "cell_type": "markdown",
      "metadata": {
        "id": "L7RydZ0qEIl4",
        "colab_type": "text"
      },
      "source": [
        "Importando funções"
      ]
    },
    {
      "cell_type": "code",
      "metadata": {
        "id": "KxneBJZUEIz4",
        "colab_type": "code",
        "colab": {}
      },
      "source": [
        "# Função que gera o gráfico dos resultados de regressão\n",
        "def plot_results_linear(X, y, regressor, title):\n",
        "    plt.scatter(X, y, color = 'red')\n",
        "    plt.plot(X, regressor.predict(X), color = 'blue')\n",
        "    plt.title(title)\n",
        "    plt.xlabel('Tamanho do Lote')\n",
        "    plt.ylabel('Preço de Vendas')\n",
        "    plt.show()"
      ],
      "execution_count": 0,
      "outputs": []
    },
    {
      "cell_type": "markdown",
      "metadata": {
        "id": "ZfESkLx0EjB8",
        "colab_type": "text"
      },
      "source": [
        "Importando os dados"
      ]
    },
    {
      "cell_type": "code",
      "metadata": {
        "id": "Yq6eIh3NJnuN",
        "colab_type": "code",
        "colab": {}
      },
      "source": [
        "df = pd.read_csv('https://raw.githubusercontent.com/r4phael/ml-course/master/data/pricing_houses.csv')\n",
        "df = df.loc[:, ['LotArea', 'PoolArea', 'GarageArea', 'OverallCond','YearBuilt', 'MSZoning', 'SalePrice']].sample(n=60, random_state=0, weights = 'SalePrice')"
      ],
      "execution_count": 0,
      "outputs": []
    },
    {
      "cell_type": "markdown",
      "metadata": {
        "id": "g-LzSHX1Jpg1",
        "colab_type": "text"
      },
      "source": [
        "Descrevendo o dataset"
      ]
    },
    {
      "cell_type": "code",
      "metadata": {
        "id": "hpLEK45DJomb",
        "colab_type": "code",
        "outputId": "a67bd9d5-b4d7-4630-df32-2f4add3469d8",
        "colab": {
          "base_uri": "https://localhost:8080/",
          "height": 297
        }
      },
      "source": [
        "df.describe()"
      ],
      "execution_count": 4,
      "outputs": [
        {
          "output_type": "execute_result",
          "data": {
            "text/html": [
              "<div>\n",
              "<style scoped>\n",
              "    .dataframe tbody tr th:only-of-type {\n",
              "        vertical-align: middle;\n",
              "    }\n",
              "\n",
              "    .dataframe tbody tr th {\n",
              "        vertical-align: top;\n",
              "    }\n",
              "\n",
              "    .dataframe thead th {\n",
              "        text-align: right;\n",
              "    }\n",
              "</style>\n",
              "<table border=\"1\" class=\"dataframe\">\n",
              "  <thead>\n",
              "    <tr style=\"text-align: right;\">\n",
              "      <th></th>\n",
              "      <th>LotArea</th>\n",
              "      <th>PoolArea</th>\n",
              "      <th>GarageArea</th>\n",
              "      <th>OverallCond</th>\n",
              "      <th>YearBuilt</th>\n",
              "      <th>SalePrice</th>\n",
              "    </tr>\n",
              "  </thead>\n",
              "  <tbody>\n",
              "    <tr>\n",
              "      <th>count</th>\n",
              "      <td>60.000000</td>\n",
              "      <td>60.0</td>\n",
              "      <td>60.000000</td>\n",
              "      <td>60.000000</td>\n",
              "      <td>60.000000</td>\n",
              "      <td>60.000000</td>\n",
              "    </tr>\n",
              "    <tr>\n",
              "      <th>mean</th>\n",
              "      <td>11633.933333</td>\n",
              "      <td>0.0</td>\n",
              "      <td>504.683333</td>\n",
              "      <td>5.783333</td>\n",
              "      <td>1972.116667</td>\n",
              "      <td>197536.150000</td>\n",
              "    </tr>\n",
              "    <tr>\n",
              "      <th>std</th>\n",
              "      <td>8099.879028</td>\n",
              "      <td>0.0</td>\n",
              "      <td>222.427554</td>\n",
              "      <td>1.180228</td>\n",
              "      <td>30.522618</td>\n",
              "      <td>74910.507145</td>\n",
              "    </tr>\n",
              "    <tr>\n",
              "      <th>min</th>\n",
              "      <td>1477.000000</td>\n",
              "      <td>0.0</td>\n",
              "      <td>0.000000</td>\n",
              "      <td>3.000000</td>\n",
              "      <td>1875.000000</td>\n",
              "      <td>80000.000000</td>\n",
              "    </tr>\n",
              "    <tr>\n",
              "      <th>25%</th>\n",
              "      <td>8068.500000</td>\n",
              "      <td>0.0</td>\n",
              "      <td>440.000000</td>\n",
              "      <td>5.000000</td>\n",
              "      <td>1950.750000</td>\n",
              "      <td>142250.000000</td>\n",
              "    </tr>\n",
              "    <tr>\n",
              "      <th>50%</th>\n",
              "      <td>10510.000000</td>\n",
              "      <td>0.0</td>\n",
              "      <td>542.000000</td>\n",
              "      <td>5.000000</td>\n",
              "      <td>1976.500000</td>\n",
              "      <td>188750.000000</td>\n",
              "    </tr>\n",
              "    <tr>\n",
              "      <th>75%</th>\n",
              "      <td>12010.750000</td>\n",
              "      <td>0.0</td>\n",
              "      <td>607.250000</td>\n",
              "      <td>7.000000</td>\n",
              "      <td>2002.000000</td>\n",
              "      <td>235032.000000</td>\n",
              "    </tr>\n",
              "    <tr>\n",
              "      <th>max</th>\n",
              "      <td>53227.000000</td>\n",
              "      <td>0.0</td>\n",
              "      <td>1014.000000</td>\n",
              "      <td>9.000000</td>\n",
              "      <td>2009.000000</td>\n",
              "      <td>437154.000000</td>\n",
              "    </tr>\n",
              "  </tbody>\n",
              "</table>\n",
              "</div>"
            ],
            "text/plain": [
              "            LotArea  PoolArea  ...    YearBuilt      SalePrice\n",
              "count     60.000000      60.0  ...    60.000000      60.000000\n",
              "mean   11633.933333       0.0  ...  1972.116667  197536.150000\n",
              "std     8099.879028       0.0  ...    30.522618   74910.507145\n",
              "min     1477.000000       0.0  ...  1875.000000   80000.000000\n",
              "25%     8068.500000       0.0  ...  1950.750000  142250.000000\n",
              "50%    10510.000000       0.0  ...  1976.500000  188750.000000\n",
              "75%    12010.750000       0.0  ...  2002.000000  235032.000000\n",
              "max    53227.000000       0.0  ...  2009.000000  437154.000000\n",
              "\n",
              "[8 rows x 6 columns]"
            ]
          },
          "metadata": {
            "tags": []
          },
          "execution_count": 4
        }
      ]
    },
    {
      "cell_type": "markdown",
      "metadata": {
        "id": "tgh2pe9lJtr6",
        "colab_type": "text"
      },
      "source": [
        "Visualizando o dataset"
      ]
    },
    {
      "cell_type": "code",
      "metadata": {
        "id": "EvY28fJdJxey",
        "colab_type": "code",
        "outputId": "6816b65d-74ec-421d-af7c-b75eee52332a",
        "colab": {
          "base_uri": "https://localhost:8080/",
          "height": 204
        }
      },
      "source": [
        "df.head(5)"
      ],
      "execution_count": 5,
      "outputs": [
        {
          "output_type": "execute_result",
          "data": {
            "text/html": [
              "<div>\n",
              "<style scoped>\n",
              "    .dataframe tbody tr th:only-of-type {\n",
              "        vertical-align: middle;\n",
              "    }\n",
              "\n",
              "    .dataframe tbody tr th {\n",
              "        vertical-align: top;\n",
              "    }\n",
              "\n",
              "    .dataframe thead th {\n",
              "        text-align: right;\n",
              "    }\n",
              "</style>\n",
              "<table border=\"1\" class=\"dataframe\">\n",
              "  <thead>\n",
              "    <tr style=\"text-align: right;\">\n",
              "      <th></th>\n",
              "      <th>LotArea</th>\n",
              "      <th>PoolArea</th>\n",
              "      <th>GarageArea</th>\n",
              "      <th>OverallCond</th>\n",
              "      <th>YearBuilt</th>\n",
              "      <th>MSZoning</th>\n",
              "      <th>SalePrice</th>\n",
              "    </tr>\n",
              "  </thead>\n",
              "  <tbody>\n",
              "    <tr>\n",
              "      <th>789</th>\n",
              "      <td>12205</td>\n",
              "      <td>0</td>\n",
              "      <td>444</td>\n",
              "      <td>8</td>\n",
              "      <td>1966</td>\n",
              "      <td>RL</td>\n",
              "      <td>187500</td>\n",
              "    </tr>\n",
              "    <tr>\n",
              "      <th>1039</th>\n",
              "      <td>1477</td>\n",
              "      <td>0</td>\n",
              "      <td>286</td>\n",
              "      <td>4</td>\n",
              "      <td>1970</td>\n",
              "      <td>RM</td>\n",
              "      <td>80000</td>\n",
              "    </tr>\n",
              "    <tr>\n",
              "      <th>868</th>\n",
              "      <td>14762</td>\n",
              "      <td>0</td>\n",
              "      <td>672</td>\n",
              "      <td>6</td>\n",
              "      <td>1948</td>\n",
              "      <td>RL</td>\n",
              "      <td>169000</td>\n",
              "    </tr>\n",
              "    <tr>\n",
              "      <th>782</th>\n",
              "      <td>16285</td>\n",
              "      <td>0</td>\n",
              "      <td>605</td>\n",
              "      <td>5</td>\n",
              "      <td>2001</td>\n",
              "      <td>RL</td>\n",
              "      <td>187100</td>\n",
              "    </tr>\n",
              "    <tr>\n",
              "      <th>611</th>\n",
              "      <td>10395</td>\n",
              "      <td>0</td>\n",
              "      <td>564</td>\n",
              "      <td>6</td>\n",
              "      <td>1978</td>\n",
              "      <td>RL</td>\n",
              "      <td>148000</td>\n",
              "    </tr>\n",
              "  </tbody>\n",
              "</table>\n",
              "</div>"
            ],
            "text/plain": [
              "      LotArea  PoolArea  GarageArea  OverallCond  YearBuilt MSZoning  SalePrice\n",
              "789     12205         0         444            8       1966       RL     187500\n",
              "1039     1477         0         286            4       1970       RM      80000\n",
              "868     14762         0         672            6       1948       RL     169000\n",
              "782     16285         0         605            5       2001       RL     187100\n",
              "611     10395         0         564            6       1978       RL     148000"
            ]
          },
          "metadata": {
            "tags": []
          },
          "execution_count": 5
        }
      ]
    },
    {
      "cell_type": "markdown",
      "metadata": {
        "id": "jiMAqVghJylz",
        "colab_type": "text"
      },
      "source": [
        "Preenchendo os valores númericos nulos (NA) com a mediana."
      ]
    },
    {
      "cell_type": "code",
      "metadata": {
        "id": "KFDodNK4JzlR",
        "colab_type": "code",
        "outputId": "c7ffd023-3794-42b4-84b5-65f1bb1bf189",
        "colab": {
          "base_uri": "https://localhost:8080/",
          "height": 204
        }
      },
      "source": [
        "df = df.fillna(df.median())\n",
        "\n",
        "df.head(5)"
      ],
      "execution_count": 6,
      "outputs": [
        {
          "output_type": "execute_result",
          "data": {
            "text/html": [
              "<div>\n",
              "<style scoped>\n",
              "    .dataframe tbody tr th:only-of-type {\n",
              "        vertical-align: middle;\n",
              "    }\n",
              "\n",
              "    .dataframe tbody tr th {\n",
              "        vertical-align: top;\n",
              "    }\n",
              "\n",
              "    .dataframe thead th {\n",
              "        text-align: right;\n",
              "    }\n",
              "</style>\n",
              "<table border=\"1\" class=\"dataframe\">\n",
              "  <thead>\n",
              "    <tr style=\"text-align: right;\">\n",
              "      <th></th>\n",
              "      <th>LotArea</th>\n",
              "      <th>PoolArea</th>\n",
              "      <th>GarageArea</th>\n",
              "      <th>OverallCond</th>\n",
              "      <th>YearBuilt</th>\n",
              "      <th>MSZoning</th>\n",
              "      <th>SalePrice</th>\n",
              "    </tr>\n",
              "  </thead>\n",
              "  <tbody>\n",
              "    <tr>\n",
              "      <th>789</th>\n",
              "      <td>12205</td>\n",
              "      <td>0</td>\n",
              "      <td>444</td>\n",
              "      <td>8</td>\n",
              "      <td>1966</td>\n",
              "      <td>RL</td>\n",
              "      <td>187500</td>\n",
              "    </tr>\n",
              "    <tr>\n",
              "      <th>1039</th>\n",
              "      <td>1477</td>\n",
              "      <td>0</td>\n",
              "      <td>286</td>\n",
              "      <td>4</td>\n",
              "      <td>1970</td>\n",
              "      <td>RM</td>\n",
              "      <td>80000</td>\n",
              "    </tr>\n",
              "    <tr>\n",
              "      <th>868</th>\n",
              "      <td>14762</td>\n",
              "      <td>0</td>\n",
              "      <td>672</td>\n",
              "      <td>6</td>\n",
              "      <td>1948</td>\n",
              "      <td>RL</td>\n",
              "      <td>169000</td>\n",
              "    </tr>\n",
              "    <tr>\n",
              "      <th>782</th>\n",
              "      <td>16285</td>\n",
              "      <td>0</td>\n",
              "      <td>605</td>\n",
              "      <td>5</td>\n",
              "      <td>2001</td>\n",
              "      <td>RL</td>\n",
              "      <td>187100</td>\n",
              "    </tr>\n",
              "    <tr>\n",
              "      <th>611</th>\n",
              "      <td>10395</td>\n",
              "      <td>0</td>\n",
              "      <td>564</td>\n",
              "      <td>6</td>\n",
              "      <td>1978</td>\n",
              "      <td>RL</td>\n",
              "      <td>148000</td>\n",
              "    </tr>\n",
              "  </tbody>\n",
              "</table>\n",
              "</div>"
            ],
            "text/plain": [
              "      LotArea  PoolArea  GarageArea  OverallCond  YearBuilt MSZoning  SalePrice\n",
              "789     12205         0         444            8       1966       RL     187500\n",
              "1039     1477         0         286            4       1970       RM      80000\n",
              "868     14762         0         672            6       1948       RL     169000\n",
              "782     16285         0         605            5       2001       RL     187100\n",
              "611     10395         0         564            6       1978       RL     148000"
            ]
          },
          "metadata": {
            "tags": []
          },
          "execution_count": 6
        }
      ]
    },
    {
      "cell_type": "markdown",
      "metadata": {
        "id": "jXWksGyoJ0u3",
        "colab_type": "text"
      },
      "source": [
        "Definindo as variáveis independentes"
      ]
    },
    {
      "cell_type": "code",
      "metadata": {
        "id": "lJ0y3JijJ1ii",
        "colab_type": "code",
        "outputId": "992dd048-ccaa-4159-f871-fdc06d0274d9",
        "colab": {
          "base_uri": "https://localhost:8080/",
          "height": 102
        }
      },
      "source": [
        "X = df.loc[:, 'LotArea'].values.reshape(-1,1)\n",
        "X[:5]\n"
      ],
      "execution_count": 7,
      "outputs": [
        {
          "output_type": "execute_result",
          "data": {
            "text/plain": [
              "array([[12205],\n",
              "       [ 1477],\n",
              "       [14762],\n",
              "       [16285],\n",
              "       [10395]])"
            ]
          },
          "metadata": {
            "tags": []
          },
          "execution_count": 7
        }
      ]
    },
    {
      "cell_type": "markdown",
      "metadata": {
        "id": "uISYBhKqUqpQ",
        "colab_type": "text"
      },
      "source": [
        "Definindo as variáveis dependentes."
      ]
    },
    {
      "cell_type": "code",
      "metadata": {
        "id": "okQl0J1SUq9h",
        "colab_type": "code",
        "outputId": "33766cba-0d5f-483c-b276-a1a1011925ff",
        "colab": {
          "base_uri": "https://localhost:8080/",
          "height": 102
        }
      },
      "source": [
        "y = df.loc[:, 'SalePrice'].values.reshape(-1,1)\n",
        "y[:5]\n"
      ],
      "execution_count": 8,
      "outputs": [
        {
          "output_type": "execute_result",
          "data": {
            "text/plain": [
              "array([[187500],\n",
              "       [ 80000],\n",
              "       [169000],\n",
              "       [187100],\n",
              "       [148000]])"
            ]
          },
          "metadata": {
            "tags": []
          },
          "execution_count": 8
        }
      ]
    },
    {
      "cell_type": "markdown",
      "metadata": {
        "id": "yzJ08rJ4J3CS",
        "colab_type": "text"
      },
      "source": [
        " Criando os subconjuntos de treinamento e testes"
      ]
    },
    {
      "cell_type": "code",
      "metadata": {
        "id": "tVz1mTUOJ4Tb",
        "colab_type": "code",
        "outputId": "79346b9e-2f81-4e53-b3a8-a46354d0ab61",
        "colab": {
          "base_uri": "https://localhost:8080/",
          "height": 68
        }
      },
      "source": [
        "X_train, X_test, y_train, y_test = train_test_split(X, y, test_size = 0.2, random_state = 42)\n",
        "\n",
        "print(\"Tamanho do Dataset. {}\".format(df.shape[0]))\n",
        "print(\"Tamanho do Conjunto de Treinamento. {}\".format(len(X_train)))\n",
        "print(\"Tamanho do Conjunto de Testes. {}\".format(len(X_test)))"
      ],
      "execution_count": 9,
      "outputs": [
        {
          "output_type": "stream",
          "text": [
            "Tamanho do Dataset. 60\n",
            "Tamanho do Conjunto de Treinamento. 48\n",
            "Tamanho do Conjunto de Testes. 12\n"
          ],
          "name": "stdout"
        }
      ]
    },
    {
      "cell_type": "markdown",
      "metadata": {
        "id": "OcQtLvcXJ7NT",
        "colab_type": "text"
      },
      "source": [
        "Normalizando as features "
      ]
    },
    {
      "cell_type": "code",
      "metadata": {
        "id": "aXvlvQ9DJ7i3",
        "colab_type": "code",
        "colab": {}
      },
      "source": [
        "#X_train = feature_scaling(X_train)\n",
        "#X_test = feature_scaling(X_test)\n",
        "\n",
        "#X_train[:5]"
      ],
      "execution_count": 0,
      "outputs": []
    },
    {
      "cell_type": "markdown",
      "metadata": {
        "id": "jGXuG35WJ_Tj",
        "colab_type": "text"
      },
      "source": [
        "Treinando o modelo de Regressao Linear com o Conjunto de Treinamento"
      ]
    },
    {
      "cell_type": "code",
      "metadata": {
        "id": "xo9Q5lxsKAVB",
        "colab_type": "code",
        "outputId": "2142e5aa-ed38-4d82-9b71-b36fd3880e8f",
        "colab": {
          "base_uri": "https://localhost:8080/",
          "height": 34
        }
      },
      "source": [
        "regressor = LinearRegression()\n",
        "regressor.fit(X_train, y_train)"
      ],
      "execution_count": 11,
      "outputs": [
        {
          "output_type": "execute_result",
          "data": {
            "text/plain": [
              "LinearRegression(copy_X=True, fit_intercept=True, n_jobs=None, normalize=False)"
            ]
          },
          "metadata": {
            "tags": []
          },
          "execution_count": 11
        }
      ]
    },
    {
      "cell_type": "markdown",
      "metadata": {
        "id": "FUYWJqnaKBvh",
        "colab_type": "text"
      },
      "source": [
        "Prevendo os resultados do modelo criado com o conjunto de testes"
      ]
    },
    {
      "cell_type": "code",
      "metadata": {
        "id": "SFvsig4SKCiC",
        "colab_type": "code",
        "outputId": "453a0092-49af-4814-c707-0f6743aeff44",
        "colab": {
          "base_uri": "https://localhost:8080/",
          "height": 221
        }
      },
      "source": [
        "y_pred = regressor.predict(X_test)\n",
        "\n",
        "y_pred"
      ],
      "execution_count": 12,
      "outputs": [
        {
          "output_type": "execute_result",
          "data": {
            "text/plain": [
              "array([[207117.08544721],\n",
              "       [183686.58545274],\n",
              "       [169299.32577351],\n",
              "       [179936.94922447],\n",
              "       [188476.03676953],\n",
              "       [191960.99279345],\n",
              "       [202201.59593788],\n",
              "       [465634.02218018],\n",
              "       [206688.55559255],\n",
              "       [176212.52063471],\n",
              "       [195653.91183507],\n",
              "       [185759.91372014]])"
            ]
          },
          "metadata": {
            "tags": []
          },
          "execution_count": 12
        }
      ]
    },
    {
      "cell_type": "markdown",
      "metadata": {
        "id": "kRjvN45RKFPq",
        "colab_type": "text"
      },
      "source": [
        "Avaliando o modelo com a métrica r2"
      ]
    },
    {
      "cell_type": "code",
      "metadata": {
        "id": "I3_jQ8N5KH-6",
        "colab_type": "code",
        "outputId": "acc1fc95-6872-40e5-b1ba-e3f1008c0985",
        "colab": {
          "base_uri": "https://localhost:8080/",
          "height": 34
        }
      },
      "source": [
        "regressor.score(X_test, y_test)"
      ],
      "execution_count": 13,
      "outputs": [
        {
          "output_type": "execute_result",
          "data": {
            "text/plain": [
              "-0.9506477517227611"
            ]
          },
          "metadata": {
            "tags": []
          },
          "execution_count": 13
        }
      ]
    },
    {
      "cell_type": "markdown",
      "metadata": {
        "id": "rTahZRcqKS2b",
        "colab_type": "text"
      },
      "source": [
        "Exibindo os resultados do conjunto de treinamento"
      ]
    },
    {
      "cell_type": "code",
      "metadata": {
        "id": "2EAqhxovKT9a",
        "colab_type": "code",
        "outputId": "efa36ce4-2118-4462-9fbd-072809b702f6",
        "colab": {
          "base_uri": "https://localhost:8080/",
          "height": 295
        }
      },
      "source": [
        "plot_results_linear(X_train, y_train, regressor, 'Regressão Linear (Conj. de Treinamento)')"
      ],
      "execution_count": 14,
      "outputs": [
        {
          "output_type": "display_data",
          "data": {
            "image/png": "[encoded data removed]",
            "text/plain": [
              "<Figure size 432x288 with 1 Axes>"
            ]
          },
          "metadata": {
            "tags": []
          }
        }
      ]
    },
    {
      "cell_type": "markdown",
      "metadata": {
        "id": "hwRwnq82KU2w",
        "colab_type": "text"
      },
      "source": [
        "Exibindo os resultados do conjunto de testes"
      ]
    },
    {
      "cell_type": "code",
      "metadata": {
        "id": "uXKEZrWQKV9R",
        "colab_type": "code",
        "outputId": "a2e5d9b5-f508-40f3-9c98-fdd73991967d",
        "colab": {
          "base_uri": "https://localhost:8080/",
          "height": 295
        }
      },
      "source": [
        "plot_results_linear(X_test, y_test, regressor, 'Regressão Linear (Conj. de Testes)')"
      ],
      "execution_count": 15,
      "outputs": [
        {
          "output_type": "display_data",
          "data": {
            "image/png": "[encoded data removed]",
            "text/plain": [
              "<Figure size 432x288 with 1 Axes>"
            ]
          },
          "metadata": {
            "tags": []
          }
        }
      ]
    }
  ]
}