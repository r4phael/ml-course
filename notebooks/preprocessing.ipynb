{
  "nbformat": 4,
  "nbformat_minor": 0,
  "metadata": {
    "colab": {
      "name": "preprocessing.ipynb",
      "provenance": [],
      "collapsed_sections": [
        "fKb9Z7ynHEjA",
        "gEICvoB2ILQW"
      ],
      "toc_visible": true,
      "include_colab_link": true
    },
    "kernelspec": {
      "name": "python3",
      "display_name": "Python 3"
    }
  },
  "cells": [
    {
      "cell_type": "markdown",
      "metadata": {
        "id": "view-in-github",
        "colab_type": "text"
      },
      "source": [
        "<a href=\"https://colab.research.google.com/github/r4phael/ml-course/blob/master/notebooks/preprocessing.ipynb\" target=\"_parent\"><img src=\"https://colab.research.google.com/assets/colab-badge.svg\" alt=\"Open In Colab\"/></a>"
      ]
    },
    {
      "cell_type": "markdown",
      "metadata": {
        "id": "w-RUHj0kHSFa",
        "colab_type": "text"
      },
      "source": [
        "Semana 1 - Pré-Processamento dos Dados.\n",
        "---\n",
        "\n"
      ]
    },
    {
      "cell_type": "markdown",
      "metadata": {
        "id": "fKb9Z7ynHEjA",
        "colab_type": "text"
      },
      "source": [
        "### Importando as bibliotecas"
      ]
    },
    {
      "cell_type": "code",
      "metadata": {
        "id": "Ml7cyyo3abml",
        "colab_type": "code",
        "colab": {}
      },
      "source": [
        "import pandas as pd\n",
        "import random\n",
        "from sklearn.preprocessing import LabelEncoder\n",
        "from sklearn.model_selection import train_test_split\n",
        "from sklearn.preprocessing import StandardScaler\n",
        "from sklearn.model_selection import KFold\n"
      ],
      "execution_count": 0,
      "outputs": []
    },
    {
      "cell_type": "markdown",
      "metadata": {
        "id": "74OGEe-tHc9r",
        "colab_type": "text"
      },
      "source": [
        "### Importando e explorando o dataset"
      ]
    },
    {
      "cell_type": "code",
      "metadata": {
        "id": "XhtrtAb9EvT7",
        "colab_type": "code",
        "outputId": "011b484e-908e-4092-95f7-4fdd7ce5c6e6",
        "colab": {
          "base_uri": "https://localhost:8080/"
        }
      },
      "source": [
        "data_url = 'https://raw.githubusercontent.com/r4phael/ml-course/master/data/preprocessing_data.csv'\n",
        "\n",
        "df = pd.read_csv(data_url)\n",
        "\n",
        "df.head(10)"
      ],
      "execution_count": 0,
      "outputs": [
        {
          "output_type": "execute_result",
          "data": {
            "text/html": [
              "<div>\n",
              "<style scoped>\n",
              "    .dataframe tbody tr th:only-of-type {\n",
              "        vertical-align: middle;\n",
              "    }\n",
              "\n",
              "    .dataframe tbody tr th {\n",
              "        vertical-align: top;\n",
              "    }\n",
              "\n",
              "    .dataframe thead th {\n",
              "        text-align: right;\n",
              "    }\n",
              "</style>\n",
              "<table border=\"1\" class=\"dataframe\">\n",
              "  <thead>\n",
              "    <tr style=\"text-align: right;\">\n",
              "      <th></th>\n",
              "      <th>City</th>\n",
              "      <th>Age</th>\n",
              "      <th>Salary</th>\n",
              "      <th>Sex</th>\n",
              "      <th>Acquired</th>\n",
              "    </tr>\n",
              "  </thead>\n",
              "  <tbody>\n",
              "    <tr>\n",
              "      <th>0</th>\n",
              "      <td>Maceio</td>\n",
              "      <td>42.0</td>\n",
              "      <td>6500.0</td>\n",
              "      <td>M</td>\n",
              "      <td>No</td>\n",
              "    </tr>\n",
              "    <tr>\n",
              "      <th>1</th>\n",
              "      <td>Sao Paulo</td>\n",
              "      <td>21.0</td>\n",
              "      <td>4300.0</td>\n",
              "      <td>F</td>\n",
              "      <td>Yes</td>\n",
              "    </tr>\n",
              "    <tr>\n",
              "      <th>2</th>\n",
              "      <td>Brasilia</td>\n",
              "      <td>28.0</td>\n",
              "      <td>4900.0</td>\n",
              "      <td>F</td>\n",
              "      <td>No</td>\n",
              "    </tr>\n",
              "    <tr>\n",
              "      <th>3</th>\n",
              "      <td>Recife</td>\n",
              "      <td>35.0</td>\n",
              "      <td>5400.0</td>\n",
              "      <td>F</td>\n",
              "      <td>No</td>\n",
              "    </tr>\n",
              "    <tr>\n",
              "      <th>4</th>\n",
              "      <td>Rio de Janeiro</td>\n",
              "      <td>38.0</td>\n",
              "      <td>NaN</td>\n",
              "      <td>M</td>\n",
              "      <td>Yes</td>\n",
              "    </tr>\n",
              "    <tr>\n",
              "      <th>5</th>\n",
              "      <td>Curitiba</td>\n",
              "      <td>33.0</td>\n",
              "      <td>5200.0</td>\n",
              "      <td>M</td>\n",
              "      <td>Yes</td>\n",
              "    </tr>\n",
              "    <tr>\n",
              "      <th>6</th>\n",
              "      <td>Belo Horizonte</td>\n",
              "      <td>NaN</td>\n",
              "      <td>4700.0</td>\n",
              "      <td>F</td>\n",
              "      <td>No</td>\n",
              "    </tr>\n",
              "    <tr>\n",
              "      <th>7</th>\n",
              "      <td>Manaus</td>\n",
              "      <td>45.0</td>\n",
              "      <td>7100.0</td>\n",
              "      <td>M</td>\n",
              "      <td>Yes</td>\n",
              "    </tr>\n",
              "    <tr>\n",
              "      <th>8</th>\n",
              "      <td>Para</td>\n",
              "      <td>51.0</td>\n",
              "      <td>7500.0</td>\n",
              "      <td>F</td>\n",
              "      <td>No</td>\n",
              "    </tr>\n",
              "    <tr>\n",
              "      <th>9</th>\n",
              "      <td>Fortaleza</td>\n",
              "      <td>39.0</td>\n",
              "      <td>6000.0</td>\n",
              "      <td>M</td>\n",
              "      <td>Yes</td>\n",
              "    </tr>\n",
              "  </tbody>\n",
              "</table>\n",
              "</div>"
            ],
            "text/plain": [
              "             City   Age  Salary Sex Acquired\n",
              "0          Maceio  42.0  6500.0   M       No\n",
              "1       Sao Paulo  21.0  4300.0   F      Yes\n",
              "2        Brasilia  28.0  4900.0   F       No\n",
              "3          Recife  35.0  5400.0   F       No\n",
              "4  Rio de Janeiro  38.0     NaN   M      Yes\n",
              "5        Curitiba  33.0  5200.0   M      Yes\n",
              "6  Belo Horizonte   NaN  4700.0   F       No\n",
              "7          Manaus  45.0  7100.0   M      Yes\n",
              "8            Para  51.0  7500.0   F       No\n",
              "9       Fortaleza  39.0  6000.0   M      Yes"
            ]
          },
          "metadata": {
            "tags": []
          },
          "execution_count": 59
        }
      ]
    },
    {
      "cell_type": "markdown",
      "metadata": {
        "id": "G2M6D7WTALj1",
        "colab_type": "text"
      },
      "source": [
        "Descrevendo o dataset"
      ]
    },
    {
      "cell_type": "code",
      "metadata": {
        "id": "yNgIaT9EALvx",
        "colab_type": "code",
        "colab": {}
      },
      "source": [
        "df.info()"
      ],
      "execution_count": 0,
      "outputs": []
    },
    {
      "cell_type": "markdown",
      "metadata": {
        "id": "ZHCi5m6MO7Ob",
        "colab_type": "text"
      },
      "source": [
        "Exibindo o sumário dos valores númericos do dataset:"
      ]
    },
    {
      "cell_type": "code",
      "metadata": {
        "id": "WCQ53_bXO7td",
        "colab_type": "code",
        "outputId": "d6c0ef88-4594-4de3-819d-41de4b62d49d",
        "colab": {
          "base_uri": "https://localhost:8080/"
        }
      },
      "source": [
        "df.describe()"
      ],
      "execution_count": 0,
      "outputs": [
        {
          "output_type": "execute_result",
          "data": {
            "text/html": [
              "<div>\n",
              "<style scoped>\n",
              "    .dataframe tbody tr th:only-of-type {\n",
              "        vertical-align: middle;\n",
              "    }\n",
              "\n",
              "    .dataframe tbody tr th {\n",
              "        vertical-align: top;\n",
              "    }\n",
              "\n",
              "    .dataframe thead th {\n",
              "        text-align: right;\n",
              "    }\n",
              "</style>\n",
              "<table border=\"1\" class=\"dataframe\">\n",
              "  <thead>\n",
              "    <tr style=\"text-align: right;\">\n",
              "      <th></th>\n",
              "      <th>Age</th>\n",
              "      <th>Salary</th>\n",
              "    </tr>\n",
              "  </thead>\n",
              "  <tbody>\n",
              "    <tr>\n",
              "      <th>count</th>\n",
              "      <td>9.000000</td>\n",
              "      <td>9.000000</td>\n",
              "    </tr>\n",
              "    <tr>\n",
              "      <th>mean</th>\n",
              "      <td>36.888889</td>\n",
              "      <td>5733.333333</td>\n",
              "    </tr>\n",
              "    <tr>\n",
              "      <th>std</th>\n",
              "      <td>8.992281</td>\n",
              "      <td>1110.180166</td>\n",
              "    </tr>\n",
              "    <tr>\n",
              "      <th>min</th>\n",
              "      <td>21.000000</td>\n",
              "      <td>4300.000000</td>\n",
              "    </tr>\n",
              "    <tr>\n",
              "      <th>25%</th>\n",
              "      <td>33.000000</td>\n",
              "      <td>4900.000000</td>\n",
              "    </tr>\n",
              "    <tr>\n",
              "      <th>50%</th>\n",
              "      <td>38.000000</td>\n",
              "      <td>5400.000000</td>\n",
              "    </tr>\n",
              "    <tr>\n",
              "      <th>75%</th>\n",
              "      <td>42.000000</td>\n",
              "      <td>6500.000000</td>\n",
              "    </tr>\n",
              "    <tr>\n",
              "      <th>max</th>\n",
              "      <td>51.000000</td>\n",
              "      <td>7500.000000</td>\n",
              "    </tr>\n",
              "  </tbody>\n",
              "</table>\n",
              "</div>"
            ],
            "text/plain": [
              "             Age       Salary\n",
              "count   9.000000     9.000000\n",
              "mean   36.888889  5733.333333\n",
              "std     8.992281  1110.180166\n",
              "min    21.000000  4300.000000\n",
              "25%    33.000000  4900.000000\n",
              "50%    38.000000  5400.000000\n",
              "75%    42.000000  6500.000000\n",
              "max    51.000000  7500.000000"
            ]
          },
          "metadata": {
            "tags": []
          },
          "execution_count": 60
        }
      ]
    },
    {
      "cell_type": "markdown",
      "metadata": {
        "id": "7gWrQyDhEveQ",
        "colab_type": "text"
      },
      "source": [
        "Analisando a Distribuição das váriaveis numéricas em um bloxplot:\n"
      ]
    },
    {
      "cell_type": "code",
      "metadata": {
        "id": "J4EiW3qTEvqV",
        "colab_type": "code",
        "outputId": "8010fcb1-fb2e-4ea5-d6d7-19194c10bfea",
        "colab": {
          "base_uri": "https://localhost:8080/"
        }
      },
      "source": [
        "df.boxplot()"
      ],
      "execution_count": 0,
      "outputs": [
        {
          "output_type": "execute_result",
          "data": {
            "text/plain": [
              "<matplotlib.axes._subplots.AxesSubplot at 0x7f5c63e59be0>"
            ]
          },
          "metadata": {
            "tags": []
          },
          "execution_count": 61
        },
        {
          "output_type": "display_data",
          "data": {
            "image/png": "[encoded data removed]",
            "text/plain": [
              "<Figure size 432x288 with 1 Axes>"
            ]
          },
          "metadata": {
            "tags": []
          }
        }
      ]
    },
    {
      "cell_type": "markdown",
      "metadata": {
        "id": "ihXP7SS4Pn-d",
        "colab_type": "text"
      },
      "source": [
        "Analisando a Distribuição das váriaveis numéricas em um gráfico de barras:\n"
      ]
    },
    {
      "cell_type": "code",
      "metadata": {
        "id": "FvRcBnm0PusM",
        "colab_type": "code",
        "outputId": "bbeb2e0a-25a1-4e30-8d00-feb9e895028d",
        "colab": {
          "base_uri": "https://localhost:8080/"
        }
      },
      "source": [
        "df.hist()"
      ],
      "execution_count": 0,
      "outputs": [
        {
          "output_type": "execute_result",
          "data": {
            "text/plain": [
              "array([[<matplotlib.axes._subplots.AxesSubplot object at 0x7f5c63ebe400>,\n",
              "        <matplotlib.axes._subplots.AxesSubplot object at 0x7f5c63d83e48>]],\n",
              "      dtype=object)"
            ]
          },
          "metadata": {
            "tags": []
          },
          "execution_count": 62
        },
        {
          "output_type": "display_data",
          "data": {
            "image/png": "[encoded data removed]",
            "text/plain": [
              "<Figure size 432x288 with 2 Axes>"
            ]
          },
          "metadata": {
            "tags": []
          }
        }
      ]
    },
    {
      "cell_type": "markdown",
      "metadata": {
        "id": "gEICvoB2ILQW",
        "colab_type": "text"
      },
      "source": [
        "### Manipulação e tratamento dos dados."
      ]
    },
    {
      "cell_type": "markdown",
      "metadata": {
        "id": "n-mT0CzXu2mE",
        "colab_type": "text"
      },
      "source": [
        "Detectando registros com valores nulos no dataframe:"
      ]
    },
    {
      "cell_type": "code",
      "metadata": {
        "id": "62wWTUYXu2ZM",
        "colab_type": "code",
        "outputId": "ec57b411-4f40-476a-ebf5-6e9d4e97b249",
        "colab": {
          "base_uri": "https://localhost:8080/"
        }
      },
      "source": [
        "df[df.isnull().any(axis=1)]"
      ],
      "execution_count": 0,
      "outputs": [
        {
          "output_type": "execute_result",
          "data": {
            "text/html": [
              "<div>\n",
              "<style scoped>\n",
              "    .dataframe tbody tr th:only-of-type {\n",
              "        vertical-align: middle;\n",
              "    }\n",
              "\n",
              "    .dataframe tbody tr th {\n",
              "        vertical-align: top;\n",
              "    }\n",
              "\n",
              "    .dataframe thead th {\n",
              "        text-align: right;\n",
              "    }\n",
              "</style>\n",
              "<table border=\"1\" class=\"dataframe\">\n",
              "  <thead>\n",
              "    <tr style=\"text-align: right;\">\n",
              "      <th></th>\n",
              "      <th>City</th>\n",
              "      <th>Age</th>\n",
              "      <th>Salary</th>\n",
              "      <th>Sex</th>\n",
              "      <th>Acquired</th>\n",
              "    </tr>\n",
              "  </thead>\n",
              "  <tbody>\n",
              "    <tr>\n",
              "      <th>4</th>\n",
              "      <td>Rio de Janeiro</td>\n",
              "      <td>38.0</td>\n",
              "      <td>NaN</td>\n",
              "      <td>M</td>\n",
              "      <td>Yes</td>\n",
              "    </tr>\n",
              "    <tr>\n",
              "      <th>6</th>\n",
              "      <td>Belo Horizonte</td>\n",
              "      <td>NaN</td>\n",
              "      <td>4700.0</td>\n",
              "      <td>F</td>\n",
              "      <td>No</td>\n",
              "    </tr>\n",
              "  </tbody>\n",
              "</table>\n",
              "</div>"
            ],
            "text/plain": [
              "             City   Age  Salary Sex Acquired\n",
              "4  Rio de Janeiro  38.0     NaN   M      Yes\n",
              "6  Belo Horizonte   NaN  4700.0   F       No"
            ]
          },
          "metadata": {
            "tags": []
          },
          "execution_count": 63
        }
      ]
    },
    {
      "cell_type": "markdown",
      "metadata": {
        "id": "vUqdThImwA49",
        "colab_type": "text"
      },
      "source": [
        "Deletando registros com valores nulos:"
      ]
    },
    {
      "cell_type": "code",
      "metadata": {
        "id": "q5eiqJbywBLL",
        "colab_type": "code",
        "outputId": "35844a3a-2b07-411f-f07a-16f6afaf61a2",
        "colab": {
          "base_uri": "https://localhost:8080/"
        }
      },
      "source": [
        "df.dropna()"
      ],
      "execution_count": 0,
      "outputs": [
        {
          "output_type": "execute_result",
          "data": {
            "text/html": [
              "<div>\n",
              "<style scoped>\n",
              "    .dataframe tbody tr th:only-of-type {\n",
              "        vertical-align: middle;\n",
              "    }\n",
              "\n",
              "    .dataframe tbody tr th {\n",
              "        vertical-align: top;\n",
              "    }\n",
              "\n",
              "    .dataframe thead th {\n",
              "        text-align: right;\n",
              "    }\n",
              "</style>\n",
              "<table border=\"1\" class=\"dataframe\">\n",
              "  <thead>\n",
              "    <tr style=\"text-align: right;\">\n",
              "      <th></th>\n",
              "      <th>City</th>\n",
              "      <th>Age</th>\n",
              "      <th>Salary</th>\n",
              "      <th>Sex</th>\n",
              "      <th>Acquired</th>\n",
              "    </tr>\n",
              "  </thead>\n",
              "  <tbody>\n",
              "    <tr>\n",
              "      <th>0</th>\n",
              "      <td>Maceio</td>\n",
              "      <td>42.0</td>\n",
              "      <td>6500.0</td>\n",
              "      <td>M</td>\n",
              "      <td>No</td>\n",
              "    </tr>\n",
              "    <tr>\n",
              "      <th>1</th>\n",
              "      <td>Sao Paulo</td>\n",
              "      <td>21.0</td>\n",
              "      <td>4300.0</td>\n",
              "      <td>F</td>\n",
              "      <td>Yes</td>\n",
              "    </tr>\n",
              "    <tr>\n",
              "      <th>2</th>\n",
              "      <td>Brasilia</td>\n",
              "      <td>28.0</td>\n",
              "      <td>4900.0</td>\n",
              "      <td>F</td>\n",
              "      <td>No</td>\n",
              "    </tr>\n",
              "    <tr>\n",
              "      <th>3</th>\n",
              "      <td>Recife</td>\n",
              "      <td>35.0</td>\n",
              "      <td>5400.0</td>\n",
              "      <td>F</td>\n",
              "      <td>No</td>\n",
              "    </tr>\n",
              "    <tr>\n",
              "      <th>5</th>\n",
              "      <td>Curitiba</td>\n",
              "      <td>33.0</td>\n",
              "      <td>5200.0</td>\n",
              "      <td>M</td>\n",
              "      <td>Yes</td>\n",
              "    </tr>\n",
              "    <tr>\n",
              "      <th>7</th>\n",
              "      <td>Manaus</td>\n",
              "      <td>45.0</td>\n",
              "      <td>7100.0</td>\n",
              "      <td>M</td>\n",
              "      <td>Yes</td>\n",
              "    </tr>\n",
              "    <tr>\n",
              "      <th>8</th>\n",
              "      <td>Para</td>\n",
              "      <td>51.0</td>\n",
              "      <td>7500.0</td>\n",
              "      <td>F</td>\n",
              "      <td>No</td>\n",
              "    </tr>\n",
              "    <tr>\n",
              "      <th>9</th>\n",
              "      <td>Fortaleza</td>\n",
              "      <td>39.0</td>\n",
              "      <td>6000.0</td>\n",
              "      <td>M</td>\n",
              "      <td>Yes</td>\n",
              "    </tr>\n",
              "  </tbody>\n",
              "</table>\n",
              "</div>"
            ],
            "text/plain": [
              "        City   Age  Salary Sex Acquired\n",
              "0     Maceio  42.0  6500.0   M       No\n",
              "1  Sao Paulo  21.0  4300.0   F      Yes\n",
              "2   Brasilia  28.0  4900.0   F       No\n",
              "3     Recife  35.0  5400.0   F       No\n",
              "5   Curitiba  33.0  5200.0   M      Yes\n",
              "7     Manaus  45.0  7100.0   M      Yes\n",
              "8       Para  51.0  7500.0   F       No\n",
              "9  Fortaleza  39.0  6000.0   M      Yes"
            ]
          },
          "metadata": {
            "tags": []
          },
          "execution_count": 64
        }
      ]
    },
    {
      "cell_type": "markdown",
      "metadata": {
        "id": "BLxBSWlxuPMs",
        "colab_type": "text"
      },
      "source": [
        "Preenchendo os registros nuḿericos que não possuem valores com zeros:"
      ]
    },
    {
      "cell_type": "code",
      "metadata": {
        "id": "_VdmKni6uFJm",
        "colab_type": "code",
        "outputId": "fcacb180-7c89-4389-b25a-3bd94470147d",
        "colab": {
          "base_uri": "https://localhost:8080/"
        }
      },
      "source": [
        "df.fillna(0)"
      ],
      "execution_count": 0,
      "outputs": [
        {
          "output_type": "execute_result",
          "data": {
            "text/html": [
              "<div>\n",
              "<style scoped>\n",
              "    .dataframe tbody tr th:only-of-type {\n",
              "        vertical-align: middle;\n",
              "    }\n",
              "\n",
              "    .dataframe tbody tr th {\n",
              "        vertical-align: top;\n",
              "    }\n",
              "\n",
              "    .dataframe thead th {\n",
              "        text-align: right;\n",
              "    }\n",
              "</style>\n",
              "<table border=\"1\" class=\"dataframe\">\n",
              "  <thead>\n",
              "    <tr style=\"text-align: right;\">\n",
              "      <th></th>\n",
              "      <th>City</th>\n",
              "      <th>Age</th>\n",
              "      <th>Salary</th>\n",
              "      <th>Sex</th>\n",
              "      <th>Acquired</th>\n",
              "    </tr>\n",
              "  </thead>\n",
              "  <tbody>\n",
              "    <tr>\n",
              "      <th>0</th>\n",
              "      <td>Maceio</td>\n",
              "      <td>42.0</td>\n",
              "      <td>6500.0</td>\n",
              "      <td>M</td>\n",
              "      <td>No</td>\n",
              "    </tr>\n",
              "    <tr>\n",
              "      <th>1</th>\n",
              "      <td>Sao Paulo</td>\n",
              "      <td>21.0</td>\n",
              "      <td>4300.0</td>\n",
              "      <td>F</td>\n",
              "      <td>Yes</td>\n",
              "    </tr>\n",
              "    <tr>\n",
              "      <th>2</th>\n",
              "      <td>Brasilia</td>\n",
              "      <td>28.0</td>\n",
              "      <td>4900.0</td>\n",
              "      <td>F</td>\n",
              "      <td>No</td>\n",
              "    </tr>\n",
              "    <tr>\n",
              "      <th>3</th>\n",
              "      <td>Recife</td>\n",
              "      <td>35.0</td>\n",
              "      <td>5400.0</td>\n",
              "      <td>F</td>\n",
              "      <td>No</td>\n",
              "    </tr>\n",
              "    <tr>\n",
              "      <th>4</th>\n",
              "      <td>Rio de Janeiro</td>\n",
              "      <td>38.0</td>\n",
              "      <td>0.0</td>\n",
              "      <td>M</td>\n",
              "      <td>Yes</td>\n",
              "    </tr>\n",
              "    <tr>\n",
              "      <th>5</th>\n",
              "      <td>Curitiba</td>\n",
              "      <td>33.0</td>\n",
              "      <td>5200.0</td>\n",
              "      <td>M</td>\n",
              "      <td>Yes</td>\n",
              "    </tr>\n",
              "    <tr>\n",
              "      <th>6</th>\n",
              "      <td>Belo Horizonte</td>\n",
              "      <td>0.0</td>\n",
              "      <td>4700.0</td>\n",
              "      <td>F</td>\n",
              "      <td>No</td>\n",
              "    </tr>\n",
              "    <tr>\n",
              "      <th>7</th>\n",
              "      <td>Manaus</td>\n",
              "      <td>45.0</td>\n",
              "      <td>7100.0</td>\n",
              "      <td>M</td>\n",
              "      <td>Yes</td>\n",
              "    </tr>\n",
              "    <tr>\n",
              "      <th>8</th>\n",
              "      <td>Para</td>\n",
              "      <td>51.0</td>\n",
              "      <td>7500.0</td>\n",
              "      <td>F</td>\n",
              "      <td>No</td>\n",
              "    </tr>\n",
              "    <tr>\n",
              "      <th>9</th>\n",
              "      <td>Fortaleza</td>\n",
              "      <td>39.0</td>\n",
              "      <td>6000.0</td>\n",
              "      <td>M</td>\n",
              "      <td>Yes</td>\n",
              "    </tr>\n",
              "  </tbody>\n",
              "</table>\n",
              "</div>"
            ],
            "text/plain": [
              "             City   Age  Salary Sex Acquired\n",
              "0          Maceio  42.0  6500.0   M       No\n",
              "1       Sao Paulo  21.0  4300.0   F      Yes\n",
              "2        Brasilia  28.0  4900.0   F       No\n",
              "3          Recife  35.0  5400.0   F       No\n",
              "4  Rio de Janeiro  38.0     0.0   M      Yes\n",
              "5        Curitiba  33.0  5200.0   M      Yes\n",
              "6  Belo Horizonte   0.0  4700.0   F       No\n",
              "7          Manaus  45.0  7100.0   M      Yes\n",
              "8            Para  51.0  7500.0   F       No\n",
              "9       Fortaleza  39.0  6000.0   M      Yes"
            ]
          },
          "metadata": {
            "tags": []
          },
          "execution_count": 65
        }
      ]
    },
    {
      "cell_type": "markdown",
      "metadata": {
        "id": "7C_huRY_uXyL",
        "colab_type": "text"
      },
      "source": [
        "Preenchendo os registros nuḿericos que não possuem valores com a média."
      ]
    },
    {
      "cell_type": "code",
      "metadata": {
        "id": "7b-CHNA_uXos",
        "colab_type": "code",
        "outputId": "a316b38d-dfcf-4f52-f386-147a65d3f43f",
        "colab": {
          "base_uri": "https://localhost:8080/"
        }
      },
      "source": [
        "df.fillna(df.mean())"
      ],
      "execution_count": 0,
      "outputs": [
        {
          "output_type": "execute_result",
          "data": {
            "text/html": [
              "<div>\n",
              "<style scoped>\n",
              "    .dataframe tbody tr th:only-of-type {\n",
              "        vertical-align: middle;\n",
              "    }\n",
              "\n",
              "    .dataframe tbody tr th {\n",
              "        vertical-align: top;\n",
              "    }\n",
              "\n",
              "    .dataframe thead th {\n",
              "        text-align: right;\n",
              "    }\n",
              "</style>\n",
              "<table border=\"1\" class=\"dataframe\">\n",
              "  <thead>\n",
              "    <tr style=\"text-align: right;\">\n",
              "      <th></th>\n",
              "      <th>City</th>\n",
              "      <th>Age</th>\n",
              "      <th>Salary</th>\n",
              "      <th>Sex</th>\n",
              "      <th>Acquired</th>\n",
              "    </tr>\n",
              "  </thead>\n",
              "  <tbody>\n",
              "    <tr>\n",
              "      <th>0</th>\n",
              "      <td>Maceio</td>\n",
              "      <td>42.000000</td>\n",
              "      <td>6500.000000</td>\n",
              "      <td>M</td>\n",
              "      <td>No</td>\n",
              "    </tr>\n",
              "    <tr>\n",
              "      <th>1</th>\n",
              "      <td>Sao Paulo</td>\n",
              "      <td>21.000000</td>\n",
              "      <td>4300.000000</td>\n",
              "      <td>F</td>\n",
              "      <td>Yes</td>\n",
              "    </tr>\n",
              "    <tr>\n",
              "      <th>2</th>\n",
              "      <td>Brasilia</td>\n",
              "      <td>28.000000</td>\n",
              "      <td>4900.000000</td>\n",
              "      <td>F</td>\n",
              "      <td>No</td>\n",
              "    </tr>\n",
              "    <tr>\n",
              "      <th>3</th>\n",
              "      <td>Recife</td>\n",
              "      <td>35.000000</td>\n",
              "      <td>5400.000000</td>\n",
              "      <td>F</td>\n",
              "      <td>No</td>\n",
              "    </tr>\n",
              "    <tr>\n",
              "      <th>4</th>\n",
              "      <td>Rio de Janeiro</td>\n",
              "      <td>38.000000</td>\n",
              "      <td>5733.333333</td>\n",
              "      <td>M</td>\n",
              "      <td>Yes</td>\n",
              "    </tr>\n",
              "    <tr>\n",
              "      <th>5</th>\n",
              "      <td>Curitiba</td>\n",
              "      <td>33.000000</td>\n",
              "      <td>5200.000000</td>\n",
              "      <td>M</td>\n",
              "      <td>Yes</td>\n",
              "    </tr>\n",
              "    <tr>\n",
              "      <th>6</th>\n",
              "      <td>Belo Horizonte</td>\n",
              "      <td>36.888889</td>\n",
              "      <td>4700.000000</td>\n",
              "      <td>F</td>\n",
              "      <td>No</td>\n",
              "    </tr>\n",
              "    <tr>\n",
              "      <th>7</th>\n",
              "      <td>Manaus</td>\n",
              "      <td>45.000000</td>\n",
              "      <td>7100.000000</td>\n",
              "      <td>M</td>\n",
              "      <td>Yes</td>\n",
              "    </tr>\n",
              "    <tr>\n",
              "      <th>8</th>\n",
              "      <td>Para</td>\n",
              "      <td>51.000000</td>\n",
              "      <td>7500.000000</td>\n",
              "      <td>F</td>\n",
              "      <td>No</td>\n",
              "    </tr>\n",
              "    <tr>\n",
              "      <th>9</th>\n",
              "      <td>Fortaleza</td>\n",
              "      <td>39.000000</td>\n",
              "      <td>6000.000000</td>\n",
              "      <td>M</td>\n",
              "      <td>Yes</td>\n",
              "    </tr>\n",
              "  </tbody>\n",
              "</table>\n",
              "</div>"
            ],
            "text/plain": [
              "             City        Age       Salary Sex Acquired\n",
              "0          Maceio  42.000000  6500.000000   M       No\n",
              "1       Sao Paulo  21.000000  4300.000000   F      Yes\n",
              "2        Brasilia  28.000000  4900.000000   F       No\n",
              "3          Recife  35.000000  5400.000000   F       No\n",
              "4  Rio de Janeiro  38.000000  5733.333333   M      Yes\n",
              "5        Curitiba  33.000000  5200.000000   M      Yes\n",
              "6  Belo Horizonte  36.888889  4700.000000   F       No\n",
              "7          Manaus  45.000000  7100.000000   M      Yes\n",
              "8            Para  51.000000  7500.000000   F       No\n",
              "9       Fortaleza  39.000000  6000.000000   M      Yes"
            ]
          },
          "metadata": {
            "tags": []
          },
          "execution_count": 66
        }
      ]
    },
    {
      "cell_type": "markdown",
      "metadata": {
        "id": "Pb9BNG6JEv0q",
        "colab_type": "text"
      },
      "source": [
        "Salvando o dataframe com os registros nuḿericos que não possuem valores com a mediana."
      ]
    },
    {
      "cell_type": "code",
      "metadata": {
        "id": "5YZvU837Ev9n",
        "colab_type": "code",
        "outputId": "e0d77e3e-7758-458e-8f71-b68035cf115b",
        "colab": {
          "base_uri": "https://localhost:8080/"
        }
      },
      "source": [
        "df = df.fillna(df.median())\n",
        "df"
      ],
      "execution_count": 0,
      "outputs": [
        {
          "output_type": "execute_result",
          "data": {
            "text/html": [
              "<div>\n",
              "<style scoped>\n",
              "    .dataframe tbody tr th:only-of-type {\n",
              "        vertical-align: middle;\n",
              "    }\n",
              "\n",
              "    .dataframe tbody tr th {\n",
              "        vertical-align: top;\n",
              "    }\n",
              "\n",
              "    .dataframe thead th {\n",
              "        text-align: right;\n",
              "    }\n",
              "</style>\n",
              "<table border=\"1\" class=\"dataframe\">\n",
              "  <thead>\n",
              "    <tr style=\"text-align: right;\">\n",
              "      <th></th>\n",
              "      <th>City</th>\n",
              "      <th>Age</th>\n",
              "      <th>Salary</th>\n",
              "      <th>Sex</th>\n",
              "      <th>Acquired</th>\n",
              "    </tr>\n",
              "  </thead>\n",
              "  <tbody>\n",
              "    <tr>\n",
              "      <th>0</th>\n",
              "      <td>Maceio</td>\n",
              "      <td>42.0</td>\n",
              "      <td>6500.0</td>\n",
              "      <td>M</td>\n",
              "      <td>No</td>\n",
              "    </tr>\n",
              "    <tr>\n",
              "      <th>1</th>\n",
              "      <td>Sao Paulo</td>\n",
              "      <td>21.0</td>\n",
              "      <td>4300.0</td>\n",
              "      <td>F</td>\n",
              "      <td>Yes</td>\n",
              "    </tr>\n",
              "    <tr>\n",
              "      <th>2</th>\n",
              "      <td>Brasilia</td>\n",
              "      <td>28.0</td>\n",
              "      <td>4900.0</td>\n",
              "      <td>F</td>\n",
              "      <td>No</td>\n",
              "    </tr>\n",
              "    <tr>\n",
              "      <th>3</th>\n",
              "      <td>Recife</td>\n",
              "      <td>35.0</td>\n",
              "      <td>5400.0</td>\n",
              "      <td>F</td>\n",
              "      <td>No</td>\n",
              "    </tr>\n",
              "    <tr>\n",
              "      <th>4</th>\n",
              "      <td>Rio de Janeiro</td>\n",
              "      <td>38.0</td>\n",
              "      <td>5400.0</td>\n",
              "      <td>M</td>\n",
              "      <td>Yes</td>\n",
              "    </tr>\n",
              "    <tr>\n",
              "      <th>5</th>\n",
              "      <td>Curitiba</td>\n",
              "      <td>33.0</td>\n",
              "      <td>5200.0</td>\n",
              "      <td>M</td>\n",
              "      <td>Yes</td>\n",
              "    </tr>\n",
              "    <tr>\n",
              "      <th>6</th>\n",
              "      <td>Belo Horizonte</td>\n",
              "      <td>38.0</td>\n",
              "      <td>4700.0</td>\n",
              "      <td>F</td>\n",
              "      <td>No</td>\n",
              "    </tr>\n",
              "    <tr>\n",
              "      <th>7</th>\n",
              "      <td>Manaus</td>\n",
              "      <td>45.0</td>\n",
              "      <td>7100.0</td>\n",
              "      <td>M</td>\n",
              "      <td>Yes</td>\n",
              "    </tr>\n",
              "    <tr>\n",
              "      <th>8</th>\n",
              "      <td>Para</td>\n",
              "      <td>51.0</td>\n",
              "      <td>7500.0</td>\n",
              "      <td>F</td>\n",
              "      <td>No</td>\n",
              "    </tr>\n",
              "    <tr>\n",
              "      <th>9</th>\n",
              "      <td>Fortaleza</td>\n",
              "      <td>39.0</td>\n",
              "      <td>6000.0</td>\n",
              "      <td>M</td>\n",
              "      <td>Yes</td>\n",
              "    </tr>\n",
              "  </tbody>\n",
              "</table>\n",
              "</div>"
            ],
            "text/plain": [
              "             City   Age  Salary Sex Acquired\n",
              "0          Maceio  42.0  6500.0   M       No\n",
              "1       Sao Paulo  21.0  4300.0   F      Yes\n",
              "2        Brasilia  28.0  4900.0   F       No\n",
              "3          Recife  35.0  5400.0   F       No\n",
              "4  Rio de Janeiro  38.0  5400.0   M      Yes\n",
              "5        Curitiba  33.0  5200.0   M      Yes\n",
              "6  Belo Horizonte  38.0  4700.0   F       No\n",
              "7          Manaus  45.0  7100.0   M      Yes\n",
              "8            Para  51.0  7500.0   F       No\n",
              "9       Fortaleza  39.0  6000.0   M      Yes"
            ]
          },
          "metadata": {
            "tags": []
          },
          "execution_count": 67
        }
      ]
    },
    {
      "cell_type": "markdown",
      "metadata": {
        "id": "KosHK6EKEwIO",
        "colab_type": "text"
      },
      "source": [
        "Definindos as variáveis independentes (X) e dependentes (y)."
      ]
    },
    {
      "cell_type": "code",
      "metadata": {
        "id": "dyTqObUCEwQc",
        "colab_type": "code",
        "outputId": "61ddede4-5eda-4ac1-da63-14cae4710172",
        "colab": {
          "base_uri": "https://localhost:8080/"
        }
      },
      "source": [
        "X = df.iloc[:, :-1].values\n",
        "X"
      ],
      "execution_count": 0,
      "outputs": [
        {
          "output_type": "execute_result",
          "data": {
            "text/plain": [
              "array([['Maceio', 42.0, 6500.0, 'M'],\n",
              "       ['Sao Paulo', 21.0, 4300.0, 'F'],\n",
              "       ['Brasilia', 28.0, 4900.0, 'F'],\n",
              "       ['Recife', 35.0, 5400.0, 'F'],\n",
              "       ['Rio de Janeiro', 38.0, 5400.0, 'M'],\n",
              "       ['Curitiba', 33.0, 5200.0, 'M'],\n",
              "       ['Belo Horizonte', 38.0, 4700.0, 'F'],\n",
              "       ['Manaus', 45.0, 7100.0, 'M'],\n",
              "       ['Para', 51.0, 7500.0, 'F'],\n",
              "       ['Fortaleza', 39.0, 6000.0, 'M']], dtype=object)"
            ]
          },
          "metadata": {
            "tags": []
          },
          "execution_count": 68
        }
      ]
    },
    {
      "cell_type": "code",
      "metadata": {
        "id": "9S0CTHw7kULG",
        "colab_type": "code",
        "outputId": "2168184f-3f0f-4246-c0fb-93322c9e1212",
        "colab": {
          "base_uri": "https://localhost:8080/"
        }
      },
      "source": [
        "y = df.iloc[:, 4].values\n",
        "y"
      ],
      "execution_count": 0,
      "outputs": [
        {
          "output_type": "execute_result",
          "data": {
            "text/plain": [
              "array(['No', 'Yes', 'No', 'No', 'Yes', 'Yes', 'No', 'Yes', 'No', 'Yes'],\n",
              "      dtype=object)"
            ]
          },
          "metadata": {
            "tags": []
          },
          "execution_count": 69
        }
      ]
    },
    {
      "cell_type": "markdown",
      "metadata": {
        "id": "L8PiCd7EFOlC",
        "colab_type": "text"
      },
      "source": [
        "Codificando os valores da variável dependente (y) com valores númericos. "
      ]
    },
    {
      "cell_type": "code",
      "metadata": {
        "id": "-GTNjfslFovI",
        "colab_type": "code",
        "outputId": "7a50b15d-1b3a-4424-8f25-27940890820f",
        "colab": {
          "base_uri": "https://localhost:8080/"
        }
      },
      "source": [
        "le = LabelEncoder()\n",
        "\n",
        "y = df.iloc[:, 4].values\n",
        "y = le.fit_transform(y)\n",
        "\n",
        "y\n"
      ],
      "execution_count": 0,
      "outputs": [
        {
          "output_type": "execute_result",
          "data": {
            "text/plain": [
              "array([0, 1, 0, 0, 1, 1, 0, 1, 0, 1])"
            ]
          },
          "metadata": {
            "tags": []
          },
          "execution_count": 70
        }
      ]
    },
    {
      "cell_type": "markdown",
      "metadata": {
        "id": "lIlc1hbuFv-W",
        "colab_type": "text"
      },
      "source": [
        "Criando variáveis Dummy. \n",
        "\n",
        "*Obs*: Algumas técnicas de aprendizado de máquina exigem que você elimine uma dimensão da apresentação para evitar a dependência entre as variáveis. Isso pode ser feito através do parâmetro \"drop_first = True\"."
      ]
    },
    {
      "cell_type": "code",
      "metadata": {
        "id": "Nt16kmUhFzw1",
        "colab_type": "code",
        "outputId": "03552311-6c08-40fe-d2a3-bdb03ae07a18",
        "colab": {
          "base_uri": "https://localhost:8080/"
        }
      },
      "source": [
        "X = pd.get_dummies(df.iloc[:, :-1] ,prefix=['city', 'sex'], drop_first=True).values\n",
        "y = df.iloc[:, 4].values\n",
        "\n",
        "pd.get_dummies(df.iloc[:, :-1] ,prefix=['city', 'sex'], drop_first=True)"
      ],
      "execution_count": 0,
      "outputs": [
        {
          "output_type": "execute_result",
          "data": {
            "text/html": [
              "<div>\n",
              "<style scoped>\n",
              "    .dataframe tbody tr th:only-of-type {\n",
              "        vertical-align: middle;\n",
              "    }\n",
              "\n",
              "    .dataframe tbody tr th {\n",
              "        vertical-align: top;\n",
              "    }\n",
              "\n",
              "    .dataframe thead th {\n",
              "        text-align: right;\n",
              "    }\n",
              "</style>\n",
              "<table border=\"1\" class=\"dataframe\">\n",
              "  <thead>\n",
              "    <tr style=\"text-align: right;\">\n",
              "      <th></th>\n",
              "      <th>Age</th>\n",
              "      <th>Salary</th>\n",
              "      <th>city_Brasilia</th>\n",
              "      <th>city_Curitiba</th>\n",
              "      <th>city_Fortaleza</th>\n",
              "      <th>city_Maceio</th>\n",
              "      <th>city_Manaus</th>\n",
              "      <th>city_Para</th>\n",
              "      <th>city_Recife</th>\n",
              "      <th>city_Rio de Janeiro</th>\n",
              "      <th>city_Sao Paulo</th>\n",
              "      <th>sex_M</th>\n",
              "    </tr>\n",
              "  </thead>\n",
              "  <tbody>\n",
              "    <tr>\n",
              "      <th>0</th>\n",
              "      <td>42.0</td>\n",
              "      <td>6500.0</td>\n",
              "      <td>0</td>\n",
              "      <td>0</td>\n",
              "      <td>0</td>\n",
              "      <td>1</td>\n",
              "      <td>0</td>\n",
              "      <td>0</td>\n",
              "      <td>0</td>\n",
              "      <td>0</td>\n",
              "      <td>0</td>\n",
              "      <td>1</td>\n",
              "    </tr>\n",
              "    <tr>\n",
              "      <th>1</th>\n",
              "      <td>21.0</td>\n",
              "      <td>4300.0</td>\n",
              "      <td>0</td>\n",
              "      <td>0</td>\n",
              "      <td>0</td>\n",
              "      <td>0</td>\n",
              "      <td>0</td>\n",
              "      <td>0</td>\n",
              "      <td>0</td>\n",
              "      <td>0</td>\n",
              "      <td>1</td>\n",
              "      <td>0</td>\n",
              "    </tr>\n",
              "    <tr>\n",
              "      <th>2</th>\n",
              "      <td>28.0</td>\n",
              "      <td>4900.0</td>\n",
              "      <td>1</td>\n",
              "      <td>0</td>\n",
              "      <td>0</td>\n",
              "      <td>0</td>\n",
              "      <td>0</td>\n",
              "      <td>0</td>\n",
              "      <td>0</td>\n",
              "      <td>0</td>\n",
              "      <td>0</td>\n",
              "      <td>0</td>\n",
              "    </tr>\n",
              "    <tr>\n",
              "      <th>3</th>\n",
              "      <td>35.0</td>\n",
              "      <td>5400.0</td>\n",
              "      <td>0</td>\n",
              "      <td>0</td>\n",
              "      <td>0</td>\n",
              "      <td>0</td>\n",
              "      <td>0</td>\n",
              "      <td>0</td>\n",
              "      <td>1</td>\n",
              "      <td>0</td>\n",
              "      <td>0</td>\n",
              "      <td>0</td>\n",
              "    </tr>\n",
              "    <tr>\n",
              "      <th>4</th>\n",
              "      <td>38.0</td>\n",
              "      <td>5400.0</td>\n",
              "      <td>0</td>\n",
              "      <td>0</td>\n",
              "      <td>0</td>\n",
              "      <td>0</td>\n",
              "      <td>0</td>\n",
              "      <td>0</td>\n",
              "      <td>0</td>\n",
              "      <td>1</td>\n",
              "      <td>0</td>\n",
              "      <td>1</td>\n",
              "    </tr>\n",
              "    <tr>\n",
              "      <th>5</th>\n",
              "      <td>33.0</td>\n",
              "      <td>5200.0</td>\n",
              "      <td>0</td>\n",
              "      <td>1</td>\n",
              "      <td>0</td>\n",
              "      <td>0</td>\n",
              "      <td>0</td>\n",
              "      <td>0</td>\n",
              "      <td>0</td>\n",
              "      <td>0</td>\n",
              "      <td>0</td>\n",
              "      <td>1</td>\n",
              "    </tr>\n",
              "    <tr>\n",
              "      <th>6</th>\n",
              "      <td>38.0</td>\n",
              "      <td>4700.0</td>\n",
              "      <td>0</td>\n",
              "      <td>0</td>\n",
              "      <td>0</td>\n",
              "      <td>0</td>\n",
              "      <td>0</td>\n",
              "      <td>0</td>\n",
              "      <td>0</td>\n",
              "      <td>0</td>\n",
              "      <td>0</td>\n",
              "      <td>0</td>\n",
              "    </tr>\n",
              "    <tr>\n",
              "      <th>7</th>\n",
              "      <td>45.0</td>\n",
              "      <td>7100.0</td>\n",
              "      <td>0</td>\n",
              "      <td>0</td>\n",
              "      <td>0</td>\n",
              "      <td>0</td>\n",
              "      <td>1</td>\n",
              "      <td>0</td>\n",
              "      <td>0</td>\n",
              "      <td>0</td>\n",
              "      <td>0</td>\n",
              "      <td>1</td>\n",
              "    </tr>\n",
              "    <tr>\n",
              "      <th>8</th>\n",
              "      <td>51.0</td>\n",
              "      <td>7500.0</td>\n",
              "      <td>0</td>\n",
              "      <td>0</td>\n",
              "      <td>0</td>\n",
              "      <td>0</td>\n",
              "      <td>0</td>\n",
              "      <td>1</td>\n",
              "      <td>0</td>\n",
              "      <td>0</td>\n",
              "      <td>0</td>\n",
              "      <td>0</td>\n",
              "    </tr>\n",
              "    <tr>\n",
              "      <th>9</th>\n",
              "      <td>39.0</td>\n",
              "      <td>6000.0</td>\n",
              "      <td>0</td>\n",
              "      <td>0</td>\n",
              "      <td>1</td>\n",
              "      <td>0</td>\n",
              "      <td>0</td>\n",
              "      <td>0</td>\n",
              "      <td>0</td>\n",
              "      <td>0</td>\n",
              "      <td>0</td>\n",
              "      <td>1</td>\n",
              "    </tr>\n",
              "  </tbody>\n",
              "</table>\n",
              "</div>"
            ],
            "text/plain": [
              "    Age  Salary  city_Brasilia  ...  city_Rio de Janeiro  city_Sao Paulo  sex_M\n",
              "0  42.0  6500.0              0  ...                    0               0      1\n",
              "1  21.0  4300.0              0  ...                    0               1      0\n",
              "2  28.0  4900.0              1  ...                    0               0      0\n",
              "3  35.0  5400.0              0  ...                    0               0      0\n",
              "4  38.0  5400.0              0  ...                    1               0      1\n",
              "5  33.0  5200.0              0  ...                    0               0      1\n",
              "6  38.0  4700.0              0  ...                    0               0      0\n",
              "7  45.0  7100.0              0  ...                    0               0      1\n",
              "8  51.0  7500.0              0  ...                    0               0      0\n",
              "9  39.0  6000.0              0  ...                    0               0      1\n",
              "\n",
              "[10 rows x 12 columns]"
            ]
          },
          "metadata": {
            "tags": []
          },
          "execution_count": 71
        }
      ]
    },
    {
      "cell_type": "markdown",
      "metadata": {
        "id": "XHtEVAJIzIfa",
        "colab_type": "text"
      },
      "source": [
        "Criando a função de escalonamento:"
      ]
    },
    {
      "cell_type": "code",
      "metadata": {
        "id": "AUZumBlBzJbC",
        "colab_type": "code",
        "colab": {}
      },
      "source": [
        "# Função de escalonamento\n",
        "def feature_scaling(data):\n",
        "    sc = StandardScaler()\n",
        "    return sc.fit_transform(data)"
      ],
      "execution_count": 0,
      "outputs": []
    },
    {
      "cell_type": "markdown",
      "metadata": {
        "id": "4uj0JsZjGOBr",
        "colab_type": "text"
      },
      "source": [
        "Visualizando a primeira instância do array de features após a aplicação da transformação do escalonamento."
      ]
    },
    {
      "cell_type": "code",
      "metadata": {
        "id": "VAsr0iLCGN3N",
        "colab_type": "code",
        "outputId": "4b17bc11-1728-4bdc-ce0e-8f4589b44099",
        "colab": {
          "base_uri": "https://localhost:8080/"
        }
      },
      "source": [
        "sc = StandardScaler()\n",
        "X = sc.fit_transform(X)\n",
        "\n",
        "X[1]"
      ],
      "execution_count": 0,
      "outputs": [
        {
          "output_type": "execute_result",
          "data": {
            "text/plain": [
              "array([-1.98761598, -1.40280843, -0.33333333, -0.33333333, -0.33333333,\n",
              "       -0.33333333, -0.33333333, -0.33333333, -0.33333333, -0.33333333,\n",
              "        3.        , -1.        ])"
            ]
          },
          "metadata": {
            "tags": []
          },
          "execution_count": 73
        }
      ]
    },
    {
      "cell_type": "markdown",
      "metadata": {
        "id": "mSshNQlPx7fT",
        "colab_type": "text"
      },
      "source": [
        "### Medidas de Efetividade"
      ]
    },
    {
      "cell_type": "markdown",
      "metadata": {
        "id": "zD4tGNnryE1V",
        "colab_type": "text"
      },
      "source": [
        "Criando as funções que calculam as diferentes métricas de efetividade:"
      ]
    },
    {
      "cell_type": "code",
      "metadata": {
        "id": "-dAa8zihyEP6",
        "colab_type": "code",
        "colab": {}
      },
      "source": [
        "# Função que calcula acurácia do modelo\n",
        "def accuracy (tp, fp, fn, tn):\n",
        "    accuracy = ((tp + tn) / (tp + tn + fp + fn))\n",
        "    return (accuracy)\n",
        "    \n",
        "\n",
        "## Função que calcula a precisão \n",
        "def precision (tp, fp):\n",
        "    precision =  (tp / (tp + fp))\n",
        "    return precision\n",
        "\n",
        "# Função que calcula o recall\n",
        "def recall(tp, fn):\n",
        "    recall =  (tp / (tp + fn))\n",
        "    return recall\n",
        "\n",
        "## Função que calcula o f-measure (media harmonica entre precision e recall)\n",
        "def f_measure(tp, fp, fn):\n",
        "    f_measure = (2 * precision(tp, fp) * recall(tp, fn)) / (recall(tp, fn) + precision(tp, fp))\n",
        "    return f_measure\n",
        "\n",
        "# Função que calcula a taxa de verdadeiro negativo\n",
        "def true_neg_rate(fp, tn):\n",
        "    true_neg_rate = (tn / (tn + fp))\n",
        "    return true_neg_rate\n",
        "\n",
        "#  Função que calcula os valores negativos previstos (Negative Predictive Value - NPV)\n",
        "def neg_pred_value(fn, tn):\n",
        "    neg_pred_value = (tn / (tn + fn))\n",
        "    return neg_pred_value\n",
        "\n",
        "# Função que calcula o Informedness \n",
        "def informedness(tp, fp, fn, tn):\n",
        "    inform = (recall(tp, fn) + true_neg_rate(tn, fp)) - 1\n",
        "    return inform\n",
        "\n",
        "# Função que calcula o Markedness\n",
        "def markdness(tp, fp, fn, tn):    \n",
        "    mark = (precision(tp, fp) + neg_pred_value(tn, fn)) - 1\n",
        "    return mark"
      ],
      "execution_count": 0,
      "outputs": []
    },
    {
      "cell_type": "markdown",
      "metadata": {
        "id": "nnfyAWe60hcM",
        "colab_type": "text"
      },
      "source": [
        "Definido os valores da Matriz de Confusão"
      ]
    },
    {
      "cell_type": "code",
      "metadata": {
        "id": "WJOtHg660hnL",
        "colab_type": "code",
        "colab": {}
      },
      "source": [
        "tp, fp, fn, tn = [1,1,1,2]"
      ],
      "execution_count": 0,
      "outputs": []
    },
    {
      "cell_type": "markdown",
      "metadata": {
        "id": "cBnCTrcs0h75",
        "colab_type": "text"
      },
      "source": [
        "Calculando a Acurácia:"
      ]
    },
    {
      "cell_type": "code",
      "metadata": {
        "id": "JrDXlhEp0iD_",
        "colab_type": "code",
        "outputId": "82047553-d3f8-409f-d5f6-9c8fb62165cc",
        "colab": {
          "base_uri": "https://localhost:8080/",
          "height": 34
        }
      },
      "source": [
        "accuracy (tp, fp, fn, tn)"
      ],
      "execution_count": 0,
      "outputs": [
        {
          "output_type": "execute_result",
          "data": {
            "text/plain": [
              "0.6"
            ]
          },
          "metadata": {
            "tags": []
          },
          "execution_count": 76
        }
      ]
    },
    {
      "cell_type": "markdown",
      "metadata": {
        "id": "S1EgduK_0iMN",
        "colab_type": "text"
      },
      "source": [
        "Calculando a Precision:"
      ]
    },
    {
      "cell_type": "code",
      "metadata": {
        "id": "aL86q9YP0iTa",
        "colab_type": "code",
        "outputId": "a0d89c17-df17-4de2-c70a-5660fa0db788",
        "colab": {
          "base_uri": "https://localhost:8080/",
          "height": 34
        }
      },
      "source": [
        "precision (tp, fp)"
      ],
      "execution_count": 0,
      "outputs": [
        {
          "output_type": "execute_result",
          "data": {
            "text/plain": [
              "0.5"
            ]
          },
          "metadata": {
            "tags": []
          },
          "execution_count": 77
        }
      ]
    },
    {
      "cell_type": "markdown",
      "metadata": {
        "id": "RISuvABl1QRM",
        "colab_type": "text"
      },
      "source": [
        "Calculando o Recall:"
      ]
    },
    {
      "cell_type": "code",
      "metadata": {
        "id": "JHbboPE-1OBa",
        "colab_type": "code",
        "outputId": "061958a0-d759-4b31-b12b-eee2bc83923e",
        "colab": {
          "base_uri": "https://localhost:8080/",
          "height": 34
        }
      },
      "source": [
        " recall(tp, fn)"
      ],
      "execution_count": 0,
      "outputs": [
        {
          "output_type": "execute_result",
          "data": {
            "text/plain": [
              "0.5"
            ]
          },
          "metadata": {
            "tags": []
          },
          "execution_count": 78
        }
      ]
    },
    {
      "cell_type": "markdown",
      "metadata": {
        "id": "D1Z-POVy1NzX",
        "colab_type": "text"
      },
      "source": [
        "Calculando o Informedness: "
      ]
    },
    {
      "cell_type": "code",
      "metadata": {
        "id": "_wmrvULM1TiK",
        "colab_type": "code",
        "outputId": "80a0fdd9-a1e2-4cc6-a76f-428ba36c7eaf",
        "colab": {
          "base_uri": "https://localhost:8080/",
          "height": 34
        }
      },
      "source": [
        "informedness(tp, fp, fn, tn)"
      ],
      "execution_count": 0,
      "outputs": [
        {
          "output_type": "execute_result",
          "data": {
            "text/plain": [
              "-0.16666666666666674"
            ]
          },
          "metadata": {
            "tags": []
          },
          "execution_count": 79
        }
      ]
    },
    {
      "cell_type": "markdown",
      "metadata": {
        "id": "SaQbezyD1OVs",
        "colab_type": "text"
      },
      "source": [
        "Calculando o Markedness:"
      ]
    },
    {
      "cell_type": "code",
      "metadata": {
        "id": "LRJSJy_n1oLZ",
        "colab_type": "code",
        "outputId": "71621a85-60c9-447c-8d22-5a64c436adc0",
        "colab": {
          "base_uri": "https://localhost:8080/",
          "height": 34
        }
      },
      "source": [
        "markdness(tp, fp, fn, tn)"
      ],
      "execution_count": 0,
      "outputs": [
        {
          "output_type": "execute_result",
          "data": {
            "text/plain": [
              "-0.16666666666666674"
            ]
          },
          "metadata": {
            "tags": []
          },
          "execution_count": 80
        }
      ]
    },
    {
      "cell_type": "markdown",
      "metadata": {
        "id": "PS0qgPh6ywSY",
        "colab_type": "text"
      },
      "source": [
        "### Divisão do Dataset"
      ]
    },
    {
      "cell_type": "markdown",
      "metadata": {
        "id": "D115SXB4GJGC",
        "colab_type": "text"
      },
      "source": [
        "Dividindo o dataset no conjunto de treinamento e testes. Normalmente o conjunto de testes equivale a 1/3 do dataset total:"
      ]
    },
    {
      "cell_type": "code",
      "metadata": {
        "id": "QImAPykOGMOz",
        "colab_type": "code",
        "outputId": "45b200db-3763-4be0-a3e3-d0ebb7dcf8d6",
        "colab": {
          "base_uri": "https://localhost:8080/",
          "height": 68
        }
      },
      "source": [
        "X_train, X_test, y_train, y_test = train_test_split(X, y, test_size = 1/3, random_state = 42)\n",
        "\n",
        "print(\"Tamanho do Dataset. {}\".format(df.shape[0]))\n",
        "print(\"Tamanho do Conjunto de Treinamento. {}\".format(len(X_train)))\n",
        "print(\"Tamanho do Conjunto de Testes. {}\".format(len(X_test)))\n"
      ],
      "execution_count": 0,
      "outputs": [
        {
          "output_type": "stream",
          "text": [
            "Tamanho do Dataset. 10\n",
            "Tamanho do Conjunto de Treinamento. 6\n",
            "Tamanho do Conjunto de Testes. 4\n"
          ],
          "name": "stdout"
        }
      ]
    },
    {
      "cell_type": "markdown",
      "metadata": {
        "id": "bWSSELsxIpJz",
        "colab_type": "text"
      },
      "source": [
        "### Validação Cruzada\n"
      ]
    },
    {
      "cell_type": "markdown",
      "metadata": {
        "id": "W_gdmirlF12c",
        "colab_type": "text"
      },
      "source": [
        "Criando uma função para definir os indices de uma validação cruzada:"
      ]
    },
    {
      "cell_type": "code",
      "metadata": {
        "id": "zjwKGpKry2nv",
        "colab_type": "code",
        "colab": {}
      },
      "source": [
        "# Função que retorna os indices do validação cruzada em k folds\n",
        "def k_fold_cv(indexes, k = 5, seed = 42):\n",
        "    \n",
        "    size = len(indexes)\n",
        "    subset_size = round(size / k)\n",
        "    random.Random(seed).shuffle(indexes)\n",
        "    subsets = [indexes[x:x+subset_size] for x in range(0, len(indexes), subset_size)]\n",
        "    kfolds = []\n",
        "    for i in range(k):\n",
        "        test = subsets[i]\n",
        "        train = []\n",
        "        for subset in subsets:\n",
        "            if subset != test:\n",
        "                train.append(subset)\n",
        "        kfolds.append((train,test))\n",
        "        \n",
        "    return (\"Indices de Treinamento:\", train, \"Indices de Testes:\", test)\n",
        "\n",
        "\n",
        "    return mark"
      ],
      "execution_count": 0,
      "outputs": []
    },
    {
      "cell_type": "markdown",
      "metadata": {
        "id": "ielGePYV0DoA",
        "colab_type": "text"
      },
      "source": [
        "Utilizando a função criada para definir os índices de treinamento e testes a serem utilizados usando 5 folds:"
      ]
    },
    {
      "cell_type": "code",
      "metadata": {
        "id": "FWvLV6ZjF2Ak",
        "colab_type": "code",
        "outputId": "814d30f9-21bd-4c8c-8c6c-6315cfbd2588",
        "colab": {
          "base_uri": "https://localhost:8080/",
          "height": 85
        }
      },
      "source": [
        "k_fold_cv(list(df.index.values))"
      ],
      "execution_count": 0,
      "outputs": [
        {
          "output_type": "execute_result",
          "data": {
            "text/plain": [
              "('Indices de Treinamento:',\n",
              " [[7, 3], [2, 8], [5, 6], [9, 4]],\n",
              " 'Indices de Testes:',\n",
              " [0, 1])"
            ]
          },
          "metadata": {
            "tags": []
          },
          "execution_count": 83
        }
      ]
    },
    {
      "cell_type": "markdown",
      "metadata": {
        "id": "Xl9OHy7bF9Gr",
        "colab_type": "text"
      },
      "source": [
        "Criação dos índices de validação cruzada com 5 folds usando a biblioteca sklearn:"
      ]
    },
    {
      "cell_type": "code",
      "metadata": {
        "id": "_2XPVhESF9TD",
        "colab_type": "code",
        "outputId": "a4bfde5e-22be-4ab1-a1dc-38e64e847e6a",
        "colab": {
          "base_uri": "https://localhost:8080/",
          "height": 102
        }
      },
      "source": [
        "kf = KFold(n_splits=5, random_state=42, shuffle=True)\n",
        "for train_index, test_index in kf.split(X):\n",
        "    print(\"Indices de Treinamento:\", train_index, \"Indices de Testes:\", test_index)\n",
        "    X_train, X_test = X[train_index], X[test_index]\n",
        "    y_train, y_test = y[train_index], y[test_index]"
      ],
      "execution_count": 0,
      "outputs": [
        {
          "output_type": "stream",
          "text": [
            "Indices de Treinamento: [0 2 3 4 5 6 7 9] Indices de Testes: [1 8]\n",
            "Indices de Treinamento: [1 2 3 4 6 7 8 9] Indices de Testes: [0 5]\n",
            "Indices de Treinamento: [0 1 3 4 5 6 8 9] Indices de Testes: [2 7]\n",
            "Indices de Treinamento: [0 1 2 3 5 6 7 8] Indices de Testes: [4 9]\n",
            "Indices de Treinamento: [0 1 2 4 5 7 8 9] Indices de Testes: [3 6]\n"
          ],
          "name": "stdout"
        }
      ]
    }
  ]
}