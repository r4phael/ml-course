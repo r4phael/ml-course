{
  "nbformat": 4,
  "nbformat_minor": 0,
  "metadata": {
    "colab": {
      "name": "4_propagation.ipynb",
      "provenance": [],
      "collapsed_sections": [
        "HGIqwBgDX9yv",
        "VUZAwJjMvh0r"
      ],
      "include_colab_link": true
    },
    "kernelspec": {
      "name": "python3",
      "display_name": "Python 3"
    }
  },
  "cells": [
    {
      "cell_type": "markdown",
      "metadata": {
        "id": "view-in-github",
        "colab_type": "text"
      },
      "source": [
        "<a href=\"https://colab.research.google.com/github/r4phael/ml-course/blob/master/notebooks/4_propagation.ipynb\" target=\"_parent\"><img src=\"https://colab.research.google.com/assets/colab-badge.svg\" alt=\"Open In Colab\"/></a>"
      ]
    },
    {
      "cell_type": "markdown",
      "metadata": {
        "id": "HGIqwBgDX9yv",
        "colab_type": "text"
      },
      "source": [
        "## Importando Libs e o Dataset"
      ]
    },
    {
      "cell_type": "code",
      "metadata": {
        "id": "0QujGwEoYKBA",
        "colab_type": "code",
        "colab": {}
      },
      "source": [
        "import pandas as pd\n",
        "import random\n",
        "import numpy as np\n",
        "from sklearn.preprocessing import StandardScaler \n",
        "from sklearn.model_selection import train_test_split"
      ],
      "execution_count": 0,
      "outputs": []
    },
    {
      "cell_type": "markdown",
      "metadata": {
        "id": "WWwlw949YROZ",
        "colab_type": "text"
      },
      "source": [
        "Definindo função de escalonamento e importando dataset:"
      ]
    },
    {
      "cell_type": "code",
      "metadata": {
        "id": "IVUkArKHYL0A",
        "colab_type": "code",
        "colab": {}
      },
      "source": [
        "def feature_scaling(data):\n",
        "    sc = StandardScaler()\n",
        "    return sc.fit_transform(data)\n",
        "\n",
        "df = pd.read_csv('https://raw.githubusercontent.com/r4phael/ml-course/master/data/pricing_houses.csv')"
      ],
      "execution_count": 0,
      "outputs": []
    },
    {
      "cell_type": "markdown",
      "metadata": {
        "colab_type": "text",
        "id": "Zrgx1dqrlW1v"
      },
      "source": [
        "##  Forward Elimination"
      ]
    },
    {
      "cell_type": "markdown",
      "metadata": {
        "colab_type": "text",
        "id": "9xCrEslplW1y"
      },
      "source": [
        "### Etapa de Seleção e Tratamento dos Dados"
      ]
    },
    {
      "cell_type": "markdown",
      "metadata": {
        "colab_type": "text",
        "id": "rRxPYvjllW1z"
      },
      "source": [
        "Selecionando as principais features do dataset:"
      ]
    },
    {
      "cell_type": "code",
      "metadata": {
        "colab_type": "code",
        "outputId": "31c0215d-695e-4050-cf08-88133001f0ff",
        "id": "gbYl8ye5lW10",
        "colab": {
          "base_uri": "https://localhost:8080/",
          "height": 204
        }
      },
      "source": [
        "df = df.loc[:, ['LotArea', 'PoolArea', 'GarageArea', 'YearBuilt', 'SalePrice']]\n",
        "\n",
        "df.head(5)"
      ],
      "execution_count": 0,
      "outputs": [
        {
          "output_type": "execute_result",
          "data": {
            "text/html": [
              "<div>\n",
              "<style scoped>\n",
              "    .dataframe tbody tr th:only-of-type {\n",
              "        vertical-align: middle;\n",
              "    }\n",
              "\n",
              "    .dataframe tbody tr th {\n",
              "        vertical-align: top;\n",
              "    }\n",
              "\n",
              "    .dataframe thead th {\n",
              "        text-align: right;\n",
              "    }\n",
              "</style>\n",
              "<table border=\"1\" class=\"dataframe\">\n",
              "  <thead>\n",
              "    <tr style=\"text-align: right;\">\n",
              "      <th></th>\n",
              "      <th>LotArea</th>\n",
              "      <th>PoolArea</th>\n",
              "      <th>GarageArea</th>\n",
              "      <th>YearBuilt</th>\n",
              "      <th>SalePrice</th>\n",
              "    </tr>\n",
              "  </thead>\n",
              "  <tbody>\n",
              "    <tr>\n",
              "      <th>0</th>\n",
              "      <td>8450</td>\n",
              "      <td>0</td>\n",
              "      <td>548</td>\n",
              "      <td>2003</td>\n",
              "      <td>208500</td>\n",
              "    </tr>\n",
              "    <tr>\n",
              "      <th>1</th>\n",
              "      <td>9600</td>\n",
              "      <td>0</td>\n",
              "      <td>460</td>\n",
              "      <td>1976</td>\n",
              "      <td>181500</td>\n",
              "    </tr>\n",
              "    <tr>\n",
              "      <th>2</th>\n",
              "      <td>11250</td>\n",
              "      <td>0</td>\n",
              "      <td>608</td>\n",
              "      <td>2001</td>\n",
              "      <td>223500</td>\n",
              "    </tr>\n",
              "    <tr>\n",
              "      <th>3</th>\n",
              "      <td>9550</td>\n",
              "      <td>0</td>\n",
              "      <td>642</td>\n",
              "      <td>1915</td>\n",
              "      <td>140000</td>\n",
              "    </tr>\n",
              "    <tr>\n",
              "      <th>4</th>\n",
              "      <td>14260</td>\n",
              "      <td>0</td>\n",
              "      <td>836</td>\n",
              "      <td>2000</td>\n",
              "      <td>250000</td>\n",
              "    </tr>\n",
              "  </tbody>\n",
              "</table>\n",
              "</div>"
            ],
            "text/plain": [
              "   LotArea  PoolArea  GarageArea  YearBuilt  SalePrice\n",
              "0     8450         0         548       2003     208500\n",
              "1     9600         0         460       1976     181500\n",
              "2    11250         0         608       2001     223500\n",
              "3     9550         0         642       1915     140000\n",
              "4    14260         0         836       2000     250000"
            ]
          },
          "metadata": {
            "tags": []
          },
          "execution_count": 52
        }
      ]
    },
    {
      "cell_type": "markdown",
      "metadata": {
        "colab_type": "text",
        "id": "kmfVd4MelW14"
      },
      "source": [
        "Definindo as variáveis indepedentes e dependentes, normalição das features e dividisão do dataset em conjunto de treinamento e testes:"
      ]
    },
    {
      "cell_type": "code",
      "metadata": {
        "colab_type": "code",
        "id": "u53G0lYzlW15",
        "colab": {}
      },
      "source": [
        "X = df[df.columns[~df.columns.isin(['SalePrice'])]].values\n",
        "y = df['SalePrice'].values.reshape(-1,1)\n",
        "\n",
        "# Normalização das features:\n",
        "X = feature_scaling(X)\n",
        "\n",
        "# Dividindo os dados\n",
        "X_train, X_test, y_train, y_test = train_test_split(X, y, test_size = 0.2, random_state = 42)"
      ],
      "execution_count": 0,
      "outputs": []
    },
    {
      "cell_type": "markdown",
      "metadata": {
        "colab_type": "text",
        "id": "mazDyLNnlW17"
      },
      "source": [
        "Importando e treinando o modelo de Regressao Linear Multipla com o Conjunto de Treinamento:"
      ]
    },
    {
      "cell_type": "code",
      "metadata": {
        "colab_type": "code",
        "outputId": "ba7d6f01-02e4-4e0e-a2e6-9e76d2594be0",
        "id": "Kpr6AOfglW18",
        "colab": {
          "base_uri": "https://localhost:8080/",
          "height": 34
        }
      },
      "source": [
        "# Importando o modelo\n",
        "from sklearn.linear_model import LinearRegression\n",
        "\n",
        "regressor = LinearRegression()\n",
        "regressor.fit(X_train, y_train)"
      ],
      "execution_count": 0,
      "outputs": [
        {
          "output_type": "execute_result",
          "data": {
            "text/plain": [
              "LinearRegression(copy_X=True, fit_intercept=True, n_jobs=None, normalize=False)"
            ]
          },
          "metadata": {
            "tags": []
          },
          "execution_count": 54
        }
      ]
    },
    {
      "cell_type": "markdown",
      "metadata": {
        "colab_type": "text",
        "id": "HpRpAkaxlW1-"
      },
      "source": [
        "Avaliando o modelo com a métrica r2"
      ]
    },
    {
      "cell_type": "code",
      "metadata": {
        "colab_type": "code",
        "outputId": "571b14e3-3546-4f9d-8cb1-e0d131153e2b",
        "id": "QM5isOy-lW1-",
        "colab": {
          "base_uri": "https://localhost:8080/",
          "height": 34
        }
      },
      "source": [
        "regressor.score(X_test, y_test)"
      ],
      "execution_count": 0,
      "outputs": [
        {
          "output_type": "execute_result",
          "data": {
            "text/plain": [
              "0.4759953905083013"
            ]
          },
          "metadata": {
            "tags": []
          },
          "execution_count": 56
        }
      ]
    },
    {
      "cell_type": "markdown",
      "metadata": {
        "colab_type": "text",
        "id": "UC8TV3Z2lW2B"
      },
      "source": [
        "### Realizando o processo de Forward Elimination\n"
      ]
    },
    {
      "cell_type": "markdown",
      "metadata": {
        "colab_type": "text",
        "id": "aoDXtcm5lW2F"
      },
      "source": [
        "No processo de Forward Elimination, iremos selecionar as features incrementalmente uma por uma e analisamos se a mesma contribui para a melhoria do modelo. Porsteriormente, treinamos o modelo com a package OLS que realiza o processo de cálculo dos coeficientes para analise:"
      ]
    },
    {
      "cell_type": "markdown",
      "metadata": {
        "id": "8EnNPQl1pS7L",
        "colab_type": "text"
      },
      "source": [
        "Selecionando a primeira feature: *LotArea*"
      ]
    },
    {
      "cell_type": "code",
      "metadata": {
        "id": "4EKrDJHWpRrO",
        "colab_type": "code",
        "colab": {
          "base_uri": "https://localhost:8080/",
          "height": 204
        },
        "outputId": "13d17134-26f2-452d-8831-8771255fabb6"
      },
      "source": [
        "df_forward = df.loc[:,['LotArea', 'SalePrice']]\n",
        "\n",
        "df_forward.head(5)"
      ],
      "execution_count": 70,
      "outputs": [
        {
          "output_type": "execute_result",
          "data": {
            "text/html": [
              "<div>\n",
              "<style scoped>\n",
              "    .dataframe tbody tr th:only-of-type {\n",
              "        vertical-align: middle;\n",
              "    }\n",
              "\n",
              "    .dataframe tbody tr th {\n",
              "        vertical-align: top;\n",
              "    }\n",
              "\n",
              "    .dataframe thead th {\n",
              "        text-align: right;\n",
              "    }\n",
              "</style>\n",
              "<table border=\"1\" class=\"dataframe\">\n",
              "  <thead>\n",
              "    <tr style=\"text-align: right;\">\n",
              "      <th></th>\n",
              "      <th>LotArea</th>\n",
              "      <th>SalePrice</th>\n",
              "    </tr>\n",
              "  </thead>\n",
              "  <tbody>\n",
              "    <tr>\n",
              "      <th>0</th>\n",
              "      <td>8450</td>\n",
              "      <td>208500</td>\n",
              "    </tr>\n",
              "    <tr>\n",
              "      <th>1</th>\n",
              "      <td>9600</td>\n",
              "      <td>181500</td>\n",
              "    </tr>\n",
              "    <tr>\n",
              "      <th>2</th>\n",
              "      <td>11250</td>\n",
              "      <td>223500</td>\n",
              "    </tr>\n",
              "    <tr>\n",
              "      <th>3</th>\n",
              "      <td>9550</td>\n",
              "      <td>140000</td>\n",
              "    </tr>\n",
              "    <tr>\n",
              "      <th>4</th>\n",
              "      <td>14260</td>\n",
              "      <td>250000</td>\n",
              "    </tr>\n",
              "  </tbody>\n",
              "</table>\n",
              "</div>"
            ],
            "text/plain": [
              "   LotArea  SalePrice\n",
              "0     8450     208500\n",
              "1     9600     181500\n",
              "2    11250     223500\n",
              "3     9550     140000\n",
              "4    14260     250000"
            ]
          },
          "metadata": {
            "tags": []
          },
          "execution_count": 70
        }
      ]
    },
    {
      "cell_type": "markdown",
      "metadata": {
        "colab_type": "text",
        "id": "JEP6wygGlW2C"
      },
      "source": [
        "Realizando o processo de forward elimination. Primeiro, será inserido uma coluna preenchida com valores 1 no começo da matriz de variáveis. Isso é realizada para que sejam feito os calculos necessários:"
      ]
    },
    {
      "cell_type": "code",
      "metadata": {
        "colab_type": "code",
        "outputId": "ca8958e0-00ea-46f1-b54d-96d6af29af3e",
        "id": "g7fedOQflW2C",
        "colab": {
          "base_uri": "https://localhost:8080/",
          "height": 85
        }
      },
      "source": [
        "X = np.append(arr = np.ones((1460,1)).astype(int), values = df_forward, axis =1)\n",
        "\n",
        "X[1:5,:]\n"
      ],
      "execution_count": 73,
      "outputs": [
        {
          "output_type": "execute_result",
          "data": {
            "text/plain": [
              "array([[     1,   9600, 181500],\n",
              "       [     1,  11250, 223500],\n",
              "       [     1,   9550, 140000],\n",
              "       [     1,  14260, 250000]])"
            ]
          },
          "metadata": {
            "tags": []
          },
          "execution_count": 73
        }
      ]
    },
    {
      "cell_type": "markdown",
      "metadata": {
        "id": "Bl0mXWMHsGO8",
        "colab_type": "text"
      },
      "source": [
        "Após isso, será utilizada a package OLS para calculo de importancia das features no output do modelo:"
      ]
    },
    {
      "cell_type": "code",
      "metadata": {
        "colab_type": "code",
        "outputId": "b3cc35e2-f960-4fab-9279-9e9cf87093fe",
        "id": "BUh57AsOlW2F",
        "colab": {
          "base_uri": "https://localhost:8080/",
          "height": 478
        }
      },
      "source": [
        "# Importando a package.\n",
        "import statsmodels.regression.linear_model as sm\n",
        "\n",
        "X_opt = X[:, [0,1]]\n",
        "regressor_ols = sm.OLS(endog = y, exog = X[:, [0,1]]).fit()\n",
        "regressor_ols.summary()"
      ],
      "execution_count": 77,
      "outputs": [
        {
          "output_type": "execute_result",
          "data": {
            "text/html": [
              "<table class=\"simpletable\">\n",
              "<caption>OLS Regression Results</caption>\n",
              "<tr>\n",
              "  <th>Dep. Variable:</th>            <td>y</td>        <th>  R-squared:         </th> <td>   0.070</td> \n",
              "</tr>\n",
              "<tr>\n",
              "  <th>Model:</th>                   <td>OLS</td>       <th>  Adj. R-squared:    </th> <td>   0.069</td> \n",
              "</tr>\n",
              "<tr>\n",
              "  <th>Method:</th>             <td>Least Squares</td>  <th>  F-statistic:       </th> <td>   109.1</td> \n",
              "</tr>\n",
              "<tr>\n",
              "  <th>Date:</th>             <td>Fri, 08 Nov 2019</td> <th>  Prob (F-statistic):</th> <td>1.12e-24</td> \n",
              "</tr>\n",
              "<tr>\n",
              "  <th>Time:</th>                 <td>15:38:08</td>     <th>  Log-Likelihood:    </th> <td> -18491.</td> \n",
              "</tr>\n",
              "<tr>\n",
              "  <th>No. Observations:</th>      <td>  1460</td>      <th>  AIC:               </th> <td>3.699e+04</td>\n",
              "</tr>\n",
              "<tr>\n",
              "  <th>Df Residuals:</th>          <td>  1458</td>      <th>  BIC:               </th> <td>3.700e+04</td>\n",
              "</tr>\n",
              "<tr>\n",
              "  <th>Df Model:</th>              <td>     1</td>      <th>                     </th>     <td> </td>    \n",
              "</tr>\n",
              "<tr>\n",
              "  <th>Covariance Type:</th>      <td>nonrobust</td>    <th>                     </th>     <td> </td>    \n",
              "</tr>\n",
              "</table>\n",
              "<table class=\"simpletable\">\n",
              "<tr>\n",
              "    <td></td>       <th>coef</th>     <th>std err</th>      <th>t</th>      <th>P>|t|</th>  <th>[0.025</th>    <th>0.975]</th>  \n",
              "</tr>\n",
              "<tr>\n",
              "  <th>const</th> <td> 1.588e+05</td> <td> 2914.717</td> <td>   54.495</td> <td> 0.000</td> <td> 1.53e+05</td> <td> 1.65e+05</td>\n",
              "</tr>\n",
              "<tr>\n",
              "  <th>x1</th>    <td>    2.1000</td> <td>    0.201</td> <td>   10.445</td> <td> 0.000</td> <td>    1.706</td> <td>    2.494</td>\n",
              "</tr>\n",
              "</table>\n",
              "<table class=\"simpletable\">\n",
              "<tr>\n",
              "  <th>Omnibus:</th>       <td>587.660</td> <th>  Durbin-Watson:     </th> <td>   1.998</td>\n",
              "</tr>\n",
              "<tr>\n",
              "  <th>Prob(Omnibus):</th> <td> 0.000</td>  <th>  Jarque-Bera (JB):  </th> <td>3374.003</td>\n",
              "</tr>\n",
              "<tr>\n",
              "  <th>Skew:</th>          <td> 1.788</td>  <th>  Prob(JB):          </th> <td>    0.00</td>\n",
              "</tr>\n",
              "<tr>\n",
              "  <th>Kurtosis:</th>      <td> 9.532</td>  <th>  Cond. No.          </th> <td>2.11e+04</td>\n",
              "</tr>\n",
              "</table><br/><br/>Warnings:<br/>[1] Standard Errors assume that the covariance matrix of the errors is correctly specified.<br/>[2] The condition number is large, 2.11e+04. This might indicate that there are<br/>strong multicollinearity or other numerical problems."
            ],
            "text/plain": [
              "<class 'statsmodels.iolib.summary.Summary'>\n",
              "\"\"\"\n",
              "                            OLS Regression Results                            \n",
              "==============================================================================\n",
              "Dep. Variable:                      y   R-squared:                       0.070\n",
              "Model:                            OLS   Adj. R-squared:                  0.069\n",
              "Method:                 Least Squares   F-statistic:                     109.1\n",
              "Date:                Fri, 08 Nov 2019   Prob (F-statistic):           1.12e-24\n",
              "Time:                        15:38:08   Log-Likelihood:                -18491.\n",
              "No. Observations:                1460   AIC:                         3.699e+04\n",
              "Df Residuals:                    1458   BIC:                         3.700e+04\n",
              "Df Model:                           1                                         \n",
              "Covariance Type:            nonrobust                                         \n",
              "==============================================================================\n",
              "                 coef    std err          t      P>|t|      [0.025      0.975]\n",
              "------------------------------------------------------------------------------\n",
              "const       1.588e+05   2914.717     54.495      0.000    1.53e+05    1.65e+05\n",
              "x1             2.1000      0.201     10.445      0.000       1.706       2.494\n",
              "==============================================================================\n",
              "Omnibus:                      587.660   Durbin-Watson:                   1.998\n",
              "Prob(Omnibus):                  0.000   Jarque-Bera (JB):             3374.003\n",
              "Skew:                           1.788   Prob(JB):                         0.00\n",
              "Kurtosis:                       9.532   Cond. No.                     2.11e+04\n",
              "==============================================================================\n",
              "\n",
              "Warnings:\n",
              "[1] Standard Errors assume that the covariance matrix of the errors is correctly specified.\n",
              "[2] The condition number is large, 2.11e+04. This might indicate that there are\n",
              "strong multicollinearity or other numerical problems.\n",
              "\"\"\""
            ]
          },
          "metadata": {
            "tags": []
          },
          "execution_count": 77
        }
      ]
    },
    {
      "cell_type": "markdown",
      "metadata": {
        "colab_type": "text",
        "id": "U-RSW_bQlW2I"
      },
      "source": [
        "Analisando os valores acima, vimos que as features X1(*LotArea* - Área do lote) possui um P-value significativo, ou seja, dentro do level de signifcância definida (SL = .05) .Portanto, deixamos a mesma e escolhemos outra feature para incrementar no modelo conforme o processo de Forward Elimination.  \n",
        "\n",
        "**Obs: Definimos um level de significância de .05 para que as features permaneçam no modelo (SL = .05).**"
      ]
    },
    {
      "cell_type": "code",
      "metadata": {
        "colab_type": "code",
        "outputId": "f5935fe2-46d8-4ab8-96d3-2feaac6b4417",
        "id": "AI0hTbeulW2I",
        "colab": {
          "base_uri": "https://localhost:8080/",
          "height": 486
        }
      },
      "source": [
        "#Analisando todas as features, exceto a feature X2 (Índice 1)\n",
        "\n",
        "X_opt = X_train[:, [0,2,3,4]]\n",
        "regressor_ols = sm.OLS(endog = y_train, exog = X_opt).fit()\n",
        "regressor_ols.summary()"
      ],
      "execution_count": 0,
      "outputs": [
        {
          "output_type": "execute_result",
          "data": {
            "text/html": [
              "<table class=\"simpletable\">\n",
              "<caption>OLS Regression Results</caption>\n",
              "<tr>\n",
              "  <th>Dep. Variable:</th>            <td>y</td>        <th>  R-squared:         </th> <td>   0.460</td> \n",
              "</tr>\n",
              "<tr>\n",
              "  <th>Model:</th>                   <td>OLS</td>       <th>  Adj. R-squared:    </th> <td>   0.459</td> \n",
              "</tr>\n",
              "<tr>\n",
              "  <th>Method:</th>             <td>Least Squares</td>  <th>  F-statistic:       </th> <td>   330.7</td> \n",
              "</tr>\n",
              "<tr>\n",
              "  <th>Date:</th>             <td>Fri, 08 Nov 2019</td> <th>  Prob (F-statistic):</th> <td>2.90e-155</td>\n",
              "</tr>\n",
              "<tr>\n",
              "  <th>Time:</th>                 <td>15:10:03</td>     <th>  Log-Likelihood:    </th> <td> -14443.</td> \n",
              "</tr>\n",
              "<tr>\n",
              "  <th>No. Observations:</th>      <td>  1168</td>      <th>  AIC:               </th> <td>2.889e+04</td>\n",
              "</tr>\n",
              "<tr>\n",
              "  <th>Df Residuals:</th>          <td>  1164</td>      <th>  BIC:               </th> <td>2.891e+04</td>\n",
              "</tr>\n",
              "<tr>\n",
              "  <th>Df Model:</th>              <td>     3</td>      <th>                     </th>     <td> </td>    \n",
              "</tr>\n",
              "<tr>\n",
              "  <th>Covariance Type:</th>      <td>nonrobust</td>    <th>                     </th>     <td> </td>    \n",
              "</tr>\n",
              "</table>\n",
              "<table class=\"simpletable\">\n",
              "<tr>\n",
              "    <td></td>       <th>coef</th>     <th>std err</th>      <th>t</th>      <th>P>|t|</th>  <th>[0.025</th>    <th>0.975]</th>  \n",
              "</tr>\n",
              "<tr>\n",
              "  <th>const</th> <td> 1.811e+05</td> <td> 1663.777</td> <td>  108.821</td> <td> 0.000</td> <td> 1.78e+05</td> <td> 1.84e+05</td>\n",
              "</tr>\n",
              "<tr>\n",
              "  <th>x1</th>    <td> 5649.3615</td> <td> 1610.913</td> <td>    3.507</td> <td> 0.000</td> <td> 2488.743</td> <td> 8809.980</td>\n",
              "</tr>\n",
              "<tr>\n",
              "  <th>x2</th>    <td> 3.772e+04</td> <td> 1912.254</td> <td>   19.727</td> <td> 0.000</td> <td>  3.4e+04</td> <td> 4.15e+04</td>\n",
              "</tr>\n",
              "<tr>\n",
              "  <th>x3</th>    <td> 2.214e+04</td> <td> 1853.006</td> <td>   11.949</td> <td> 0.000</td> <td> 1.85e+04</td> <td> 2.58e+04</td>\n",
              "</tr>\n",
              "</table>\n",
              "<table class=\"simpletable\">\n",
              "<tr>\n",
              "  <th>Omnibus:</th>       <td>441.037</td> <th>  Durbin-Watson:     </th> <td>   1.983</td>\n",
              "</tr>\n",
              "<tr>\n",
              "  <th>Prob(Omnibus):</th> <td> 0.000</td>  <th>  Jarque-Bera (JB):  </th> <td>2831.186</td>\n",
              "</tr>\n",
              "<tr>\n",
              "  <th>Skew:</th>          <td> 1.602</td>  <th>  Prob(JB):          </th> <td>    0.00</td>\n",
              "</tr>\n",
              "<tr>\n",
              "  <th>Kurtosis:</th>      <td> 9.922</td>  <th>  Cond. No.          </th> <td>    1.67</td>\n",
              "</tr>\n",
              "</table><br/><br/>Warnings:<br/>[1] Standard Errors assume that the covariance matrix of the errors is correctly specified."
            ],
            "text/plain": [
              "<class 'statsmodels.iolib.summary.Summary'>\n",
              "\"\"\"\n",
              "                            OLS Regression Results                            \n",
              "==============================================================================\n",
              "Dep. Variable:                      y   R-squared:                       0.460\n",
              "Model:                            OLS   Adj. R-squared:                  0.459\n",
              "Method:                 Least Squares   F-statistic:                     330.7\n",
              "Date:                Fri, 08 Nov 2019   Prob (F-statistic):          2.90e-155\n",
              "Time:                        15:10:03   Log-Likelihood:                -14443.\n",
              "No. Observations:                1168   AIC:                         2.889e+04\n",
              "Df Residuals:                    1164   BIC:                         2.891e+04\n",
              "Df Model:                           3                                         \n",
              "Covariance Type:            nonrobust                                         \n",
              "==============================================================================\n",
              "                 coef    std err          t      P>|t|      [0.025      0.975]\n",
              "------------------------------------------------------------------------------\n",
              "const       1.811e+05   1663.777    108.821      0.000    1.78e+05    1.84e+05\n",
              "x1          5649.3615   1610.913      3.507      0.000    2488.743    8809.980\n",
              "x2          3.772e+04   1912.254     19.727      0.000     3.4e+04    4.15e+04\n",
              "x3          2.214e+04   1853.006     11.949      0.000    1.85e+04    2.58e+04\n",
              "==============================================================================\n",
              "Omnibus:                      441.037   Durbin-Watson:                   1.983\n",
              "Prob(Omnibus):                  0.000   Jarque-Bera (JB):             2831.186\n",
              "Skew:                           1.602   Prob(JB):                         0.00\n",
              "Kurtosis:                       9.922   Cond. No.                         1.67\n",
              "==============================================================================\n",
              "\n",
              "Warnings:\n",
              "[1] Standard Errors assume that the covariance matrix of the errors is correctly specified.\n",
              "\"\"\""
            ]
          },
          "metadata": {
            "tags": []
          },
          "execution_count": 62
        }
      ]
    },
    {
      "cell_type": "markdown",
      "metadata": {
        "id": "-uj0bMeNrIWv",
        "colab_type": "text"
      },
      "source": [
        "Adicionando a segunda feature no dataframe"
      ]
    },
    {
      "cell_type": "code",
      "metadata": {
        "id": "8fLhVreGrIfr",
        "colab_type": "code",
        "colab": {
          "base_uri": "https://localhost:8080/",
          "height": 204
        },
        "outputId": "ed217c1e-3cb3-424c-9bd9-72fb98a73d9a"
      },
      "source": [
        "df_forward = pd.concat([df_forward, df['GarageArea']], axis=1)\n",
        "\n",
        "df_forward.head(5)"
      ],
      "execution_count": 83,
      "outputs": [
        {
          "output_type": "execute_result",
          "data": {
            "text/html": [
              "<div>\n",
              "<style scoped>\n",
              "    .dataframe tbody tr th:only-of-type {\n",
              "        vertical-align: middle;\n",
              "    }\n",
              "\n",
              "    .dataframe tbody tr th {\n",
              "        vertical-align: top;\n",
              "    }\n",
              "\n",
              "    .dataframe thead th {\n",
              "        text-align: right;\n",
              "    }\n",
              "</style>\n",
              "<table border=\"1\" class=\"dataframe\">\n",
              "  <thead>\n",
              "    <tr style=\"text-align: right;\">\n",
              "      <th></th>\n",
              "      <th>LotArea</th>\n",
              "      <th>SalePrice</th>\n",
              "      <th>GarageArea</th>\n",
              "    </tr>\n",
              "  </thead>\n",
              "  <tbody>\n",
              "    <tr>\n",
              "      <th>0</th>\n",
              "      <td>8450</td>\n",
              "      <td>208500</td>\n",
              "      <td>548</td>\n",
              "    </tr>\n",
              "    <tr>\n",
              "      <th>1</th>\n",
              "      <td>9600</td>\n",
              "      <td>181500</td>\n",
              "      <td>460</td>\n",
              "    </tr>\n",
              "    <tr>\n",
              "      <th>2</th>\n",
              "      <td>11250</td>\n",
              "      <td>223500</td>\n",
              "      <td>608</td>\n",
              "    </tr>\n",
              "    <tr>\n",
              "      <th>3</th>\n",
              "      <td>9550</td>\n",
              "      <td>140000</td>\n",
              "      <td>642</td>\n",
              "    </tr>\n",
              "    <tr>\n",
              "      <th>4</th>\n",
              "      <td>14260</td>\n",
              "      <td>250000</td>\n",
              "      <td>836</td>\n",
              "    </tr>\n",
              "  </tbody>\n",
              "</table>\n",
              "</div>"
            ],
            "text/plain": [
              "   LotArea  SalePrice  GarageArea\n",
              "0     8450     208500         548\n",
              "1     9600     181500         460\n",
              "2    11250     223500         608\n",
              "3     9550     140000         642\n",
              "4    14260     250000         836"
            ]
          },
          "metadata": {
            "tags": []
          },
          "execution_count": 83
        }
      ]
    },
    {
      "cell_type": "markdown",
      "metadata": {
        "id": "drqbur2qsCJv",
        "colab_type": "text"
      },
      "source": [
        "Calculando os coeficientes com a segunda features:"
      ]
    },
    {
      "cell_type": "code",
      "metadata": {
        "id": "aCAhwA5nsCSc",
        "colab_type": "code",
        "colab": {
          "base_uri": "https://localhost:8080/",
          "height": 499
        },
        "outputId": "e2600a5f-bcbb-4ba3-b582-bd8af4a403a9"
      },
      "source": [
        "# Adicionando 1 na primeira coluna da matriz de features \n",
        "X = np.append(arr = np.ones((1460,1)).astype(int), values = df_forward, axis =1)\n",
        "\n",
        "# Selecionando apenas as features de indice 0-const, 1-SalesPrice, 3-GarageArea\n",
        "X_opt = X[:, [0,1,3]]\n",
        "regressor_ols = sm.OLS(endog = y, exog = X_opt).fit()\n",
        "regressor_ols.summary()"
      ],
      "execution_count": 85,
      "outputs": [
        {
          "output_type": "execute_result",
          "data": {
            "text/html": [
              "<table class=\"simpletable\">\n",
              "<caption>OLS Regression Results</caption>\n",
              "<tr>\n",
              "  <th>Dep. Variable:</th>            <td>y</td>        <th>  R-squared:         </th> <td>   0.412</td> \n",
              "</tr>\n",
              "<tr>\n",
              "  <th>Model:</th>                   <td>OLS</td>       <th>  Adj. R-squared:    </th> <td>   0.412</td> \n",
              "</tr>\n",
              "<tr>\n",
              "  <th>Method:</th>             <td>Least Squares</td>  <th>  F-statistic:       </th> <td>   511.2</td> \n",
              "</tr>\n",
              "<tr>\n",
              "  <th>Date:</th>             <td>Fri, 08 Nov 2019</td> <th>  Prob (F-statistic):</th> <td>6.34e-169</td>\n",
              "</tr>\n",
              "<tr>\n",
              "  <th>Time:</th>                 <td>15:50:13</td>     <th>  Log-Likelihood:    </th> <td> -18156.</td> \n",
              "</tr>\n",
              "<tr>\n",
              "  <th>No. Observations:</th>      <td>  1460</td>      <th>  AIC:               </th> <td>3.632e+04</td>\n",
              "</tr>\n",
              "<tr>\n",
              "  <th>Df Residuals:</th>          <td>  1457</td>      <th>  BIC:               </th> <td>3.633e+04</td>\n",
              "</tr>\n",
              "<tr>\n",
              "  <th>Df Model:</th>              <td>     2</td>      <th>                     </th>     <td> </td>    \n",
              "</tr>\n",
              "<tr>\n",
              "  <th>Covariance Type:</th>      <td>nonrobust</td>    <th>                     </th>     <td> </td>    \n",
              "</tr>\n",
              "</table>\n",
              "<table class=\"simpletable\">\n",
              "<tr>\n",
              "    <td></td>       <th>coef</th>     <th>std err</th>      <th>t</th>      <th>P>|t|</th>  <th>[0.025</th>    <th>0.975]</th>  \n",
              "</tr>\n",
              "<tr>\n",
              "  <th>const</th> <td> 6.322e+04</td> <td> 4015.973</td> <td>   15.742</td> <td> 0.000</td> <td> 5.53e+04</td> <td> 7.11e+04</td>\n",
              "</tr>\n",
              "<tr>\n",
              "  <th>x1</th>    <td>    1.2453</td> <td>    0.163</td> <td>    7.663</td> <td> 0.000</td> <td>    0.927</td> <td>    1.564</td>\n",
              "</tr>\n",
              "<tr>\n",
              "  <th>x2</th>    <td>  221.1574</td> <td>    7.587</td> <td>   29.151</td> <td> 0.000</td> <td>  206.276</td> <td>  236.039</td>\n",
              "</tr>\n",
              "</table>\n",
              "<table class=\"simpletable\">\n",
              "<tr>\n",
              "  <th>Omnibus:</th>       <td>544.830</td> <th>  Durbin-Watson:     </th> <td>   2.023</td>\n",
              "</tr>\n",
              "<tr>\n",
              "  <th>Prob(Omnibus):</th> <td> 0.000</td>  <th>  Jarque-Bera (JB):  </th> <td>5456.748</td>\n",
              "</tr>\n",
              "<tr>\n",
              "  <th>Skew:</th>          <td> 1.446</td>  <th>  Prob(JB):          </th> <td>    0.00</td>\n",
              "</tr>\n",
              "<tr>\n",
              "  <th>Kurtosis:</th>      <td>12.018</td>  <th>  Cond. No.          </th> <td>3.65e+04</td>\n",
              "</tr>\n",
              "</table><br/><br/>Warnings:<br/>[1] Standard Errors assume that the covariance matrix of the errors is correctly specified.<br/>[2] The condition number is large, 3.65e+04. This might indicate that there are<br/>strong multicollinearity or other numerical problems."
            ],
            "text/plain": [
              "<class 'statsmodels.iolib.summary.Summary'>\n",
              "\"\"\"\n",
              "                            OLS Regression Results                            \n",
              "==============================================================================\n",
              "Dep. Variable:                      y   R-squared:                       0.412\n",
              "Model:                            OLS   Adj. R-squared:                  0.412\n",
              "Method:                 Least Squares   F-statistic:                     511.2\n",
              "Date:                Fri, 08 Nov 2019   Prob (F-statistic):          6.34e-169\n",
              "Time:                        15:50:13   Log-Likelihood:                -18156.\n",
              "No. Observations:                1460   AIC:                         3.632e+04\n",
              "Df Residuals:                    1457   BIC:                         3.633e+04\n",
              "Df Model:                           2                                         \n",
              "Covariance Type:            nonrobust                                         \n",
              "==============================================================================\n",
              "                 coef    std err          t      P>|t|      [0.025      0.975]\n",
              "------------------------------------------------------------------------------\n",
              "const       6.322e+04   4015.973     15.742      0.000    5.53e+04    7.11e+04\n",
              "x1             1.2453      0.163      7.663      0.000       0.927       1.564\n",
              "x2           221.1574      7.587     29.151      0.000     206.276     236.039\n",
              "==============================================================================\n",
              "Omnibus:                      544.830   Durbin-Watson:                   2.023\n",
              "Prob(Omnibus):                  0.000   Jarque-Bera (JB):             5456.748\n",
              "Skew:                           1.446   Prob(JB):                         0.00\n",
              "Kurtosis:                      12.018   Cond. No.                     3.65e+04\n",
              "==============================================================================\n",
              "\n",
              "Warnings:\n",
              "[1] Standard Errors assume that the covariance matrix of the errors is correctly specified.\n",
              "[2] The condition number is large, 3.65e+04. This might indicate that there are\n",
              "strong multicollinearity or other numerical problems.\n",
              "\"\"\""
            ]
          },
          "metadata": {
            "tags": []
          },
          "execution_count": 85
        }
      ]
    },
    {
      "cell_type": "markdown",
      "metadata": {
        "colab_type": "text",
        "id": "jp5B6RySlW2L"
      },
      "source": [
        "**Final:** Todas as features acima estão dentro dentro intervalo de significância do modelo (SL = .05). Portanto, o processo continua de maneira incremental até que o modelo não seja improvisado com a adição de novas features."
      ]
    },
    {
      "cell_type": "markdown",
      "metadata": {
        "id": "fnB83_TCtkqm",
        "colab_type": "text"
      },
      "source": [
        "Calculando o score do modelo:"
      ]
    },
    {
      "cell_type": "code",
      "metadata": {
        "colab_type": "code",
        "outputId": "cd50f39e-e37d-4572-e6a9-ec2dd98bcf7e",
        "id": "kip24crWlW2M",
        "colab": {
          "base_uri": "https://localhost:8080/",
          "height": 34
        }
      },
      "source": [
        "regressor = LinearRegression()\n",
        "regressor.fit(X_opt, y)"
      ],
      "execution_count": 87,
      "outputs": [
        {
          "output_type": "execute_result",
          "data": {
            "text/plain": [
              "LinearRegression(copy_X=True, fit_intercept=True, n_jobs=None, normalize=False)"
            ]
          },
          "metadata": {
            "tags": []
          },
          "execution_count": 87
        }
      ]
    },
    {
      "cell_type": "markdown",
      "metadata": {
        "colab_type": "text",
        "id": "_THRIQTQlW2Q"
      },
      "source": [
        "Analisando o novo score do modelo com a métrica r2"
      ]
    },
    {
      "cell_type": "code",
      "metadata": {
        "colab_type": "code",
        "outputId": "7500b2aa-fa3c-4e60-d0eb-8a2934072e2f",
        "id": "6O_eCKVglW2R",
        "colab": {
          "base_uri": "https://localhost:8080/",
          "height": 34
        }
      },
      "source": [
        "regressor.score(X_opt, y)"
      ],
      "execution_count": 90,
      "outputs": [
        {
          "output_type": "execute_result",
          "data": {
            "text/plain": [
              "0.41235186539832547"
            ]
          },
          "metadata": {
            "tags": []
          },
          "execution_count": 90
        }
      ]
    },
    {
      "cell_type": "markdown",
      "metadata": {
        "colab_type": "text",
        "id": "VUZAwJjMvh0r"
      },
      "source": [
        "##  Backward Elimination"
      ]
    },
    {
      "cell_type": "markdown",
      "metadata": {
        "id": "yJGIyJR2lHGg",
        "colab_type": "text"
      },
      "source": [
        "### Etapa de Seleção e Tratamento dos Dados"
      ]
    },
    {
      "cell_type": "markdown",
      "metadata": {
        "id": "ZOIXAi6Wvpce",
        "colab_type": "text"
      },
      "source": [
        "Selecionando as principais features do dataset:"
      ]
    },
    {
      "cell_type": "code",
      "metadata": {
        "id": "et8CNkI1vpk2",
        "colab_type": "code",
        "outputId": "31c0215d-695e-4050-cf08-88133001f0ff",
        "colab": {
          "base_uri": "https://localhost:8080/",
          "height": 204
        }
      },
      "source": [
        "df = df.loc[:, ['LotArea', 'PoolArea', 'GarageArea', 'YearBuilt', 'SalePrice']]\n",
        "\n",
        "df.head(5)"
      ],
      "execution_count": 52,
      "outputs": [
        {
          "output_type": "execute_result",
          "data": {
            "text/html": [
              "<div>\n",
              "<style scoped>\n",
              "    .dataframe tbody tr th:only-of-type {\n",
              "        vertical-align: middle;\n",
              "    }\n",
              "\n",
              "    .dataframe tbody tr th {\n",
              "        vertical-align: top;\n",
              "    }\n",
              "\n",
              "    .dataframe thead th {\n",
              "        text-align: right;\n",
              "    }\n",
              "</style>\n",
              "<table border=\"1\" class=\"dataframe\">\n",
              "  <thead>\n",
              "    <tr style=\"text-align: right;\">\n",
              "      <th></th>\n",
              "      <th>LotArea</th>\n",
              "      <th>PoolArea</th>\n",
              "      <th>GarageArea</th>\n",
              "      <th>YearBuilt</th>\n",
              "      <th>SalePrice</th>\n",
              "    </tr>\n",
              "  </thead>\n",
              "  <tbody>\n",
              "    <tr>\n",
              "      <th>0</th>\n",
              "      <td>8450</td>\n",
              "      <td>0</td>\n",
              "      <td>548</td>\n",
              "      <td>2003</td>\n",
              "      <td>208500</td>\n",
              "    </tr>\n",
              "    <tr>\n",
              "      <th>1</th>\n",
              "      <td>9600</td>\n",
              "      <td>0</td>\n",
              "      <td>460</td>\n",
              "      <td>1976</td>\n",
              "      <td>181500</td>\n",
              "    </tr>\n",
              "    <tr>\n",
              "      <th>2</th>\n",
              "      <td>11250</td>\n",
              "      <td>0</td>\n",
              "      <td>608</td>\n",
              "      <td>2001</td>\n",
              "      <td>223500</td>\n",
              "    </tr>\n",
              "    <tr>\n",
              "      <th>3</th>\n",
              "      <td>9550</td>\n",
              "      <td>0</td>\n",
              "      <td>642</td>\n",
              "      <td>1915</td>\n",
              "      <td>140000</td>\n",
              "    </tr>\n",
              "    <tr>\n",
              "      <th>4</th>\n",
              "      <td>14260</td>\n",
              "      <td>0</td>\n",
              "      <td>836</td>\n",
              "      <td>2000</td>\n",
              "      <td>250000</td>\n",
              "    </tr>\n",
              "  </tbody>\n",
              "</table>\n",
              "</div>"
            ],
            "text/plain": [
              "   LotArea  PoolArea  GarageArea  YearBuilt  SalePrice\n",
              "0     8450         0         548       2003     208500\n",
              "1     9600         0         460       1976     181500\n",
              "2    11250         0         608       2001     223500\n",
              "3     9550         0         642       1915     140000\n",
              "4    14260         0         836       2000     250000"
            ]
          },
          "metadata": {
            "tags": []
          },
          "execution_count": 52
        }
      ]
    },
    {
      "cell_type": "markdown",
      "metadata": {
        "id": "i9fs5x8MvpxV",
        "colab_type": "text"
      },
      "source": [
        "Definindo as variáveis indepedentes e dependentes, normalição das features e dividisão do dataset em conjunto de treinamento e testes:"
      ]
    },
    {
      "cell_type": "code",
      "metadata": {
        "id": "b9uRFW2vvp6b",
        "colab_type": "code",
        "colab": {}
      },
      "source": [
        "X = df[df.columns[~df.columns.isin(['SalePrice'])]].values\n",
        "y = df['SalePrice'].values.reshape(-1,1)\n",
        "\n",
        "# Normalização das features:\n",
        "X = feature_scaling(X)\n",
        "\n",
        "# Dividindo os dados\n",
        "X_train, X_test, y_train, y_test = train_test_split(X, y, test_size = 0.2, random_state = 42)"
      ],
      "execution_count": 0,
      "outputs": []
    },
    {
      "cell_type": "markdown",
      "metadata": {
        "colab_type": "text",
        "id": "SMaN0iHNvh0t"
      },
      "source": [
        "Importando e treinando o modelo de Regressao Linear Multipla com o Conjunto de Treinamento:"
      ]
    },
    {
      "cell_type": "code",
      "metadata": {
        "colab_type": "code",
        "outputId": "ba7d6f01-02e4-4e0e-a2e6-9e76d2594be0",
        "id": "VuzaRxyuvh0u",
        "colab": {
          "base_uri": "https://localhost:8080/",
          "height": 34
        }
      },
      "source": [
        "# Importando o modelo\n",
        "from sklearn.linear_model import LinearRegression\n",
        "\n",
        "regressor = LinearRegression()\n",
        "regressor.fit(X_train, y_train)"
      ],
      "execution_count": 54,
      "outputs": [
        {
          "output_type": "execute_result",
          "data": {
            "text/plain": [
              "LinearRegression(copy_X=True, fit_intercept=True, n_jobs=None, normalize=False)"
            ]
          },
          "metadata": {
            "tags": []
          },
          "execution_count": 54
        }
      ]
    },
    {
      "cell_type": "markdown",
      "metadata": {
        "colab_type": "text",
        "id": "PO6sGI3Gvh01"
      },
      "source": [
        "Avaliando o modelo com a métrica r2"
      ]
    },
    {
      "cell_type": "code",
      "metadata": {
        "colab_type": "code",
        "outputId": "571b14e3-3546-4f9d-8cb1-e0d131153e2b",
        "id": "fQPgnd8dvh02",
        "colab": {
          "base_uri": "https://localhost:8080/",
          "height": 34
        }
      },
      "source": [
        "regressor.score(X_test, y_test)"
      ],
      "execution_count": 56,
      "outputs": [
        {
          "output_type": "execute_result",
          "data": {
            "text/plain": [
              "0.4759953905083013"
            ]
          },
          "metadata": {
            "tags": []
          },
          "execution_count": 56
        }
      ]
    },
    {
      "cell_type": "markdown",
      "metadata": {
        "colab_type": "text",
        "id": "XKpYcfrgvh04"
      },
      "source": [
        "### Realizando o processo de Backward Elimination\n"
      ]
    },
    {
      "cell_type": "markdown",
      "metadata": {
        "id": "YO6tuntUcdRT",
        "colab_type": "text"
      },
      "source": [
        "Realizando o processo de backward elimination. Primeiro, será inserido uma coluna preenchida com valores 1 no começo da matriz de variáveis. Isso é realizada para que sejam feito os calculos necessários:"
      ]
    },
    {
      "cell_type": "code",
      "metadata": {
        "id": "6SRDaFyZc3Zp",
        "colab_type": "code",
        "colab": {
          "base_uri": "https://localhost:8080/",
          "height": 34
        },
        "outputId": "6ccb79db-dbc0-4316-a0f9-bd95ea11e6c1"
      },
      "source": [
        "X_train = np.append(arr = np.ones((1168,1)).astype(int), values = X_train, axis =1)\n",
        "\n",
        "X_train[2,:]\n"
      ],
      "execution_count": 59,
      "outputs": [
        {
          "output_type": "execute_result",
          "data": {
            "text/plain": [
              "array([ 1.        , -0.1743691 , -0.06869175, -2.21296298, -2.02923537])"
            ]
          },
          "metadata": {
            "tags": []
          },
          "execution_count": 59
        }
      ]
    },
    {
      "cell_type": "markdown",
      "metadata": {
        "id": "DCA2FS2pdP9B",
        "colab_type": "text"
      },
      "source": [
        "Selecionando as variáveis do conjunto de treinamento e treinando o modelo com a package OLS que realiza o processo de cálculo dos coeficientes para analise:"
      ]
    },
    {
      "cell_type": "code",
      "metadata": {
        "id": "y7CxxtISwwSf",
        "colab_type": "code",
        "outputId": "d1559f53-7a95-4bc9-e4d7-7aa3e301993b",
        "colab": {
          "base_uri": "https://localhost:8080/",
          "height": 507
        }
      },
      "source": [
        "# Importando a package.\n",
        "import statsmodels.regression.linear_model as sm\n",
        "\n",
        "X_opt = X_train[:, [0,1,2,3,4]]\n",
        "regressor_ols = sm.OLS(endog = y_train, exog = X_opt).fit()\n",
        "regressor_ols.summary()"
      ],
      "execution_count": 61,
      "outputs": [
        {
          "output_type": "execute_result",
          "data": {
            "text/html": [
              "<table class=\"simpletable\">\n",
              "<caption>OLS Regression Results</caption>\n",
              "<tr>\n",
              "  <th>Dep. Variable:</th>            <td>y</td>        <th>  R-squared:         </th> <td>   0.490</td> \n",
              "</tr>\n",
              "<tr>\n",
              "  <th>Model:</th>                   <td>OLS</td>       <th>  Adj. R-squared:    </th> <td>   0.488</td> \n",
              "</tr>\n",
              "<tr>\n",
              "  <th>Method:</th>             <td>Least Squares</td>  <th>  F-statistic:       </th> <td>   279.4</td> \n",
              "</tr>\n",
              "<tr>\n",
              "  <th>Date:</th>             <td>Fri, 08 Nov 2019</td> <th>  Prob (F-statistic):</th> <td>2.31e-168</td>\n",
              "</tr>\n",
              "<tr>\n",
              "  <th>Time:</th>                 <td>15:09:52</td>     <th>  Log-Likelihood:    </th> <td> -14409.</td> \n",
              "</tr>\n",
              "<tr>\n",
              "  <th>No. Observations:</th>      <td>  1168</td>      <th>  AIC:               </th> <td>2.883e+04</td>\n",
              "</tr>\n",
              "<tr>\n",
              "  <th>Df Residuals:</th>          <td>  1163</td>      <th>  BIC:               </th> <td>2.885e+04</td>\n",
              "</tr>\n",
              "<tr>\n",
              "  <th>Df Model:</th>              <td>     4</td>      <th>                     </th>     <td> </td>    \n",
              "</tr>\n",
              "<tr>\n",
              "  <th>Covariance Type:</th>      <td>nonrobust</td>    <th>                     </th>     <td> </td>    \n",
              "</tr>\n",
              "</table>\n",
              "<table class=\"simpletable\">\n",
              "<tr>\n",
              "    <td></td>       <th>coef</th>     <th>std err</th>      <th>t</th>      <th>P>|t|</th>  <th>[0.025</th>    <th>0.975]</th>  \n",
              "</tr>\n",
              "<tr>\n",
              "  <th>const</th> <td> 1.809e+05</td> <td> 1617.751</td> <td>  111.820</td> <td> 0.000</td> <td> 1.78e+05</td> <td> 1.84e+05</td>\n",
              "</tr>\n",
              "<tr>\n",
              "  <th>x1</th>    <td> 1.268e+04</td> <td> 1533.794</td> <td>    8.267</td> <td> 0.000</td> <td> 9670.830</td> <td> 1.57e+04</td>\n",
              "</tr>\n",
              "<tr>\n",
              "  <th>x2</th>    <td> 4729.7608</td> <td> 1570.186</td> <td>    3.012</td> <td> 0.003</td> <td> 1649.047</td> <td> 7810.475</td>\n",
              "</tr>\n",
              "<tr>\n",
              "  <th>x3</th>    <td> 3.476e+04</td> <td> 1893.434</td> <td>   18.359</td> <td> 0.000</td> <td>  3.1e+04</td> <td> 3.85e+04</td>\n",
              "</tr>\n",
              "<tr>\n",
              "  <th>x4</th>    <td> 2.331e+04</td> <td> 1807.127</td> <td>   12.897</td> <td> 0.000</td> <td> 1.98e+04</td> <td> 2.69e+04</td>\n",
              "</tr>\n",
              "</table>\n",
              "<table class=\"simpletable\">\n",
              "<tr>\n",
              "  <th>Omnibus:</th>       <td>435.926</td> <th>  Durbin-Watson:     </th> <td>   2.015</td>\n",
              "</tr>\n",
              "<tr>\n",
              "  <th>Prob(Omnibus):</th> <td> 0.000</td>  <th>  Jarque-Bera (JB):  </th> <td>3360.331</td>\n",
              "</tr>\n",
              "<tr>\n",
              "  <th>Skew:</th>          <td> 1.517</td>  <th>  Prob(JB):          </th> <td>    0.00</td>\n",
              "</tr>\n",
              "<tr>\n",
              "  <th>Kurtosis:</th>      <td>10.736</td>  <th>  Cond. No.          </th> <td>    1.75</td>\n",
              "</tr>\n",
              "</table><br/><br/>Warnings:<br/>[1] Standard Errors assume that the covariance matrix of the errors is correctly specified."
            ],
            "text/plain": [
              "<class 'statsmodels.iolib.summary.Summary'>\n",
              "\"\"\"\n",
              "                            OLS Regression Results                            \n",
              "==============================================================================\n",
              "Dep. Variable:                      y   R-squared:                       0.490\n",
              "Model:                            OLS   Adj. R-squared:                  0.488\n",
              "Method:                 Least Squares   F-statistic:                     279.4\n",
              "Date:                Fri, 08 Nov 2019   Prob (F-statistic):          2.31e-168\n",
              "Time:                        15:09:52   Log-Likelihood:                -14409.\n",
              "No. Observations:                1168   AIC:                         2.883e+04\n",
              "Df Residuals:                    1163   BIC:                         2.885e+04\n",
              "Df Model:                           4                                         \n",
              "Covariance Type:            nonrobust                                         \n",
              "==============================================================================\n",
              "                 coef    std err          t      P>|t|      [0.025      0.975]\n",
              "------------------------------------------------------------------------------\n",
              "const       1.809e+05   1617.751    111.820      0.000    1.78e+05    1.84e+05\n",
              "x1          1.268e+04   1533.794      8.267      0.000    9670.830    1.57e+04\n",
              "x2          4729.7608   1570.186      3.012      0.003    1649.047    7810.475\n",
              "x3          3.476e+04   1893.434     18.359      0.000     3.1e+04    3.85e+04\n",
              "x4          2.331e+04   1807.127     12.897      0.000    1.98e+04    2.69e+04\n",
              "==============================================================================\n",
              "Omnibus:                      435.926   Durbin-Watson:                   2.015\n",
              "Prob(Omnibus):                  0.000   Jarque-Bera (JB):             3360.331\n",
              "Skew:                           1.517   Prob(JB):                         0.00\n",
              "Kurtosis:                      10.736   Cond. No.                         1.75\n",
              "==============================================================================\n",
              "\n",
              "Warnings:\n",
              "[1] Standard Errors assume that the covariance matrix of the errors is correctly specified.\n",
              "\"\"\""
            ]
          },
          "metadata": {
            "tags": []
          },
          "execution_count": 61
        }
      ]
    },
    {
      "cell_type": "markdown",
      "metadata": {
        "id": "vaUpqWO2dgT2",
        "colab_type": "text"
      },
      "source": [
        "Analisando os valores acima, vimos que a feature X2 (*PoolArea* - Área da piscina) possui o menor grau de importância, ou seja, o maior P-value, já que possui um p-value de .008, equanto as outras features possui um valor abaixo de .000 .Portanto, removemos a mesma e reiniciamos o processo conforme o algoritmo de Backward Elimination.  \n",
        "\n",
        "**Obs: Definimos um level de significância de .05 para que as features permaneçam no modelo (SL = .05).**"
      ]
    },
    {
      "cell_type": "code",
      "metadata": {
        "id": "SUUM2LlRgdSP",
        "colab_type": "code",
        "colab": {
          "base_uri": "https://localhost:8080/",
          "height": 486
        },
        "outputId": "f5935fe2-46d8-4ab8-96d3-2feaac6b4417"
      },
      "source": [
        "#Analisando todas as features, exceto a feature X2 (Índice 1)\n",
        "\n",
        "X_opt = X_train[:, [0,2,3,4]]\n",
        "regressor_ols = sm.OLS(endog = y_train, exog = X_opt).fit()\n",
        "regressor_ols.summary()"
      ],
      "execution_count": 62,
      "outputs": [
        {
          "output_type": "execute_result",
          "data": {
            "text/html": [
              "<table class=\"simpletable\">\n",
              "<caption>OLS Regression Results</caption>\n",
              "<tr>\n",
              "  <th>Dep. Variable:</th>            <td>y</td>        <th>  R-squared:         </th> <td>   0.460</td> \n",
              "</tr>\n",
              "<tr>\n",
              "  <th>Model:</th>                   <td>OLS</td>       <th>  Adj. R-squared:    </th> <td>   0.459</td> \n",
              "</tr>\n",
              "<tr>\n",
              "  <th>Method:</th>             <td>Least Squares</td>  <th>  F-statistic:       </th> <td>   330.7</td> \n",
              "</tr>\n",
              "<tr>\n",
              "  <th>Date:</th>             <td>Fri, 08 Nov 2019</td> <th>  Prob (F-statistic):</th> <td>2.90e-155</td>\n",
              "</tr>\n",
              "<tr>\n",
              "  <th>Time:</th>                 <td>15:10:03</td>     <th>  Log-Likelihood:    </th> <td> -14443.</td> \n",
              "</tr>\n",
              "<tr>\n",
              "  <th>No. Observations:</th>      <td>  1168</td>      <th>  AIC:               </th> <td>2.889e+04</td>\n",
              "</tr>\n",
              "<tr>\n",
              "  <th>Df Residuals:</th>          <td>  1164</td>      <th>  BIC:               </th> <td>2.891e+04</td>\n",
              "</tr>\n",
              "<tr>\n",
              "  <th>Df Model:</th>              <td>     3</td>      <th>                     </th>     <td> </td>    \n",
              "</tr>\n",
              "<tr>\n",
              "  <th>Covariance Type:</th>      <td>nonrobust</td>    <th>                     </th>     <td> </td>    \n",
              "</tr>\n",
              "</table>\n",
              "<table class=\"simpletable\">\n",
              "<tr>\n",
              "    <td></td>       <th>coef</th>     <th>std err</th>      <th>t</th>      <th>P>|t|</th>  <th>[0.025</th>    <th>0.975]</th>  \n",
              "</tr>\n",
              "<tr>\n",
              "  <th>const</th> <td> 1.811e+05</td> <td> 1663.777</td> <td>  108.821</td> <td> 0.000</td> <td> 1.78e+05</td> <td> 1.84e+05</td>\n",
              "</tr>\n",
              "<tr>\n",
              "  <th>x1</th>    <td> 5649.3615</td> <td> 1610.913</td> <td>    3.507</td> <td> 0.000</td> <td> 2488.743</td> <td> 8809.980</td>\n",
              "</tr>\n",
              "<tr>\n",
              "  <th>x2</th>    <td> 3.772e+04</td> <td> 1912.254</td> <td>   19.727</td> <td> 0.000</td> <td>  3.4e+04</td> <td> 4.15e+04</td>\n",
              "</tr>\n",
              "<tr>\n",
              "  <th>x3</th>    <td> 2.214e+04</td> <td> 1853.006</td> <td>   11.949</td> <td> 0.000</td> <td> 1.85e+04</td> <td> 2.58e+04</td>\n",
              "</tr>\n",
              "</table>\n",
              "<table class=\"simpletable\">\n",
              "<tr>\n",
              "  <th>Omnibus:</th>       <td>441.037</td> <th>  Durbin-Watson:     </th> <td>   1.983</td>\n",
              "</tr>\n",
              "<tr>\n",
              "  <th>Prob(Omnibus):</th> <td> 0.000</td>  <th>  Jarque-Bera (JB):  </th> <td>2831.186</td>\n",
              "</tr>\n",
              "<tr>\n",
              "  <th>Skew:</th>          <td> 1.602</td>  <th>  Prob(JB):          </th> <td>    0.00</td>\n",
              "</tr>\n",
              "<tr>\n",
              "  <th>Kurtosis:</th>      <td> 9.922</td>  <th>  Cond. No.          </th> <td>    1.67</td>\n",
              "</tr>\n",
              "</table><br/><br/>Warnings:<br/>[1] Standard Errors assume that the covariance matrix of the errors is correctly specified."
            ],
            "text/plain": [
              "<class 'statsmodels.iolib.summary.Summary'>\n",
              "\"\"\"\n",
              "                            OLS Regression Results                            \n",
              "==============================================================================\n",
              "Dep. Variable:                      y   R-squared:                       0.460\n",
              "Model:                            OLS   Adj. R-squared:                  0.459\n",
              "Method:                 Least Squares   F-statistic:                     330.7\n",
              "Date:                Fri, 08 Nov 2019   Prob (F-statistic):          2.90e-155\n",
              "Time:                        15:10:03   Log-Likelihood:                -14443.\n",
              "No. Observations:                1168   AIC:                         2.889e+04\n",
              "Df Residuals:                    1164   BIC:                         2.891e+04\n",
              "Df Model:                           3                                         \n",
              "Covariance Type:            nonrobust                                         \n",
              "==============================================================================\n",
              "                 coef    std err          t      P>|t|      [0.025      0.975]\n",
              "------------------------------------------------------------------------------\n",
              "const       1.811e+05   1663.777    108.821      0.000    1.78e+05    1.84e+05\n",
              "x1          5649.3615   1610.913      3.507      0.000    2488.743    8809.980\n",
              "x2          3.772e+04   1912.254     19.727      0.000     3.4e+04    4.15e+04\n",
              "x3          2.214e+04   1853.006     11.949      0.000    1.85e+04    2.58e+04\n",
              "==============================================================================\n",
              "Omnibus:                      441.037   Durbin-Watson:                   1.983\n",
              "Prob(Omnibus):                  0.000   Jarque-Bera (JB):             2831.186\n",
              "Skew:                           1.602   Prob(JB):                         0.00\n",
              "Kurtosis:                       9.922   Cond. No.                         1.67\n",
              "==============================================================================\n",
              "\n",
              "Warnings:\n",
              "[1] Standard Errors assume that the covariance matrix of the errors is correctly specified.\n",
              "\"\"\""
            ]
          },
          "metadata": {
            "tags": []
          },
          "execution_count": 62
        }
      ]
    },
    {
      "cell_type": "markdown",
      "metadata": {
        "id": "xJp_hnTkim6o",
        "colab_type": "text"
      },
      "source": [
        "**Final:** Todas as features acima estão dentro dentro intervalo de significância do modelo (SL = .05). Portanto, o processo é finalizado e seguimos para o treinamento do modelo."
      ]
    },
    {
      "cell_type": "code",
      "metadata": {
        "id": "_q6TLZini8iZ",
        "colab_type": "code",
        "colab": {
          "base_uri": "https://localhost:8080/",
          "height": 34
        },
        "outputId": "afe97b55-225c-405b-fd32-611fa7cdf79d"
      },
      "source": [
        "regressor = LinearRegression()\n",
        "regressor.fit(X_opt, y_train)"
      ],
      "execution_count": 63,
      "outputs": [
        {
          "output_type": "execute_result",
          "data": {
            "text/plain": [
              "LinearRegression(copy_X=True, fit_intercept=True, n_jobs=None, normalize=False)"
            ]
          },
          "metadata": {
            "tags": []
          },
          "execution_count": 63
        }
      ]
    },
    {
      "cell_type": "markdown",
      "metadata": {
        "id": "z4-ETswtkaLF",
        "colab_type": "text"
      },
      "source": [
        "Analisando o novo score do modelo com a métrica r2"
      ]
    },
    {
      "cell_type": "code",
      "metadata": {
        "id": "FGVjEh5jkaUj",
        "colab_type": "code",
        "colab": {
          "base_uri": "https://localhost:8080/",
          "height": 34
        },
        "outputId": "666a4c98-d164-49f7-fda1-8ace1ffc738d"
      },
      "source": [
        "regressor.score(X_test, y_test)"
      ],
      "execution_count": 64,
      "outputs": [
        {
          "output_type": "execute_result",
          "data": {
            "text/plain": [
              "0.4484569043113157"
            ]
          },
          "metadata": {
            "tags": []
          },
          "execution_count": 64
        }
      ]
    }
  ]
}