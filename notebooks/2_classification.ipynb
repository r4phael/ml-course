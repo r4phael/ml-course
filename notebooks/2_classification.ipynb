{
  "nbformat": 4,
  "nbformat_minor": 0,
  "metadata": {
    "colab": {
      "name": "2_classification.ipynb",
      "provenance": [],
      "collapsed_sections": [
        "2HLQY4sajblo",
        "zbK0Ru6tl5LE",
        "gIqtlsYGmOYq",
        "gjx9YdjKmPPi",
        "HCA1nZl8mQfa",
        "PURbDc9AmSmT"
      ],
      "toc_visible": true,
      "include_colab_link": true
    },
    "kernelspec": {
      "name": "python3",
      "display_name": "Python 3"
    }
  },
  "cells": [
    {
      "cell_type": "markdown",
      "metadata": {
        "id": "view-in-github",
        "colab_type": "text"
      },
      "source": [
        "<a href=\"https://colab.research.google.com/github/r4phael/ml-course/blob/master/notebooks/2_classification.ipynb\" target=\"_parent\"><img src=\"https://colab.research.google.com/assets/colab-badge.svg\" alt=\"Open In Colab\"/></a>"
      ]
    },
    {
      "cell_type": "markdown",
      "metadata": {
        "id": "EB3dPPlgQeVt",
        "colab_type": "text"
      },
      "source": [
        "#**Semana 2 - Modelos de Classificação**"
      ]
    },
    {
      "cell_type": "markdown",
      "metadata": {
        "id": "0KkcOxCxjptF",
        "colab_type": "text"
      },
      "source": [
        "### Importando libs  e funções"
      ]
    },
    {
      "cell_type": "markdown",
      "metadata": {
        "id": "k6l8c0olEHpN",
        "colab_type": "text"
      },
      "source": [
        "Importando libs"
      ]
    },
    {
      "cell_type": "code",
      "metadata": {
        "id": "i7FF5Glb_NrK",
        "colab_type": "code",
        "colab": {}
      },
      "source": [
        "import pandas as pd\n",
        "import random\n",
        "import numpy as np\n",
        "from sklearn.preprocessing import StandardScaler \n",
        "from sklearn.metrics import confusion_matrix\n",
        "from sklearn.model_selection import train_test_split\n",
        "from sklearn.metrics import f1_score\n",
        "from matplotlib.colors import ListedColormap\n",
        "from sklearn.metrics import confusion_matrix\n",
        "\n",
        "# Importando libs de visualização de dados\n",
        "import matplotlib.pyplot as plt\n",
        "import seaborn as sns; sns.set()"
      ],
      "execution_count": 0,
      "outputs": []
    },
    {
      "cell_type": "markdown",
      "metadata": {
        "id": "L7RydZ0qEIl4",
        "colab_type": "text"
      },
      "source": [
        "Importando funções"
      ]
    },
    {
      "cell_type": "code",
      "metadata": {
        "id": "KxneBJZUEIz4",
        "colab_type": "code",
        "colab": {}
      },
      "source": [
        "# Função que calcula os reais positivos\n",
        "def rp(tp, fn):\n",
        "    return tp + fn\n",
        "\n",
        "# Função que calcula os reais negativos     \n",
        "def rn(fp, tn):\n",
        "    return fp + tn\n",
        "\n",
        "# Função que calcula as predicoes positivas  \n",
        "def pp(tp, fp):\n",
        "    return tp + fp\n",
        "\n",
        "# Função que calcula as predicoes negativas   \n",
        "def pn(fn, tn):\n",
        "    return fn + tn\n",
        "\n",
        "# Função que calcula acurácia do modelo\n",
        "def accuracy (tp, fp, fn, tn):\n",
        "     accuracy = ((tp + tn) / (tp + tn + fp + fn))\n",
        "     return (accuracy)\n",
        "    \n",
        "# Função que calcula a precisão \n",
        "def precision (tp, fp):\n",
        "    precision =  (tp / (tp + fp)) #predições positivas\n",
        "    return precision\n",
        "\n",
        "# Função que calcula o recall\n",
        "def recall(tp, fn):\n",
        "    recall =  (tp / (tp + fn)) # reais positivos\n",
        "    return recall\n",
        "\n",
        "## Função que calcula o f-measure (media harmonica entre precision e recall)\n",
        "def f_measure(tp, fp, fn):\n",
        "    f_measure = (2 * precision(tp, fp) * recall(tp, fn)) / (recall(tp, fn) + precision(tp, fp))\n",
        "    return f_measure\n",
        "  \n",
        "# Função que calcula o Informedness \n",
        "def informedness(tp, fp, fn, tn):\n",
        "    inform = ((tp/rp(tp, fn)) - (fp/rn(fp, tn)))\n",
        "    return inform\n",
        "\n",
        "# Função que calcula o Markedness\n",
        "def markdness(tp, fp, fn, tn):    \n",
        "    mark = ((tp/pp(tp,fp)) - (fn/pn(fn,tn)))\n",
        "    return mark\n",
        "\n",
        "# Função de escalonamento\n",
        "def feature_scaling(data):\n",
        "    sc = StandardScaler()\n",
        "    return sc.fit_transform(data)\n",
        "\n",
        "# Função que gera o gráfico dos resultados de classificação\n",
        "def plot_results_class(X, y, classifier, title):\n",
        "    X_set, y_set = X, y\n",
        "    X1, X2 = np.meshgrid(np.arange(start = X_set[:, 0].min() - 1, stop = X_set[:, 0].max() + 1, step = 0.01),\n",
        "                         np.arange(start = X_set[:, 1].min() - 1, stop = X_set[:, 1].max() + 1, step = 0.01))\n",
        "    plt.contourf(X1, X2, classifier.predict(np.array([X1.ravel(), X2.ravel()]).T).reshape(X1.shape),\n",
        "                 alpha = 0.75, cmap = ListedColormap(('red', 'green')))\n",
        "    plt.xlim(X1.min(), X1.max())\n",
        "    plt.ylim(X2.min(), X2.max())\n",
        "    for i, j in enumerate(np.unique(y_set)):\n",
        "        plt.scatter(X_set[y_set == j, 0], X_set[y_set == j, 1],\n",
        "                    c = ListedColormap(('red', 'green'))(i), label = j)\n",
        "    plt.title(title)\n",
        "    plt.xlabel('Idade')\n",
        "    plt.ylabel('Tarifa')\n",
        "    plt.legend()\n",
        "    plt.show()"
      ],
      "execution_count": 0,
      "outputs": []
    },
    {
      "cell_type": "markdown",
      "metadata": {
        "id": "8CLZyvMlh_Qj",
        "colab_type": "text"
      },
      "source": [
        "### Etapa de exploração e tratamento dos dados"
      ]
    },
    {
      "cell_type": "markdown",
      "metadata": {
        "id": "ZfESkLx0EjB8",
        "colab_type": "text"
      },
      "source": [
        "Importando os dados dos passageiros do titanic e selecionando uma amostragem dos dados para uma melhor visualização. O objetivo dessa tarefa de classificação é prever os passageiros sobreviventes com base nas suas informações pessoais.\n",
        "\n",
        "Fonte: [Kaggle](https://www.kaggle.com/c/titanic/data)"
      ]
    },
    {
      "cell_type": "code",
      "metadata": {
        "id": "Yq6eIh3NJnuN",
        "colab_type": "code",
        "colab": {}
      },
      "source": [
        "df = pd.read_csv('https://raw.githubusercontent.com/r4phael/ml-course/master/data/titanic.csv')\n",
        "df = df.sample(n=100, random_state=0)"
      ],
      "execution_count": 0,
      "outputs": []
    },
    {
      "cell_type": "markdown",
      "metadata": {
        "id": "g-LzSHX1Jpg1",
        "colab_type": "text"
      },
      "source": [
        "Descrevendo o dataset"
      ]
    },
    {
      "cell_type": "code",
      "metadata": {
        "id": "hpLEK45DJomb",
        "colab_type": "code",
        "outputId": "e4391675-944d-4d78-d678-144399063233",
        "colab": {
          "base_uri": "https://localhost:8080/",
          "height": 306
        }
      },
      "source": [
        "# Exporando o dataset\n",
        "df.info()"
      ],
      "execution_count": 0,
      "outputs": [
        {
          "output_type": "stream",
          "text": [
            "<class 'pandas.core.frame.DataFrame'>\n",
            "Int64Index: 100 entries, 495 to 681\n",
            "Data columns (total 12 columns):\n",
            "PassengerId    100 non-null int64\n",
            "Survived       100 non-null int64\n",
            "Pclass         100 non-null int64\n",
            "Name           100 non-null object\n",
            "Sex            100 non-null object\n",
            "Age            79 non-null float64\n",
            "SibSp          100 non-null int64\n",
            "Parch          100 non-null int64\n",
            "Ticket         100 non-null object\n",
            "Fare           100 non-null float64\n",
            "Cabin          29 non-null object\n",
            "Embarked       100 non-null object\n",
            "dtypes: float64(2), int64(5), object(5)\n",
            "memory usage: 10.2+ KB\n"
          ],
          "name": "stdout"
        }
      ]
    },
    {
      "cell_type": "code",
      "metadata": {
        "id": "HQOuXFFIi8OZ",
        "colab_type": "code",
        "outputId": "fccc5842-6a4b-4196-d1fb-efa8b408391c",
        "colab": {
          "base_uri": "https://localhost:8080/",
          "height": 297
        }
      },
      "source": [
        "# Visualizando o sumário das colunas numéricas do dataset\n",
        "df.describe()"
      ],
      "execution_count": 0,
      "outputs": [
        {
          "output_type": "execute_result",
          "data": {
            "text/html": [
              "<div>\n",
              "<style scoped>\n",
              "    .dataframe tbody tr th:only-of-type {\n",
              "        vertical-align: middle;\n",
              "    }\n",
              "\n",
              "    .dataframe tbody tr th {\n",
              "        vertical-align: top;\n",
              "    }\n",
              "\n",
              "    .dataframe thead th {\n",
              "        text-align: right;\n",
              "    }\n",
              "</style>\n",
              "<table border=\"1\" class=\"dataframe\">\n",
              "  <thead>\n",
              "    <tr style=\"text-align: right;\">\n",
              "      <th></th>\n",
              "      <th>PassengerId</th>\n",
              "      <th>Survived</th>\n",
              "      <th>Pclass</th>\n",
              "      <th>Age</th>\n",
              "      <th>SibSp</th>\n",
              "      <th>Parch</th>\n",
              "      <th>Fare</th>\n",
              "    </tr>\n",
              "  </thead>\n",
              "  <tbody>\n",
              "    <tr>\n",
              "      <th>count</th>\n",
              "      <td>100.00000</td>\n",
              "      <td>100.00000</td>\n",
              "      <td>100.000000</td>\n",
              "      <td>79.000000</td>\n",
              "      <td>100.000000</td>\n",
              "      <td>100.000000</td>\n",
              "      <td>100.000000</td>\n",
              "    </tr>\n",
              "    <tr>\n",
              "      <th>mean</th>\n",
              "      <td>475.30000</td>\n",
              "      <td>0.43000</td>\n",
              "      <td>2.100000</td>\n",
              "      <td>27.948354</td>\n",
              "      <td>0.570000</td>\n",
              "      <td>0.430000</td>\n",
              "      <td>39.693957</td>\n",
              "    </tr>\n",
              "    <tr>\n",
              "      <th>std</th>\n",
              "      <td>256.15985</td>\n",
              "      <td>0.49757</td>\n",
              "      <td>0.881917</td>\n",
              "      <td>14.728176</td>\n",
              "      <td>1.046929</td>\n",
              "      <td>0.768772</td>\n",
              "      <td>51.751419</td>\n",
              "    </tr>\n",
              "    <tr>\n",
              "      <th>min</th>\n",
              "      <td>9.00000</td>\n",
              "      <td>0.00000</td>\n",
              "      <td>1.000000</td>\n",
              "      <td>0.420000</td>\n",
              "      <td>0.000000</td>\n",
              "      <td>0.000000</td>\n",
              "      <td>0.000000</td>\n",
              "    </tr>\n",
              "    <tr>\n",
              "      <th>25%</th>\n",
              "      <td>270.00000</td>\n",
              "      <td>0.00000</td>\n",
              "      <td>1.000000</td>\n",
              "      <td>19.000000</td>\n",
              "      <td>0.000000</td>\n",
              "      <td>0.000000</td>\n",
              "      <td>8.626050</td>\n",
              "    </tr>\n",
              "    <tr>\n",
              "      <th>50%</th>\n",
              "      <td>501.50000</td>\n",
              "      <td>0.00000</td>\n",
              "      <td>2.000000</td>\n",
              "      <td>26.000000</td>\n",
              "      <td>0.000000</td>\n",
              "      <td>0.000000</td>\n",
              "      <td>25.039600</td>\n",
              "    </tr>\n",
              "    <tr>\n",
              "      <th>75%</th>\n",
              "      <td>688.75000</td>\n",
              "      <td>1.00000</td>\n",
              "      <td>3.000000</td>\n",
              "      <td>35.000000</td>\n",
              "      <td>1.000000</td>\n",
              "      <td>1.000000</td>\n",
              "      <td>37.462500</td>\n",
              "    </tr>\n",
              "    <tr>\n",
              "      <th>max</th>\n",
              "      <td>891.00000</td>\n",
              "      <td>1.00000</td>\n",
              "      <td>3.000000</td>\n",
              "      <td>63.000000</td>\n",
              "      <td>4.000000</td>\n",
              "      <td>4.000000</td>\n",
              "      <td>263.000000</td>\n",
              "    </tr>\n",
              "  </tbody>\n",
              "</table>\n",
              "</div>"
            ],
            "text/plain": [
              "       PassengerId   Survived      Pclass  ...       SibSp       Parch        Fare\n",
              "count    100.00000  100.00000  100.000000  ...  100.000000  100.000000  100.000000\n",
              "mean     475.30000    0.43000    2.100000  ...    0.570000    0.430000   39.693957\n",
              "std      256.15985    0.49757    0.881917  ...    1.046929    0.768772   51.751419\n",
              "min        9.00000    0.00000    1.000000  ...    0.000000    0.000000    0.000000\n",
              "25%      270.00000    0.00000    1.000000  ...    0.000000    0.000000    8.626050\n",
              "50%      501.50000    0.00000    2.000000  ...    0.000000    0.000000   25.039600\n",
              "75%      688.75000    1.00000    3.000000  ...    1.000000    1.000000   37.462500\n",
              "max      891.00000    1.00000    3.000000  ...    4.000000    4.000000  263.000000\n",
              "\n",
              "[8 rows x 7 columns]"
            ]
          },
          "metadata": {
            "tags": []
          },
          "execution_count": 8
        }
      ]
    },
    {
      "cell_type": "markdown",
      "metadata": {
        "id": "tgh2pe9lJtr6",
        "colab_type": "text"
      },
      "source": [
        "Visualizando o dataset"
      ]
    },
    {
      "cell_type": "code",
      "metadata": {
        "id": "EvY28fJdJxey",
        "colab_type": "code",
        "outputId": "60f6980c-bcb2-4690-da0d-7306dda91ee4",
        "colab": {
          "base_uri": "https://localhost:8080/",
          "height": 204
        }
      },
      "source": [
        "df.head(5)"
      ],
      "execution_count": 0,
      "outputs": [
        {
          "output_type": "execute_result",
          "data": {
            "text/html": [
              "<div>\n",
              "<style scoped>\n",
              "    .dataframe tbody tr th:only-of-type {\n",
              "        vertical-align: middle;\n",
              "    }\n",
              "\n",
              "    .dataframe tbody tr th {\n",
              "        vertical-align: top;\n",
              "    }\n",
              "\n",
              "    .dataframe thead th {\n",
              "        text-align: right;\n",
              "    }\n",
              "</style>\n",
              "<table border=\"1\" class=\"dataframe\">\n",
              "  <thead>\n",
              "    <tr style=\"text-align: right;\">\n",
              "      <th></th>\n",
              "      <th>PassengerId</th>\n",
              "      <th>Survived</th>\n",
              "      <th>Pclass</th>\n",
              "      <th>Name</th>\n",
              "      <th>Sex</th>\n",
              "      <th>Age</th>\n",
              "      <th>SibSp</th>\n",
              "      <th>Parch</th>\n",
              "      <th>Ticket</th>\n",
              "      <th>Fare</th>\n",
              "      <th>Cabin</th>\n",
              "      <th>Embarked</th>\n",
              "    </tr>\n",
              "  </thead>\n",
              "  <tbody>\n",
              "    <tr>\n",
              "      <th>495</th>\n",
              "      <td>496</td>\n",
              "      <td>0</td>\n",
              "      <td>3</td>\n",
              "      <td>Yousseff, Mr. Gerious</td>\n",
              "      <td>male</td>\n",
              "      <td>NaN</td>\n",
              "      <td>0</td>\n",
              "      <td>0</td>\n",
              "      <td>2627</td>\n",
              "      <td>14.4583</td>\n",
              "      <td>NaN</td>\n",
              "      <td>C</td>\n",
              "    </tr>\n",
              "    <tr>\n",
              "      <th>648</th>\n",
              "      <td>649</td>\n",
              "      <td>0</td>\n",
              "      <td>3</td>\n",
              "      <td>Willey, Mr. Edward</td>\n",
              "      <td>male</td>\n",
              "      <td>NaN</td>\n",
              "      <td>0</td>\n",
              "      <td>0</td>\n",
              "      <td>S.O./P.P. 751</td>\n",
              "      <td>7.5500</td>\n",
              "      <td>NaN</td>\n",
              "      <td>S</td>\n",
              "    </tr>\n",
              "    <tr>\n",
              "      <th>278</th>\n",
              "      <td>279</td>\n",
              "      <td>0</td>\n",
              "      <td>3</td>\n",
              "      <td>Rice, Master. Eric</td>\n",
              "      <td>male</td>\n",
              "      <td>7.0</td>\n",
              "      <td>4</td>\n",
              "      <td>1</td>\n",
              "      <td>382652</td>\n",
              "      <td>29.1250</td>\n",
              "      <td>NaN</td>\n",
              "      <td>Q</td>\n",
              "    </tr>\n",
              "    <tr>\n",
              "      <th>31</th>\n",
              "      <td>32</td>\n",
              "      <td>1</td>\n",
              "      <td>1</td>\n",
              "      <td>Spencer, Mrs. William Augustus (Marie Eugenie)</td>\n",
              "      <td>female</td>\n",
              "      <td>NaN</td>\n",
              "      <td>1</td>\n",
              "      <td>0</td>\n",
              "      <td>PC 17569</td>\n",
              "      <td>146.5208</td>\n",
              "      <td>B78</td>\n",
              "      <td>C</td>\n",
              "    </tr>\n",
              "    <tr>\n",
              "      <th>255</th>\n",
              "      <td>256</td>\n",
              "      <td>1</td>\n",
              "      <td>3</td>\n",
              "      <td>Touma, Mrs. Darwis (Hanne Youssef Razi)</td>\n",
              "      <td>female</td>\n",
              "      <td>29.0</td>\n",
              "      <td>0</td>\n",
              "      <td>2</td>\n",
              "      <td>2650</td>\n",
              "      <td>15.2458</td>\n",
              "      <td>NaN</td>\n",
              "      <td>C</td>\n",
              "    </tr>\n",
              "  </tbody>\n",
              "</table>\n",
              "</div>"
            ],
            "text/plain": [
              "     PassengerId  Survived  Pclass  ...      Fare Cabin  Embarked\n",
              "495          496         0       3  ...   14.4583   NaN         C\n",
              "648          649         0       3  ...    7.5500   NaN         S\n",
              "278          279         0       3  ...   29.1250   NaN         Q\n",
              "31            32         1       1  ...  146.5208   B78         C\n",
              "255          256         1       3  ...   15.2458   NaN         C\n",
              "\n",
              "[5 rows x 12 columns]"
            ]
          },
          "metadata": {
            "tags": []
          },
          "execution_count": 9
        }
      ]
    },
    {
      "cell_type": "markdown",
      "metadata": {
        "id": "jiMAqVghJylz",
        "colab_type": "text"
      },
      "source": [
        "Preenchendo os valores númericos nulos (NA) com a mediana."
      ]
    },
    {
      "cell_type": "code",
      "metadata": {
        "id": "KFDodNK4JzlR",
        "colab_type": "code",
        "outputId": "8231da88-e4e7-48d0-a148-dbddd5a8b305",
        "colab": {
          "base_uri": "https://localhost:8080/",
          "height": 204
        }
      },
      "source": [
        "df = df.fillna(df.median())\n",
        "\n",
        "df.head(5)"
      ],
      "execution_count": 0,
      "outputs": [
        {
          "output_type": "execute_result",
          "data": {
            "text/html": [
              "<div>\n",
              "<style scoped>\n",
              "    .dataframe tbody tr th:only-of-type {\n",
              "        vertical-align: middle;\n",
              "    }\n",
              "\n",
              "    .dataframe tbody tr th {\n",
              "        vertical-align: top;\n",
              "    }\n",
              "\n",
              "    .dataframe thead th {\n",
              "        text-align: right;\n",
              "    }\n",
              "</style>\n",
              "<table border=\"1\" class=\"dataframe\">\n",
              "  <thead>\n",
              "    <tr style=\"text-align: right;\">\n",
              "      <th></th>\n",
              "      <th>PassengerId</th>\n",
              "      <th>Survived</th>\n",
              "      <th>Pclass</th>\n",
              "      <th>Name</th>\n",
              "      <th>Sex</th>\n",
              "      <th>Age</th>\n",
              "      <th>SibSp</th>\n",
              "      <th>Parch</th>\n",
              "      <th>Ticket</th>\n",
              "      <th>Fare</th>\n",
              "      <th>Cabin</th>\n",
              "      <th>Embarked</th>\n",
              "    </tr>\n",
              "  </thead>\n",
              "  <tbody>\n",
              "    <tr>\n",
              "      <th>495</th>\n",
              "      <td>496</td>\n",
              "      <td>0</td>\n",
              "      <td>3</td>\n",
              "      <td>Yousseff, Mr. Gerious</td>\n",
              "      <td>male</td>\n",
              "      <td>26.0</td>\n",
              "      <td>0</td>\n",
              "      <td>0</td>\n",
              "      <td>2627</td>\n",
              "      <td>14.4583</td>\n",
              "      <td>NaN</td>\n",
              "      <td>C</td>\n",
              "    </tr>\n",
              "    <tr>\n",
              "      <th>648</th>\n",
              "      <td>649</td>\n",
              "      <td>0</td>\n",
              "      <td>3</td>\n",
              "      <td>Willey, Mr. Edward</td>\n",
              "      <td>male</td>\n",
              "      <td>26.0</td>\n",
              "      <td>0</td>\n",
              "      <td>0</td>\n",
              "      <td>S.O./P.P. 751</td>\n",
              "      <td>7.5500</td>\n",
              "      <td>NaN</td>\n",
              "      <td>S</td>\n",
              "    </tr>\n",
              "    <tr>\n",
              "      <th>278</th>\n",
              "      <td>279</td>\n",
              "      <td>0</td>\n",
              "      <td>3</td>\n",
              "      <td>Rice, Master. Eric</td>\n",
              "      <td>male</td>\n",
              "      <td>7.0</td>\n",
              "      <td>4</td>\n",
              "      <td>1</td>\n",
              "      <td>382652</td>\n",
              "      <td>29.1250</td>\n",
              "      <td>NaN</td>\n",
              "      <td>Q</td>\n",
              "    </tr>\n",
              "    <tr>\n",
              "      <th>31</th>\n",
              "      <td>32</td>\n",
              "      <td>1</td>\n",
              "      <td>1</td>\n",
              "      <td>Spencer, Mrs. William Augustus (Marie Eugenie)</td>\n",
              "      <td>female</td>\n",
              "      <td>26.0</td>\n",
              "      <td>1</td>\n",
              "      <td>0</td>\n",
              "      <td>PC 17569</td>\n",
              "      <td>146.5208</td>\n",
              "      <td>B78</td>\n",
              "      <td>C</td>\n",
              "    </tr>\n",
              "    <tr>\n",
              "      <th>255</th>\n",
              "      <td>256</td>\n",
              "      <td>1</td>\n",
              "      <td>3</td>\n",
              "      <td>Touma, Mrs. Darwis (Hanne Youssef Razi)</td>\n",
              "      <td>female</td>\n",
              "      <td>29.0</td>\n",
              "      <td>0</td>\n",
              "      <td>2</td>\n",
              "      <td>2650</td>\n",
              "      <td>15.2458</td>\n",
              "      <td>NaN</td>\n",
              "      <td>C</td>\n",
              "    </tr>\n",
              "  </tbody>\n",
              "</table>\n",
              "</div>"
            ],
            "text/plain": [
              "     PassengerId  Survived  Pclass  ...      Fare Cabin  Embarked\n",
              "495          496         0       3  ...   14.4583   NaN         C\n",
              "648          649         0       3  ...    7.5500   NaN         S\n",
              "278          279         0       3  ...   29.1250   NaN         Q\n",
              "31            32         1       1  ...  146.5208   B78         C\n",
              "255          256         1       3  ...   15.2458   NaN         C\n",
              "\n",
              "[5 rows x 12 columns]"
            ]
          },
          "metadata": {
            "tags": []
          },
          "execution_count": 10
        }
      ]
    },
    {
      "cell_type": "markdown",
      "metadata": {
        "id": "jXWksGyoJ0u3",
        "colab_type": "text"
      },
      "source": [
        "Definindo as variáveis independentes e visualizando as 5 primeiras:"
      ]
    },
    {
      "cell_type": "code",
      "metadata": {
        "id": "lJ0y3JijJ1ii",
        "colab_type": "code",
        "outputId": "a9f4795a-6eea-4fdc-f270-6ef6e4313fc1",
        "colab": {
          "base_uri": "https://localhost:8080/",
          "height": 102
        }
      },
      "source": [
        "X = df.iloc[:, [5, 9]].values\n",
        "X[:5]\n"
      ],
      "execution_count": 0,
      "outputs": [
        {
          "output_type": "execute_result",
          "data": {
            "text/plain": [
              "array([[ 26.    ,  14.4583],\n",
              "       [ 26.    ,   7.55  ],\n",
              "       [  7.    ,  29.125 ],\n",
              "       [ 26.    , 146.5208],\n",
              "       [ 29.    ,  15.2458]])"
            ]
          },
          "metadata": {
            "tags": []
          },
          "execution_count": 11
        }
      ]
    },
    {
      "cell_type": "markdown",
      "metadata": {
        "id": "uISYBhKqUqpQ",
        "colab_type": "text"
      },
      "source": [
        "Definindo as variáveis dependentes e visualizando as 5 primeiras:"
      ]
    },
    {
      "cell_type": "code",
      "metadata": {
        "id": "okQl0J1SUq9h",
        "colab_type": "code",
        "outputId": "f9f8cdf7-7943-4df7-bc9b-07f8142a26ef",
        "colab": {
          "base_uri": "https://localhost:8080/",
          "height": 34
        }
      },
      "source": [
        "y = df.iloc[:, 1].values\n",
        "y[:5]\n"
      ],
      "execution_count": 0,
      "outputs": [
        {
          "output_type": "execute_result",
          "data": {
            "text/plain": [
              "array([0, 0, 0, 1, 1])"
            ]
          },
          "metadata": {
            "tags": []
          },
          "execution_count": 12
        }
      ]
    },
    {
      "cell_type": "markdown",
      "metadata": {
        "id": "yzJ08rJ4J3CS",
        "colab_type": "text"
      },
      "source": [
        " Criando os subconjuntos de treinamento e testes:"
      ]
    },
    {
      "cell_type": "code",
      "metadata": {
        "id": "tVz1mTUOJ4Tb",
        "colab_type": "code",
        "outputId": "23d53047-4416-4f5f-9fec-c112dae3fbb9",
        "colab": {
          "base_uri": "https://localhost:8080/",
          "height": 68
        }
      },
      "source": [
        "X_train, X_test, y_train, y_test = train_test_split(X, y, test_size = .2, random_state = 42)\n",
        "\n",
        "print(\"Tamanho do Dataset. {}\".format(df.shape[0]))\n",
        "print(\"Tamanho do Conjunto de Treinamento. {}\".format(len(X_train)))\n",
        "print(\"Tamanho do Conjunto de Testes. {}\".format(len(X_test)))"
      ],
      "execution_count": 0,
      "outputs": [
        {
          "output_type": "stream",
          "text": [
            "Tamanho do Dataset. 100\n",
            "Tamanho do Conjunto de Treinamento. 80\n",
            "Tamanho do Conjunto de Testes. 20\n"
          ],
          "name": "stdout"
        }
      ]
    },
    {
      "cell_type": "markdown",
      "metadata": {
        "id": "OcQtLvcXJ7NT",
        "colab_type": "text"
      },
      "source": [
        "Normalizando as features e exibindo as 5 primeiras:"
      ]
    },
    {
      "cell_type": "code",
      "metadata": {
        "id": "aXvlvQ9DJ7i3",
        "colab_type": "code",
        "outputId": "84ba2081-c61d-48f7-aa9f-d50f31b3ef16",
        "colab": {
          "base_uri": "https://localhost:8080/",
          "height": 102
        }
      },
      "source": [
        "X_train = feature_scaling(X_train)\n",
        "X_test = feature_scaling(X_test)\n",
        "\n",
        "X_train[:5]"
      ],
      "execution_count": 0,
      "outputs": [
        {
          "output_type": "execute_result",
          "data": {
            "text/plain": [
              "array([[-0.2233842 ,  0.62589282],\n",
              "       [ 0.50330481, -0.63776468],\n",
              "       [ 0.35796701, -0.68999987],\n",
              "       [-0.0780464 , -0.55753246],\n",
              "       [-0.58672871, -0.2466326 ]])"
            ]
          },
          "metadata": {
            "tags": []
          },
          "execution_count": 14
        }
      ]
    },
    {
      "cell_type": "markdown",
      "metadata": {
        "id": "jGXuG35WJ_Tj",
        "colab_type": "text"
      },
      "source": [
        "Treinando o modelo de Árvore de Decisão com o Conjunto de Treinamento"
      ]
    },
    {
      "cell_type": "markdown",
      "metadata": {
        "id": "2HLQY4sajblo",
        "colab_type": "text"
      },
      "source": [
        "### Modelo - Arvore de Decisão"
      ]
    },
    {
      "cell_type": "markdown",
      "metadata": {
        "id": "fENM_SBCkJhe",
        "colab_type": "text"
      },
      "source": [
        "Importando e treinando o modelo com o conjunto de treinamento:"
      ]
    },
    {
      "cell_type": "code",
      "metadata": {
        "id": "xo9Q5lxsKAVB",
        "colab_type": "code",
        "outputId": "76d11892-696e-4b9d-9de9-518f0911f130",
        "colab": {
          "base_uri": "https://localhost:8080/",
          "height": 119
        }
      },
      "source": [
        "from sklearn.tree import DecisionTreeClassifier\n",
        "\n",
        "classifier = DecisionTreeClassifier(criterion = 'entropy', random_state = 0)\n",
        "classifier.fit(X_train, y_train)"
      ],
      "execution_count": 0,
      "outputs": [
        {
          "output_type": "execute_result",
          "data": {
            "text/plain": [
              "DecisionTreeClassifier(class_weight=None, criterion='entropy', max_depth=None,\n",
              "                       max_features=None, max_leaf_nodes=None,\n",
              "                       min_impurity_decrease=0.0, min_impurity_split=None,\n",
              "                       min_samples_leaf=1, min_samples_split=2,\n",
              "                       min_weight_fraction_leaf=0.0, presort=False,\n",
              "                       random_state=0, splitter='best')"
            ]
          },
          "metadata": {
            "tags": []
          },
          "execution_count": 17
        }
      ]
    },
    {
      "cell_type": "markdown",
      "metadata": {
        "id": "FUYWJqnaKBvh",
        "colab_type": "text"
      },
      "source": [
        "Prevendo os resultados do modelo criado com o conjunto de testes"
      ]
    },
    {
      "cell_type": "code",
      "metadata": {
        "id": "SFvsig4SKCiC",
        "colab_type": "code",
        "outputId": "f1da30bd-46d7-4841-b171-60f41174f135",
        "colab": {
          "base_uri": "https://localhost:8080/",
          "height": 34
        }
      },
      "source": [
        "y_pred = classifier.predict(X_test)\n",
        "\n",
        "y_pred"
      ],
      "execution_count": 0,
      "outputs": [
        {
          "output_type": "execute_result",
          "data": {
            "text/plain": [
              "array([1, 0, 0, 0, 1, 0, 0, 0, 0, 0, 1, 1, 0, 1, 0, 1, 1, 0, 0, 1])"
            ]
          },
          "metadata": {
            "tags": []
          },
          "execution_count": 18
        }
      ]
    },
    {
      "cell_type": "markdown",
      "metadata": {
        "id": "kRjvN45RKFPq",
        "colab_type": "text"
      },
      "source": [
        "Criando e exibindo os valores da matriz de confusão com o conjunto de testes "
      ]
    },
    {
      "cell_type": "code",
      "metadata": {
        "id": "I3_jQ8N5KH-6",
        "colab_type": "code",
        "outputId": "17686b5b-966e-4f0e-f4a8-739b5d4ae8b6",
        "colab": {
          "base_uri": "https://localhost:8080/",
          "height": 51
        }
      },
      "source": [
        "tn, fp, fn, tp = confusion_matrix(y_test, y_pred).ravel()\n",
        "\n",
        "confusion_matrix(y_test, y_pred)"
      ],
      "execution_count": 0,
      "outputs": [
        {
          "output_type": "execute_result",
          "data": {
            "text/plain": [
              "array([[11,  4],\n",
              "       [ 1,  4]])"
            ]
          },
          "metadata": {
            "tags": []
          },
          "execution_count": 20
        }
      ]
    },
    {
      "cell_type": "markdown",
      "metadata": {
        "id": "-nSU2WTBWx9J",
        "colab_type": "text"
      },
      "source": [
        "Visualizando a matriz de confusão"
      ]
    },
    {
      "cell_type": "code",
      "metadata": {
        "id": "z4Vqm0QlWyJd",
        "colab_type": "code",
        "outputId": "ff26f886-8f22-4afc-cc64-9ccabe5619bc",
        "colab": {
          "base_uri": "https://localhost:8080/",
          "height": 241
        }
      },
      "source": [
        "mat = confusion_matrix(y_test, y_pred)\n",
        "sns.heatmap(mat.T, square=True, annot=True, fmt='d', cbar=False)\n",
        "plt.xlabel('true label')\n",
        "plt.ylabel('predicted label');"
      ],
      "execution_count": 0,
      "outputs": [
        {
          "output_type": "display_data",
          "data": {
            "image/png": "[encoded data removed]",
            "text/plain": [
              "<Figure size 432x288 with 1 Axes>"
            ]
          },
          "metadata": {
            "tags": []
          }
        }
      ]
    },
    {
      "cell_type": "markdown",
      "metadata": {
        "id": "c78T79jXKOUp",
        "colab_type": "text"
      },
      "source": [
        "Visualizando a métrica de **acurácia** utilizando as funções criadas e a bibilioteca sklearn:"
      ]
    },
    {
      "cell_type": "code",
      "metadata": {
        "id": "_0R3uCW0KPbB",
        "colab_type": "code",
        "outputId": "5c40e860-1b12-4221-ada0-60568ea8b20c",
        "colab": {
          "base_uri": "https://localhost:8080/",
          "height": 34
        }
      },
      "source": [
        "accuracy(tp, fp, fn, tn)\n",
        "classifier.score(X_test, y_test)"
      ],
      "execution_count": 0,
      "outputs": [
        {
          "output_type": "execute_result",
          "data": {
            "text/plain": [
              "0.75"
            ]
          },
          "metadata": {
            "tags": []
          },
          "execution_count": 25
        }
      ]
    },
    {
      "cell_type": "markdown",
      "metadata": {
        "id": "jSmSxUyFKQwY",
        "colab_type": "text"
      },
      "source": [
        "Exibindo a medida **f-measure**:"
      ]
    },
    {
      "cell_type": "code",
      "metadata": {
        "id": "uFJDUQ6kKRoU",
        "colab_type": "code",
        "outputId": "85b8d105-1441-44ad-8c10-291e461c0aac",
        "colab": {
          "base_uri": "https://localhost:8080/",
          "height": 34
        }
      },
      "source": [
        "f_measure(tp, fp, fn)\n",
        "f1_score(y_test, y_pred)  "
      ],
      "execution_count": 0,
      "outputs": [
        {
          "output_type": "execute_result",
          "data": {
            "text/plain": [
              "0.6153846153846154"
            ]
          },
          "metadata": {
            "tags": []
          },
          "execution_count": 26
        }
      ]
    },
    {
      "cell_type": "markdown",
      "metadata": {
        "id": "rTahZRcqKS2b",
        "colab_type": "text"
      },
      "source": [
        "Exibindo os resultados do conjunto de treinamento:"
      ]
    },
    {
      "cell_type": "code",
      "metadata": {
        "id": "2EAqhxovKT9a",
        "colab_type": "code",
        "outputId": "08189afb-c086-40f9-f509-aa7a85a8e435",
        "colab": {
          "base_uri": "https://localhost:8080/",
          "height": 349
        }
      },
      "source": [
        "plot_results_class(X_train, y_train, classifier, 'Arvore de Decisão (Conj. de Treinamento)')"
      ],
      "execution_count": 0,
      "outputs": [
        {
          "output_type": "stream",
          "text": [
            "'c' argument looks like a single numeric RGB or RGBA sequence, which should be avoided as value-mapping will have precedence in case its length matches with 'x' & 'y'.  Please use a 2-D array with a single row if you really want to specify the same RGB or RGBA value for all points.\n",
            "'c' argument looks like a single numeric RGB or RGBA sequence, which should be avoided as value-mapping will have precedence in case its length matches with 'x' & 'y'.  Please use a 2-D array with a single row if you really want to specify the same RGB or RGBA value for all points.\n"
          ],
          "name": "stderr"
        },
        {
          "output_type": "display_data",
          "data": {
            "image/png": "[encoded data removed]",
            "text/plain": [
              "<Figure size 432x288 with 1 Axes>"
            ]
          },
          "metadata": {
            "tags": []
          }
        }
      ]
    },
    {
      "cell_type": "markdown",
      "metadata": {
        "id": "hwRwnq82KU2w",
        "colab_type": "text"
      },
      "source": [
        "Exibindo os resultados do conjunto de testes:"
      ]
    },
    {
      "cell_type": "code",
      "metadata": {
        "id": "uXKEZrWQKV9R",
        "colab_type": "code",
        "outputId": "d3b57ce1-567d-4353-ed28-073e23dc4ebc",
        "colab": {
          "base_uri": "https://localhost:8080/",
          "height": 349
        }
      },
      "source": [
        "plot_results_class(X_test, y_test, classifier, 'Arvore de Decisão (Conj. de Testes)')"
      ],
      "execution_count": 0,
      "outputs": [
        {
          "output_type": "stream",
          "text": [
            "'c' argument looks like a single numeric RGB or RGBA sequence, which should be avoided as value-mapping will have precedence in case its length matches with 'x' & 'y'.  Please use a 2-D array with a single row if you really want to specify the same RGB or RGBA value for all points.\n",
            "'c' argument looks like a single numeric RGB or RGBA sequence, which should be avoided as value-mapping will have precedence in case its length matches with 'x' & 'y'.  Please use a 2-D array with a single row if you really want to specify the same RGB or RGBA value for all points.\n"
          ],
          "name": "stderr"
        },
        {
          "output_type": "display_data",
          "data": {
            "image/png": "[encoded data removed]",
            "text/plain": [
              "<Figure size 432x288 with 1 Axes>"
            ]
          },
          "metadata": {
            "tags": []
          }
        }
      ]
    },
    {
      "cell_type": "markdown",
      "metadata": {
        "colab_type": "text",
        "id": "zbK0Ru6tl5LE"
      },
      "source": [
        "### Modelo - KNN"
      ]
    },
    {
      "cell_type": "markdown",
      "metadata": {
        "colab_type": "text",
        "id": "EAAHE5RYl5LH"
      },
      "source": [
        "Importando e treinando o modelo com o conjunto de treinamento:"
      ]
    },
    {
      "cell_type": "code",
      "metadata": {
        "colab_type": "code",
        "outputId": "56b1236d-0ab6-46d9-ed6f-f68991f0eab2",
        "id": "WU5eIKjEl5LI",
        "colab": {
          "base_uri": "https://localhost:8080/",
          "height": 68
        }
      },
      "source": [
        "from sklearn.neighbors import KNeighborsClassifier\n",
        "\n",
        "classifier = KNeighborsClassifier(n_neighbors = 5, metric = 'minkowski', p = 2)\n",
        "classifier.fit(X_train, y_train)"
      ],
      "execution_count": 0,
      "outputs": [
        {
          "output_type": "execute_result",
          "data": {
            "text/plain": [
              "KNeighborsClassifier(algorithm='auto', leaf_size=30, metric='minkowski',\n",
              "                     metric_params=None, n_jobs=None, n_neighbors=5, p=2,\n",
              "                     weights='uniform')"
            ]
          },
          "metadata": {
            "tags": []
          },
          "execution_count": 27
        }
      ]
    },
    {
      "cell_type": "markdown",
      "metadata": {
        "colab_type": "text",
        "id": "Y56Jq-ZKl5LN"
      },
      "source": [
        "Prevendo os resultados do modelo criado com o conjunto de testes"
      ]
    },
    {
      "cell_type": "code",
      "metadata": {
        "colab_type": "code",
        "outputId": "059001e6-a783-418b-d0a1-c7ceecf55d74",
        "id": "OJN7AsDyl5LO",
        "colab": {
          "base_uri": "https://localhost:8080/",
          "height": 34
        }
      },
      "source": [
        "y_pred = classifier.predict(X_test)\n",
        "\n",
        "y_pred"
      ],
      "execution_count": 0,
      "outputs": [
        {
          "output_type": "execute_result",
          "data": {
            "text/plain": [
              "array([0, 0, 0, 1, 1, 1, 1, 0, 1, 1, 1, 1, 1, 0, 0, 1, 1, 1, 1, 0])"
            ]
          },
          "metadata": {
            "tags": []
          },
          "execution_count": 28
        }
      ]
    },
    {
      "cell_type": "markdown",
      "metadata": {
        "colab_type": "text",
        "id": "X6t0Fa4Ul5LR"
      },
      "source": [
        "Criando e exibindo os valores da matriz de confusão com o conjunto de testes "
      ]
    },
    {
      "cell_type": "code",
      "metadata": {
        "colab_type": "code",
        "outputId": "898446c4-9f47-46c8-9112-276bad4a52af",
        "id": "PlzZJaOil5LS",
        "colab": {
          "base_uri": "https://localhost:8080/",
          "height": 51
        }
      },
      "source": [
        "tn, fp, fn, tp = confusion_matrix(y_test, y_pred).ravel()\n",
        "\n",
        "confusion_matrix(y_test, y_pred)"
      ],
      "execution_count": 0,
      "outputs": [
        {
          "output_type": "execute_result",
          "data": {
            "text/plain": [
              "array([[ 4, 11],\n",
              "       [ 3,  2]])"
            ]
          },
          "metadata": {
            "tags": []
          },
          "execution_count": 29
        }
      ]
    },
    {
      "cell_type": "markdown",
      "metadata": {
        "colab_type": "text",
        "id": "P9f40Vfzl5LU"
      },
      "source": [
        "Visualizando a matriz de confusão"
      ]
    },
    {
      "cell_type": "code",
      "metadata": {
        "colab_type": "code",
        "outputId": "e8fb0d6b-3ec4-4b03-8371-be9977b8098f",
        "id": "qqiFmgVwl5LV",
        "colab": {
          "base_uri": "https://localhost:8080/",
          "height": 241
        }
      },
      "source": [
        "mat = confusion_matrix(y_test, y_pred)\n",
        "sns.heatmap(mat.T, square=True, annot=True, fmt='d', cbar=False)\n",
        "plt.xlabel('true label')\n",
        "plt.ylabel('predicted label');"
      ],
      "execution_count": 0,
      "outputs": [
        {
          "output_type": "display_data",
          "data": {
            "image/png": "[encoded data removed]",
            "text/plain": [
              "<Figure size 432x288 with 1 Axes>"
            ]
          },
          "metadata": {
            "tags": []
          }
        }
      ]
    },
    {
      "cell_type": "markdown",
      "metadata": {
        "colab_type": "text",
        "id": "mMxKP9NAl5LY"
      },
      "source": [
        "Visualizando a métrica de **acurácia** utilizando as funções criadas e a bibilioteca sklearn:"
      ]
    },
    {
      "cell_type": "code",
      "metadata": {
        "colab_type": "code",
        "outputId": "ae6b4d9c-7985-4afa-ecb5-6c28fddc0ce4",
        "id": "WmV2Oa12l5LZ",
        "colab": {
          "base_uri": "https://localhost:8080/",
          "height": 34
        }
      },
      "source": [
        "accuracy(tp, fp, fn, tn)\n",
        "classifier.score(X_test, y_test)"
      ],
      "execution_count": 0,
      "outputs": [
        {
          "output_type": "execute_result",
          "data": {
            "text/plain": [
              "0.3"
            ]
          },
          "metadata": {
            "tags": []
          },
          "execution_count": 31
        }
      ]
    },
    {
      "cell_type": "markdown",
      "metadata": {
        "colab_type": "text",
        "id": "O0YDgIgKl5Lb"
      },
      "source": [
        "Exibindo a medida **f-measure**:"
      ]
    },
    {
      "cell_type": "code",
      "metadata": {
        "colab_type": "code",
        "outputId": "9f1f7d2f-0188-4c32-80eb-fcb3f0c210e2",
        "id": "Nuf3121Sl5Lc",
        "colab": {
          "base_uri": "https://localhost:8080/",
          "height": 34
        }
      },
      "source": [
        "f_measure(tp, fp, fn)\n",
        "f1_score(y_test, y_pred)  "
      ],
      "execution_count": 0,
      "outputs": [
        {
          "output_type": "execute_result",
          "data": {
            "text/plain": [
              "0.2222222222222222"
            ]
          },
          "metadata": {
            "tags": []
          },
          "execution_count": 32
        }
      ]
    },
    {
      "cell_type": "markdown",
      "metadata": {
        "colab_type": "text",
        "id": "L4RGu-wNl5Le"
      },
      "source": [
        "Exibindo os resultados do conjunto de treinamento:"
      ]
    },
    {
      "cell_type": "code",
      "metadata": {
        "colab_type": "code",
        "outputId": "5541f1f5-025f-44ca-e9a7-8a673bfdc061",
        "id": "Ipg20q82l5Lf",
        "colab": {
          "base_uri": "https://localhost:8080/",
          "height": 355
        }
      },
      "source": [
        "plot_results_class(X_train, y_train, classifier, 'KNN (Conj. de Treinamento)')"
      ],
      "execution_count": 0,
      "outputs": [
        {
          "output_type": "stream",
          "text": [
            "'c' argument looks like a single numeric RGB or RGBA sequence, which should be avoided as value-mapping will have precedence in case its length matches with 'x' & 'y'.  Please use a 2-D array with a single row if you really want to specify the same RGB or RGBA value for all points.\n",
            "'c' argument looks like a single numeric RGB or RGBA sequence, which should be avoided as value-mapping will have precedence in case its length matches with 'x' & 'y'.  Please use a 2-D array with a single row if you really want to specify the same RGB or RGBA value for all points.\n"
          ],
          "name": "stderr"
        },
        {
          "output_type": "display_data",
          "data": {
            "image/png": "[encoded data removed]",
            "text/plain": [
              "<Figure size 432x288 with 1 Axes>"
            ]
          },
          "metadata": {
            "tags": []
          }
        }
      ]
    },
    {
      "cell_type": "markdown",
      "metadata": {
        "colab_type": "text",
        "id": "MWqQQMwdl5Li"
      },
      "source": [
        "Exibindo os resultados do conjunto de testes:"
      ]
    },
    {
      "cell_type": "code",
      "metadata": {
        "colab_type": "code",
        "outputId": "7c667b69-79a1-4713-a38d-6ff0ea967876",
        "id": "nWBEKf_Yl5Lj",
        "colab": {
          "base_uri": "https://localhost:8080/",
          "height": 355
        }
      },
      "source": [
        "plot_results_class(X_test, y_test, classifier, 'KNN (Conj. de Testes)')"
      ],
      "execution_count": 0,
      "outputs": [
        {
          "output_type": "stream",
          "text": [
            "'c' argument looks like a single numeric RGB or RGBA sequence, which should be avoided as value-mapping will have precedence in case its length matches with 'x' & 'y'.  Please use a 2-D array with a single row if you really want to specify the same RGB or RGBA value for all points.\n",
            "'c' argument looks like a single numeric RGB or RGBA sequence, which should be avoided as value-mapping will have precedence in case its length matches with 'x' & 'y'.  Please use a 2-D array with a single row if you really want to specify the same RGB or RGBA value for all points.\n"
          ],
          "name": "stderr"
        },
        {
          "output_type": "display_data",
          "data": {
            "image/png": "[encoded data removed]",
            "text/plain": [
              "<Figure size 432x288 with 1 Axes>"
            ]
          },
          "metadata": {
            "tags": []
          }
        }
      ]
    },
    {
      "cell_type": "markdown",
      "metadata": {
        "colab_type": "text",
        "id": "gIqtlsYGmOYq"
      },
      "source": [
        "### Modelo - Regressão Logística"
      ]
    },
    {
      "cell_type": "markdown",
      "metadata": {
        "colab_type": "text",
        "id": "oF9z-OwymOYs"
      },
      "source": [
        "Importando e treinando o modelo com o conjunto de treinamento:"
      ]
    },
    {
      "cell_type": "code",
      "metadata": {
        "colab_type": "code",
        "outputId": "cdbcc4da-3704-480a-f20d-06a9345d55dc",
        "id": "G1uuhHzumOYt",
        "colab": {
          "base_uri": "https://localhost:8080/",
          "height": 136
        }
      },
      "source": [
        "from sklearn.linear_model import LogisticRegression\n",
        "\n",
        "classifier = LogisticRegression(random_state = 0)\n",
        "classifier.fit(X_train, y_train)"
      ],
      "execution_count": 0,
      "outputs": [
        {
          "output_type": "stream",
          "text": [
            "/usr/local/lib/python3.6/dist-packages/sklearn/linear_model/logistic.py:432: FutureWarning: Default solver will be changed to 'lbfgs' in 0.22. Specify a solver to silence this warning.\n",
            "  FutureWarning)\n"
          ],
          "name": "stderr"
        },
        {
          "output_type": "execute_result",
          "data": {
            "text/plain": [
              "LogisticRegression(C=1.0, class_weight=None, dual=False, fit_intercept=True,\n",
              "                   intercept_scaling=1, l1_ratio=None, max_iter=100,\n",
              "                   multi_class='warn', n_jobs=None, penalty='l2',\n",
              "                   random_state=0, solver='warn', tol=0.0001, verbose=0,\n",
              "                   warm_start=False)"
            ]
          },
          "metadata": {
            "tags": []
          },
          "execution_count": 37
        }
      ]
    },
    {
      "cell_type": "markdown",
      "metadata": {
        "colab_type": "text",
        "id": "sKGRDMbWmOY1"
      },
      "source": [
        "Prevendo os resultados do modelo criado com o conjunto de testes"
      ]
    },
    {
      "cell_type": "code",
      "metadata": {
        "colab_type": "code",
        "outputId": "f32c7320-8e9b-4ecc-ca92-22526efd03f2",
        "id": "FAvYq8NemOY3",
        "colab": {
          "base_uri": "https://localhost:8080/",
          "height": 34
        }
      },
      "source": [
        "y_pred = classifier.predict(X_test)\n",
        "\n",
        "y_pred"
      ],
      "execution_count": 0,
      "outputs": [
        {
          "output_type": "execute_result",
          "data": {
            "text/plain": [
              "array([0, 0, 0, 0, 1, 0, 0, 0, 0, 0, 0, 0, 0, 1, 0, 0, 1, 0, 0, 0])"
            ]
          },
          "metadata": {
            "tags": []
          },
          "execution_count": 38
        }
      ]
    },
    {
      "cell_type": "markdown",
      "metadata": {
        "colab_type": "text",
        "id": "2qVdkDyzmOY_"
      },
      "source": [
        "Criando e exibindo os valores da matriz de confusão com o conjunto de testes "
      ]
    },
    {
      "cell_type": "code",
      "metadata": {
        "colab_type": "code",
        "outputId": "8ff56ea8-ac9e-46e1-9828-9e51e7c23f61",
        "id": "dzm-N1R7mOZD",
        "colab": {
          "base_uri": "https://localhost:8080/",
          "height": 51
        }
      },
      "source": [
        "tn, fp, fn, tp = confusion_matrix(y_test, y_pred).ravel()\n",
        "\n",
        "confusion_matrix(y_test, y_pred)"
      ],
      "execution_count": 0,
      "outputs": [
        {
          "output_type": "execute_result",
          "data": {
            "text/plain": [
              "array([[14,  1],\n",
              "       [ 3,  2]])"
            ]
          },
          "metadata": {
            "tags": []
          },
          "execution_count": 39
        }
      ]
    },
    {
      "cell_type": "markdown",
      "metadata": {
        "colab_type": "text",
        "id": "Vl2JrA-cmOZI"
      },
      "source": [
        "Visualizando a matriz de confusão"
      ]
    },
    {
      "cell_type": "code",
      "metadata": {
        "colab_type": "code",
        "outputId": "7fda7d57-7aaf-40bc-bb9a-24dbb18b88f6",
        "id": "o8x_wA2CmOZJ",
        "colab": {
          "base_uri": "https://localhost:8080/",
          "height": 241
        }
      },
      "source": [
        "mat = confusion_matrix(y_test, y_pred)\n",
        "sns.heatmap(mat.T, square=True, annot=True, fmt='d', cbar=False)\n",
        "plt.xlabel('true label')\n",
        "plt.ylabel('predicted label');"
      ],
      "execution_count": 0,
      "outputs": [
        {
          "output_type": "display_data",
          "data": {
            "image/png": "[encoded data removed]",
            "text/plain": [
              "<Figure size 432x288 with 1 Axes>"
            ]
          },
          "metadata": {
            "tags": []
          }
        }
      ]
    },
    {
      "cell_type": "markdown",
      "metadata": {
        "colab_type": "text",
        "id": "y6TAt9MomOZL"
      },
      "source": [
        "Visualizando a métrica de **acurácia** utilizando as funções criadas e a bibilioteca sklearn:"
      ]
    },
    {
      "cell_type": "code",
      "metadata": {
        "colab_type": "code",
        "outputId": "b630ad91-82c0-4c62-b6be-e9ea76fc4898",
        "id": "rMMCqczomOZM",
        "colab": {
          "base_uri": "https://localhost:8080/",
          "height": 34
        }
      },
      "source": [
        "accuracy(tp, fp, fn, tn)\n",
        "classifier.score(X_test, y_test)"
      ],
      "execution_count": 0,
      "outputs": [
        {
          "output_type": "execute_result",
          "data": {
            "text/plain": [
              "0.8"
            ]
          },
          "metadata": {
            "tags": []
          },
          "execution_count": 41
        }
      ]
    },
    {
      "cell_type": "markdown",
      "metadata": {
        "colab_type": "text",
        "id": "rAL1ztqJmOZP"
      },
      "source": [
        "Exibindo a medida **f-measure**:"
      ]
    },
    {
      "cell_type": "code",
      "metadata": {
        "colab_type": "code",
        "outputId": "2976d42b-a480-41ae-f82f-a0c27c059f79",
        "id": "dcg2oWJImOZQ",
        "colab": {
          "base_uri": "https://localhost:8080/",
          "height": 34
        }
      },
      "source": [
        "f_measure(tp, fp, fn)\n",
        "f1_score(y_test, y_pred)  "
      ],
      "execution_count": 0,
      "outputs": [
        {
          "output_type": "execute_result",
          "data": {
            "text/plain": [
              "0.5"
            ]
          },
          "metadata": {
            "tags": []
          },
          "execution_count": 42
        }
      ]
    },
    {
      "cell_type": "markdown",
      "metadata": {
        "colab_type": "text",
        "id": "6SG8SzeXmOZS"
      },
      "source": [
        "Exibindo os resultados do conjunto de treinamento:"
      ]
    },
    {
      "cell_type": "code",
      "metadata": {
        "colab_type": "code",
        "outputId": "9bb36315-6c51-4842-b8bb-67da5b2f771d",
        "id": "_xENnpTxmOZU",
        "colab": {
          "base_uri": "https://localhost:8080/",
          "height": 355
        }
      },
      "source": [
        "plot_results_class(X_train, y_train, classifier, 'Regressão Logística (Conj. de Treinamento)')"
      ],
      "execution_count": 0,
      "outputs": [
        {
          "output_type": "stream",
          "text": [
            "'c' argument looks like a single numeric RGB or RGBA sequence, which should be avoided as value-mapping will have precedence in case its length matches with 'x' & 'y'.  Please use a 2-D array with a single row if you really want to specify the same RGB or RGBA value for all points.\n",
            "'c' argument looks like a single numeric RGB or RGBA sequence, which should be avoided as value-mapping will have precedence in case its length matches with 'x' & 'y'.  Please use a 2-D array with a single row if you really want to specify the same RGB or RGBA value for all points.\n"
          ],
          "name": "stderr"
        },
        {
          "output_type": "display_data",
          "data": {
            "image/png": "[encoded data removed]",
            "text/plain": [
              "<Figure size 432x288 with 1 Axes>"
            ]
          },
          "metadata": {
            "tags": []
          }
        }
      ]
    },
    {
      "cell_type": "markdown",
      "metadata": {
        "colab_type": "text",
        "id": "QwmncO8mmOZa"
      },
      "source": [
        "Exibindo os resultados do conjunto de testes:"
      ]
    },
    {
      "cell_type": "code",
      "metadata": {
        "colab_type": "code",
        "outputId": "2d173e64-1974-4422-f4d3-28918f4f457a",
        "id": "tA-DeHAMmOZb",
        "colab": {
          "base_uri": "https://localhost:8080/",
          "height": 355
        }
      },
      "source": [
        "plot_results_class(X_test, y_test, classifier, 'Regressão Logística (Conj. de Testes)')"
      ],
      "execution_count": 0,
      "outputs": [
        {
          "output_type": "stream",
          "text": [
            "'c' argument looks like a single numeric RGB or RGBA sequence, which should be avoided as value-mapping will have precedence in case its length matches with 'x' & 'y'.  Please use a 2-D array with a single row if you really want to specify the same RGB or RGBA value for all points.\n",
            "'c' argument looks like a single numeric RGB or RGBA sequence, which should be avoided as value-mapping will have precedence in case its length matches with 'x' & 'y'.  Please use a 2-D array with a single row if you really want to specify the same RGB or RGBA value for all points.\n"
          ],
          "name": "stderr"
        },
        {
          "output_type": "display_data",
          "data": {
            "image/png": "[encoded data removed]",
            "text/plain": [
              "<Figure size 432x288 with 1 Axes>"
            ]
          },
          "metadata": {
            "tags": []
          }
        }
      ]
    },
    {
      "cell_type": "markdown",
      "metadata": {
        "colab_type": "text",
        "id": "gjx9YdjKmPPi"
      },
      "source": [
        "### Modelo - Naive Bayes"
      ]
    },
    {
      "cell_type": "markdown",
      "metadata": {
        "colab_type": "text",
        "id": "AT8scwiCmPPj"
      },
      "source": [
        "Importando e treinando o modelo com o conjunto de treinamento:"
      ]
    },
    {
      "cell_type": "code",
      "metadata": {
        "colab_type": "code",
        "outputId": "e35cd48a-f5e1-432a-9a7f-441d457ff6dc",
        "id": "GAklVBmRmPPk",
        "colab": {
          "base_uri": "https://localhost:8080/",
          "height": 34
        }
      },
      "source": [
        "from sklearn.naive_bayes import GaussianNB\n",
        "\n",
        "classifier = GaussianNB()\n",
        "classifier.fit(X_train, y_train)"
      ],
      "execution_count": 0,
      "outputs": [
        {
          "output_type": "execute_result",
          "data": {
            "text/plain": [
              "GaussianNB(priors=None, var_smoothing=1e-09)"
            ]
          },
          "metadata": {
            "tags": []
          },
          "execution_count": 45
        }
      ]
    },
    {
      "cell_type": "markdown",
      "metadata": {
        "colab_type": "text",
        "id": "DC8SLp0UmPPp"
      },
      "source": [
        "Prevendo os resultados do modelo criado com o conjunto de testes"
      ]
    },
    {
      "cell_type": "code",
      "metadata": {
        "colab_type": "code",
        "outputId": "eafb58a8-28f1-40e9-c518-676b0375bb92",
        "id": "jFDOI9RWmPPq",
        "colab": {
          "base_uri": "https://localhost:8080/",
          "height": 34
        }
      },
      "source": [
        "y_pred = classifier.predict(X_test)\n",
        "\n",
        "y_pred"
      ],
      "execution_count": 0,
      "outputs": [
        {
          "output_type": "execute_result",
          "data": {
            "text/plain": [
              "array([0, 0, 0, 0, 1, 1, 0, 0, 0, 0, 0, 0, 0, 0, 0, 0, 1, 0, 0, 0])"
            ]
          },
          "metadata": {
            "tags": []
          },
          "execution_count": 46
        }
      ]
    },
    {
      "cell_type": "markdown",
      "metadata": {
        "colab_type": "text",
        "id": "JvJ8uCcTmPPt"
      },
      "source": [
        "Criando e exibindo os valores da matriz de confusão com o conjunto de testes "
      ]
    },
    {
      "cell_type": "code",
      "metadata": {
        "colab_type": "code",
        "outputId": "2ecd590d-cb35-49d4-9ad7-6b0655311de1",
        "id": "Doq9WpM2mPPu",
        "colab": {
          "base_uri": "https://localhost:8080/",
          "height": 51
        }
      },
      "source": [
        "tn, fp, fn, tp = confusion_matrix(y_test, y_pred).ravel()\n",
        "\n",
        "confusion_matrix(y_test, y_pred)"
      ],
      "execution_count": 0,
      "outputs": [
        {
          "output_type": "execute_result",
          "data": {
            "text/plain": [
              "array([[13,  2],\n",
              "       [ 4,  1]])"
            ]
          },
          "metadata": {
            "tags": []
          },
          "execution_count": 47
        }
      ]
    },
    {
      "cell_type": "markdown",
      "metadata": {
        "colab_type": "text",
        "id": "aLKd1JPmmPPy"
      },
      "source": [
        "Visualizando a matriz de confusão"
      ]
    },
    {
      "cell_type": "code",
      "metadata": {
        "colab_type": "code",
        "outputId": "c0ba7398-173f-420a-8444-f8e2d4450d41",
        "id": "VaBCqoCdmPPy",
        "colab": {
          "base_uri": "https://localhost:8080/",
          "height": 241
        }
      },
      "source": [
        "mat = confusion_matrix(y_test, y_pred)\n",
        "sns.heatmap(mat.T, square=True, annot=True, fmt='d', cbar=False)\n",
        "plt.xlabel('true label')\n",
        "plt.ylabel('predicted label');"
      ],
      "execution_count": 0,
      "outputs": [
        {
          "output_type": "display_data",
          "data": {
            "image/png": "[encoded data removed]",
            "text/plain": [
              "<Figure size 432x288 with 1 Axes>"
            ]
          },
          "metadata": {
            "tags": []
          }
        }
      ]
    },
    {
      "cell_type": "markdown",
      "metadata": {
        "colab_type": "text",
        "id": "ln1UqeOYmPP2"
      },
      "source": [
        "Visualizando a métrica de **acurácia** utilizando as funções criadas e a bibilioteca sklearn:"
      ]
    },
    {
      "cell_type": "code",
      "metadata": {
        "colab_type": "code",
        "outputId": "0c325db2-3b98-4c68-fe2f-f1c7a622bf54",
        "id": "7CDysjYVmPP3",
        "colab": {
          "base_uri": "https://localhost:8080/",
          "height": 34
        }
      },
      "source": [
        "accuracy(tp, fp, fn, tn)\n",
        "classifier.score(X_test, y_test)"
      ],
      "execution_count": 0,
      "outputs": [
        {
          "output_type": "execute_result",
          "data": {
            "text/plain": [
              "0.7"
            ]
          },
          "metadata": {
            "tags": []
          },
          "execution_count": 49
        }
      ]
    },
    {
      "cell_type": "markdown",
      "metadata": {
        "colab_type": "text",
        "id": "_0kVEQuUmPP5"
      },
      "source": [
        "Exibindo a medida **f-measure**:"
      ]
    },
    {
      "cell_type": "code",
      "metadata": {
        "colab_type": "code",
        "outputId": "c4b29d6f-803d-442e-b793-c7aef4006add",
        "id": "WG6WP5WhmPP5",
        "colab": {
          "base_uri": "https://localhost:8080/",
          "height": 34
        }
      },
      "source": [
        "f_measure(tp, fp, fn)\n",
        "f1_score(y_test, y_pred)  "
      ],
      "execution_count": 0,
      "outputs": [
        {
          "output_type": "execute_result",
          "data": {
            "text/plain": [
              "0.25"
            ]
          },
          "metadata": {
            "tags": []
          },
          "execution_count": 50
        }
      ]
    },
    {
      "cell_type": "markdown",
      "metadata": {
        "colab_type": "text",
        "id": "g3KGF2JOmPP9"
      },
      "source": [
        "Exibindo os resultados do conjunto de treinamento:"
      ]
    },
    {
      "cell_type": "code",
      "metadata": {
        "colab_type": "code",
        "outputId": "8318cd57-4c76-4a86-fbb5-dbd22f4e4c7c",
        "id": "BeazLUQ6mPP_",
        "colab": {
          "base_uri": "https://localhost:8080/",
          "height": 355
        }
      },
      "source": [
        "plot_results_class(X_train, y_train, classifier, 'Naive Bayes (Conj. de Treinamento)')"
      ],
      "execution_count": 0,
      "outputs": [
        {
          "output_type": "stream",
          "text": [
            "'c' argument looks like a single numeric RGB or RGBA sequence, which should be avoided as value-mapping will have precedence in case its length matches with 'x' & 'y'.  Please use a 2-D array with a single row if you really want to specify the same RGB or RGBA value for all points.\n",
            "'c' argument looks like a single numeric RGB or RGBA sequence, which should be avoided as value-mapping will have precedence in case its length matches with 'x' & 'y'.  Please use a 2-D array with a single row if you really want to specify the same RGB or RGBA value for all points.\n"
          ],
          "name": "stderr"
        },
        {
          "output_type": "display_data",
          "data": {
            "image/png": "[encoded data removed]",
            "text/plain": [
              "<Figure size 432x288 with 1 Axes>"
            ]
          },
          "metadata": {
            "tags": []
          }
        }
      ]
    },
    {
      "cell_type": "markdown",
      "metadata": {
        "colab_type": "text",
        "id": "7iS4F7U7mPQE"
      },
      "source": [
        "Exibindo os resultados do conjunto de testes:"
      ]
    },
    {
      "cell_type": "code",
      "metadata": {
        "colab_type": "code",
        "outputId": "db7eefbe-4ba0-4345-8d32-7512e4449e39",
        "id": "_CdpNGHemPQG",
        "colab": {
          "base_uri": "https://localhost:8080/",
          "height": 355
        }
      },
      "source": [
        "plot_results_class(X_test, y_test, classifier, 'Naive Bayes (Conj. de Testes)')"
      ],
      "execution_count": 0,
      "outputs": [
        {
          "output_type": "stream",
          "text": [
            "'c' argument looks like a single numeric RGB or RGBA sequence, which should be avoided as value-mapping will have precedence in case its length matches with 'x' & 'y'.  Please use a 2-D array with a single row if you really want to specify the same RGB or RGBA value for all points.\n",
            "'c' argument looks like a single numeric RGB or RGBA sequence, which should be avoided as value-mapping will have precedence in case its length matches with 'x' & 'y'.  Please use a 2-D array with a single row if you really want to specify the same RGB or RGBA value for all points.\n"
          ],
          "name": "stderr"
        },
        {
          "output_type": "display_data",
          "data": {
            "image/png": "[encoded data removed]",
            "text/plain": [
              "<Figure size 432x288 with 1 Axes>"
            ]
          },
          "metadata": {
            "tags": []
          }
        }
      ]
    },
    {
      "cell_type": "markdown",
      "metadata": {
        "colab_type": "text",
        "id": "HCA1nZl8mQfa"
      },
      "source": [
        "### Modelo - Random Forest"
      ]
    },
    {
      "cell_type": "markdown",
      "metadata": {
        "colab_type": "text",
        "id": "0Sve4CdtmQfc"
      },
      "source": [
        "Importando e treinando o modelo com o conjunto de treinamento:"
      ]
    },
    {
      "cell_type": "code",
      "metadata": {
        "colab_type": "code",
        "outputId": "23d00441-acb5-43a8-e8ae-2847767424c1",
        "id": "b8cp2ifUmQfc",
        "colab": {
          "base_uri": "https://localhost:8080/",
          "height": 136
        }
      },
      "source": [
        "from sklearn.ensemble import RandomForestClassifier\n",
        "\n",
        "classifier = RandomForestClassifier(n_estimators = 10, criterion = 'entropy', random_state = 0)\n",
        "classifier.fit(X_train, y_train)"
      ],
      "execution_count": 0,
      "outputs": [
        {
          "output_type": "execute_result",
          "data": {
            "text/plain": [
              "RandomForestClassifier(bootstrap=True, class_weight=None, criterion='entropy',\n",
              "                       max_depth=None, max_features='auto', max_leaf_nodes=None,\n",
              "                       min_impurity_decrease=0.0, min_impurity_split=None,\n",
              "                       min_samples_leaf=1, min_samples_split=2,\n",
              "                       min_weight_fraction_leaf=0.0, n_estimators=10,\n",
              "                       n_jobs=None, oob_score=False, random_state=0, verbose=0,\n",
              "                       warm_start=False)"
            ]
          },
          "metadata": {
            "tags": []
          },
          "execution_count": 53
        }
      ]
    },
    {
      "cell_type": "markdown",
      "metadata": {
        "colab_type": "text",
        "id": "wUQyWs5ImQff"
      },
      "source": [
        "Prevendo os resultados do modelo criado com o conjunto de testes"
      ]
    },
    {
      "cell_type": "code",
      "metadata": {
        "colab_type": "code",
        "outputId": "3c99cbbc-88e1-48b5-f93d-e075b5fb58eb",
        "id": "dRdniANbmQfg",
        "colab": {
          "base_uri": "https://localhost:8080/",
          "height": 34
        }
      },
      "source": [
        "y_pred = classifier.predict(X_test)\n",
        "\n",
        "y_pred"
      ],
      "execution_count": 0,
      "outputs": [
        {
          "output_type": "execute_result",
          "data": {
            "text/plain": [
              "array([1, 0, 0, 1, 1, 0, 1, 0, 1, 1, 1, 1, 1, 0, 1, 1, 1, 1, 1, 1])"
            ]
          },
          "metadata": {
            "tags": []
          },
          "execution_count": 54
        }
      ]
    },
    {
      "cell_type": "markdown",
      "metadata": {
        "colab_type": "text",
        "id": "kgvWGCQrmQfi"
      },
      "source": [
        "Criando e exibindo os valores da matriz de confusão com o conjunto de testes "
      ]
    },
    {
      "cell_type": "code",
      "metadata": {
        "colab_type": "code",
        "outputId": "b781782a-b5e3-4a27-bf0b-51fb2893bd6e",
        "id": "p6XwRWnSmQfi",
        "colab": {
          "base_uri": "https://localhost:8080/",
          "height": 51
        }
      },
      "source": [
        "tn, fp, fn, tp = confusion_matrix(y_test, y_pred).ravel()\n",
        "\n",
        "confusion_matrix(y_test, y_pred)"
      ],
      "execution_count": 0,
      "outputs": [
        {
          "output_type": "execute_result",
          "data": {
            "text/plain": [
              "array([[ 3, 12],\n",
              "       [ 2,  3]])"
            ]
          },
          "metadata": {
            "tags": []
          },
          "execution_count": 55
        }
      ]
    },
    {
      "cell_type": "markdown",
      "metadata": {
        "colab_type": "text",
        "id": "pe5DZX8ymQfk"
      },
      "source": [
        "Visualizando a matriz de confusão"
      ]
    },
    {
      "cell_type": "code",
      "metadata": {
        "colab_type": "code",
        "outputId": "27d4c70c-b350-4803-eb31-51fbdfa0873a",
        "id": "mSrjTAhwmQfl",
        "colab": {
          "base_uri": "https://localhost:8080/",
          "height": 241
        }
      },
      "source": [
        "mat = confusion_matrix(y_test, y_pred)\n",
        "sns.heatmap(mat.T, square=True, annot=True, fmt='d', cbar=False)\n",
        "plt.xlabel('true label')\n",
        "plt.ylabel('predicted label');"
      ],
      "execution_count": 0,
      "outputs": [
        {
          "output_type": "display_data",
          "data": {
            "image/png": "[encoded data removed]",
            "text/plain": [
              "<Figure size 432x288 with 1 Axes>"
            ]
          },
          "metadata": {
            "tags": []
          }
        }
      ]
    },
    {
      "cell_type": "markdown",
      "metadata": {
        "colab_type": "text",
        "id": "cH4-oUugmQfn"
      },
      "source": [
        "Visualizando a métrica de **acurácia** utilizando as funções criadas e a bibilioteca sklearn:"
      ]
    },
    {
      "cell_type": "code",
      "metadata": {
        "colab_type": "code",
        "outputId": "704783f4-12d1-4626-d3c9-b9247378bcba",
        "id": "eboYoEm1mQfp",
        "colab": {
          "base_uri": "https://localhost:8080/",
          "height": 34
        }
      },
      "source": [
        "accuracy(tp, fp, fn, tn)\n",
        "classifier.score(X_test, y_test)"
      ],
      "execution_count": 0,
      "outputs": [
        {
          "output_type": "execute_result",
          "data": {
            "text/plain": [
              "0.3"
            ]
          },
          "metadata": {
            "tags": []
          },
          "execution_count": 57
        }
      ]
    },
    {
      "cell_type": "markdown",
      "metadata": {
        "colab_type": "text",
        "id": "cHHXhyc2mQfy"
      },
      "source": [
        "Exibindo a medida **f-measure**:"
      ]
    },
    {
      "cell_type": "code",
      "metadata": {
        "colab_type": "code",
        "outputId": "d5ea7df5-5a1a-4ad6-b28f-63931f156ef6",
        "id": "5peZw-QUmQf0",
        "colab": {
          "base_uri": "https://localhost:8080/",
          "height": 34
        }
      },
      "source": [
        "f_measure(tp, fp, fn)\n",
        "f1_score(y_test, y_pred)  "
      ],
      "execution_count": 0,
      "outputs": [
        {
          "output_type": "execute_result",
          "data": {
            "text/plain": [
              "0.3"
            ]
          },
          "metadata": {
            "tags": []
          },
          "execution_count": 58
        }
      ]
    },
    {
      "cell_type": "markdown",
      "metadata": {
        "colab_type": "text",
        "id": "-C5CUc-MmQf5"
      },
      "source": [
        "Exibindo os resultados do conjunto de treinamento:"
      ]
    },
    {
      "cell_type": "code",
      "metadata": {
        "colab_type": "code",
        "outputId": "febbc0ea-8e6d-46e3-9a1c-814b25455c39",
        "id": "GmXNpdoMmQf6",
        "colab": {
          "base_uri": "https://localhost:8080/",
          "height": 355
        }
      },
      "source": [
        "plot_results_class(X_train, y_train, classifier, 'Random Forest (Conj. de Treinamento)')"
      ],
      "execution_count": 0,
      "outputs": [
        {
          "output_type": "stream",
          "text": [
            "'c' argument looks like a single numeric RGB or RGBA sequence, which should be avoided as value-mapping will have precedence in case its length matches with 'x' & 'y'.  Please use a 2-D array with a single row if you really want to specify the same RGB or RGBA value for all points.\n",
            "'c' argument looks like a single numeric RGB or RGBA sequence, which should be avoided as value-mapping will have precedence in case its length matches with 'x' & 'y'.  Please use a 2-D array with a single row if you really want to specify the same RGB or RGBA value for all points.\n"
          ],
          "name": "stderr"
        },
        {
          "output_type": "display_data",
          "data": {
            "image/png": "[encoded data removed]",
            "text/plain": [
              "<Figure size 432x288 with 1 Axes>"
            ]
          },
          "metadata": {
            "tags": []
          }
        }
      ]
    },
    {
      "cell_type": "markdown",
      "metadata": {
        "colab_type": "text",
        "id": "6Rc6wQE3mQf-"
      },
      "source": [
        "Exibindo os resultados do conjunto de testes:"
      ]
    },
    {
      "cell_type": "code",
      "metadata": {
        "colab_type": "code",
        "outputId": "845d9c5b-14bb-43c0-ef72-07d95dcd557e",
        "id": "A6QU5AkGmQf_",
        "colab": {
          "base_uri": "https://localhost:8080/",
          "height": 355
        }
      },
      "source": [
        "plot_results_class(X_test, y_test, classifier, 'Random Forest (Conj. de Testes)')"
      ],
      "execution_count": 0,
      "outputs": [
        {
          "output_type": "stream",
          "text": [
            "'c' argument looks like a single numeric RGB or RGBA sequence, which should be avoided as value-mapping will have precedence in case its length matches with 'x' & 'y'.  Please use a 2-D array with a single row if you really want to specify the same RGB or RGBA value for all points.\n",
            "'c' argument looks like a single numeric RGB or RGBA sequence, which should be avoided as value-mapping will have precedence in case its length matches with 'x' & 'y'.  Please use a 2-D array with a single row if you really want to specify the same RGB or RGBA value for all points.\n"
          ],
          "name": "stderr"
        },
        {
          "output_type": "display_data",
          "data": {
            "image/png": "[encoded data removed]",
            "text/plain": [
              "<Figure size 432x288 with 1 Axes>"
            ]
          },
          "metadata": {
            "tags": []
          }
        }
      ]
    },
    {
      "cell_type": "markdown",
      "metadata": {
        "colab_type": "text",
        "id": "PURbDc9AmSmT"
      },
      "source": [
        "### Modelo - SVC"
      ]
    },
    {
      "cell_type": "markdown",
      "metadata": {
        "colab_type": "text",
        "id": "q6cehKF4mSmU"
      },
      "source": [
        "Importando e treinando o modelo com o conjunto de treinamento:"
      ]
    },
    {
      "cell_type": "code",
      "metadata": {
        "colab_type": "code",
        "outputId": "70dcb165-595c-4a01-9f74-28a02b84f068",
        "id": "Y5OCt9sFmSmV",
        "colab": {
          "base_uri": "https://localhost:8080/",
          "height": 85
        }
      },
      "source": [
        "from sklearn.svm import SVC\n",
        "\n",
        "classifier = SVC(kernel = 'rbf', random_state = 0)\n",
        "classifier.fit(X_train, y_train)"
      ],
      "execution_count": 0,
      "outputs": [
        {
          "output_type": "execute_result",
          "data": {
            "text/plain": [
              "SVC(C=1.0, cache_size=200, class_weight=None, coef0=0.0,\n",
              "    decision_function_shape='ovr', degree=3, gamma='auto_deprecated',\n",
              "    kernel='rbf', max_iter=-1, probability=False, random_state=0,\n",
              "    shrinking=True, tol=0.001, verbose=False)"
            ]
          },
          "metadata": {
            "tags": []
          },
          "execution_count": 61
        }
      ]
    },
    {
      "cell_type": "markdown",
      "metadata": {
        "colab_type": "text",
        "id": "TAjYGNW2mSmY"
      },
      "source": [
        "Prevendo os resultados do modelo criado com o conjunto de testes"
      ]
    },
    {
      "cell_type": "code",
      "metadata": {
        "colab_type": "code",
        "outputId": "b8e2e337-5029-43a3-f6c2-0eaccca23432",
        "id": "xZ5gLI4-mSmZ",
        "colab": {
          "base_uri": "https://localhost:8080/",
          "height": 34
        }
      },
      "source": [
        "y_pred = classifier.predict(X_test)\n",
        "\n",
        "y_pred"
      ],
      "execution_count": 0,
      "outputs": [
        {
          "output_type": "execute_result",
          "data": {
            "text/plain": [
              "array([0, 0, 0, 0, 1, 1, 0, 0, 0, 0, 0, 0, 0, 0, 0, 0, 1, 1, 0, 1])"
            ]
          },
          "metadata": {
            "tags": []
          },
          "execution_count": 62
        }
      ]
    },
    {
      "cell_type": "markdown",
      "metadata": {
        "colab_type": "text",
        "id": "MA6gJDALmSmd"
      },
      "source": [
        "Criando e exibindo os valores da matriz de confusão com o conjunto de testes "
      ]
    },
    {
      "cell_type": "code",
      "metadata": {
        "colab_type": "code",
        "outputId": "c16790c1-dbdb-422a-806e-39642cf85901",
        "id": "JGcrtKiAmSme",
        "colab": {
          "base_uri": "https://localhost:8080/",
          "height": 51
        }
      },
      "source": [
        "tn, fp, fn, tp = confusion_matrix(y_test, y_pred).ravel()\n",
        "\n",
        "confusion_matrix(y_test, y_pred)"
      ],
      "execution_count": 0,
      "outputs": [
        {
          "output_type": "execute_result",
          "data": {
            "text/plain": [
              "array([[12,  3],\n",
              "       [ 3,  2]])"
            ]
          },
          "metadata": {
            "tags": []
          },
          "execution_count": 63
        }
      ]
    },
    {
      "cell_type": "markdown",
      "metadata": {
        "colab_type": "text",
        "id": "xYwp7bQ1mSmk"
      },
      "source": [
        "Visualizando a matriz de confusão"
      ]
    },
    {
      "cell_type": "code",
      "metadata": {
        "colab_type": "code",
        "outputId": "eba7fb66-a6dd-42ab-c13a-19a55b6bc253",
        "id": "EiZllTPMmSmm",
        "colab": {
          "base_uri": "https://localhost:8080/",
          "height": 241
        }
      },
      "source": [
        "mat = confusion_matrix(y_test, y_pred)\n",
        "sns.heatmap(mat.T, square=True, annot=True, fmt='d', cbar=False)\n",
        "plt.xlabel('true label')\n",
        "plt.ylabel('predicted label');"
      ],
      "execution_count": 0,
      "outputs": [
        {
          "output_type": "display_data",
          "data": {
            "image/png": "[encoded data removed]",
            "text/plain": [
              "<Figure size 432x288 with 1 Axes>"
            ]
          },
          "metadata": {
            "tags": []
          }
        }
      ]
    },
    {
      "cell_type": "markdown",
      "metadata": {
        "colab_type": "text",
        "id": "lwEQ5Y3nmSmv"
      },
      "source": [
        "Visualizando a métrica de **acurácia** utilizando as funções criadas e a bibilioteca sklearn:"
      ]
    },
    {
      "cell_type": "code",
      "metadata": {
        "colab_type": "code",
        "outputId": "9ca73faf-0fdd-46ff-c69d-316fd2c1de4b",
        "id": "Y2lP54P2mSmx",
        "colab": {
          "base_uri": "https://localhost:8080/",
          "height": 34
        }
      },
      "source": [
        "accuracy(tp, fp, fn, tn)\n",
        "classifier.score(X_test, y_test)"
      ],
      "execution_count": 0,
      "outputs": [
        {
          "output_type": "execute_result",
          "data": {
            "text/plain": [
              "0.7"
            ]
          },
          "metadata": {
            "tags": []
          },
          "execution_count": 65
        }
      ]
    },
    {
      "cell_type": "markdown",
      "metadata": {
        "colab_type": "text",
        "id": "OPXA4AnfmSm7"
      },
      "source": [
        "Exibindo a medida **f-measure**:"
      ]
    },
    {
      "cell_type": "code",
      "metadata": {
        "colab_type": "code",
        "outputId": "f90c3d9d-ca77-4fb7-84a8-5115990d267b",
        "id": "OtoHOSJpmSm-",
        "colab": {
          "base_uri": "https://localhost:8080/",
          "height": 34
        }
      },
      "source": [
        "f_measure(tp, fp, fn)\n",
        "f1_score(y_test, y_pred)  "
      ],
      "execution_count": 0,
      "outputs": [
        {
          "output_type": "execute_result",
          "data": {
            "text/plain": [
              "0.4000000000000001"
            ]
          },
          "metadata": {
            "tags": []
          },
          "execution_count": 66
        }
      ]
    },
    {
      "cell_type": "markdown",
      "metadata": {
        "colab_type": "text",
        "id": "lr4mPpcZmSnH"
      },
      "source": [
        "Exibindo os resultados do conjunto de treinamento:"
      ]
    },
    {
      "cell_type": "code",
      "metadata": {
        "colab_type": "code",
        "outputId": "18e33f73-dc48-4679-e155-2c7629d7462c",
        "id": "DWQh2FEpmSnH",
        "colab": {
          "base_uri": "https://localhost:8080/",
          "height": 355
        }
      },
      "source": [
        "plot_results_class(X_train, y_train, classifier, 'SVC (Conj. de Treinamento)')"
      ],
      "execution_count": 0,
      "outputs": [
        {
          "output_type": "stream",
          "text": [
            "'c' argument looks like a single numeric RGB or RGBA sequence, which should be avoided as value-mapping will have precedence in case its length matches with 'x' & 'y'.  Please use a 2-D array with a single row if you really want to specify the same RGB or RGBA value for all points.\n",
            "'c' argument looks like a single numeric RGB or RGBA sequence, which should be avoided as value-mapping will have precedence in case its length matches with 'x' & 'y'.  Please use a 2-D array with a single row if you really want to specify the same RGB or RGBA value for all points.\n"
          ],
          "name": "stderr"
        },
        {
          "output_type": "display_data",
          "data": {
            "image/png": "[encoded data removed]",
            "text/plain": [
              "<Figure size 432x288 with 1 Axes>"
            ]
          },
          "metadata": {
            "tags": []
          }
        }
      ]
    },
    {
      "cell_type": "markdown",
      "metadata": {
        "colab_type": "text",
        "id": "PSz9stm7mSnM"
      },
      "source": [
        "Exibindo os resultados do conjunto de testes:"
      ]
    },
    {
      "cell_type": "code",
      "metadata": {
        "colab_type": "code",
        "outputId": "5385a502-f4f1-431c-bcd6-4761c7dcfdcc",
        "id": "C2eQFqgqmSnN",
        "colab": {
          "base_uri": "https://localhost:8080/",
          "height": 355
        }
      },
      "source": [
        "plot_results_class(X_test, y_test, classifier, 'SVC (Conj. de Testes)')"
      ],
      "execution_count": 0,
      "outputs": [
        {
          "output_type": "stream",
          "text": [
            "'c' argument looks like a single numeric RGB or RGBA sequence, which should be avoided as value-mapping will have precedence in case its length matches with 'x' & 'y'.  Please use a 2-D array with a single row if you really want to specify the same RGB or RGBA value for all points.\n",
            "'c' argument looks like a single numeric RGB or RGBA sequence, which should be avoided as value-mapping will have precedence in case its length matches with 'x' & 'y'.  Please use a 2-D array with a single row if you really want to specify the same RGB or RGBA value for all points.\n"
          ],
          "name": "stderr"
        },
        {
          "output_type": "display_data",
          "data": {
            "image/png": "[encoded data removed]",
            "text/plain": [
              "<Figure size 432x288 with 1 Axes>"
            ]
          },
          "metadata": {
            "tags": []
          }
        }
      ]
    },
    {
      "cell_type": "markdown",
      "metadata": {
        "id": "svXthFXGtra5",
        "colab_type": "text"
      },
      "source": [
        "### Estudo de Caso: Pipeline de Aprendizagem de Máquina"
      ]
    },
    {
      "cell_type": "markdown",
      "metadata": {
        "id": "SnhUFgKst6BV",
        "colab_type": "text"
      },
      "source": [
        "**Descrição do estudo de caso.**"
      ]
    },
    {
      "cell_type": "markdown",
      "metadata": {
        "id": "-exQqx0Yt-k-",
        "colab_type": "text"
      },
      "source": [
        "Importando as libs:"
      ]
    },
    {
      "cell_type": "code",
      "metadata": {
        "id": "d-UBF8MCt5W9",
        "colab_type": "code",
        "colab": {}
      },
      "source": [
        "import pandas as pd\n",
        "from sklearn.metrics import confusion_matrix\n",
        "from sklearn.model_selection import train_test_split\n",
        "from sklearn.tree import DecisionTreeClassifier\n",
        "from sklearn.neighbors import KNeighborsClassifier\n",
        "from sklearn.linear_model import LogisticRegression\n",
        "from sklearn.naive_bayes import GaussianNB\n",
        "from sklearn.ensemble import RandomForestClassifier\n",
        "from sklearn.svm import SVC"
      ],
      "execution_count": 0,
      "outputs": []
    },
    {
      "cell_type": "markdown",
      "metadata": {
        "id": "lUEXQZzAuDwe",
        "colab_type": "text"
      },
      "source": [
        "Visualizando e descrevendo  o dataset"
      ]
    },
    {
      "cell_type": "code",
      "metadata": {
        "id": "I_D48PQOuD9S",
        "colab_type": "code",
        "outputId": "bfabbcac-d30e-45b1-8540-0481f6cee38c",
        "colab": {
          "base_uri": "https://localhost:8080/",
          "height": 306
        }
      },
      "source": [
        "df = pd.read_csv('https://raw.githubusercontent.com/r4phael/ml-course/master/data/titanic.csv')\n",
        "# Descrevendo o dataset\n",
        "df.info()"
      ],
      "execution_count": 0,
      "outputs": [
        {
          "output_type": "stream",
          "text": [
            "<class 'pandas.core.frame.DataFrame'>\n",
            "RangeIndex: 891 entries, 0 to 890\n",
            "Data columns (total 12 columns):\n",
            "PassengerId    891 non-null int64\n",
            "Survived       891 non-null int64\n",
            "Pclass         891 non-null int64\n",
            "Name           891 non-null object\n",
            "Sex            891 non-null object\n",
            "Age            714 non-null float64\n",
            "SibSp          891 non-null int64\n",
            "Parch          891 non-null int64\n",
            "Ticket         891 non-null object\n",
            "Fare           891 non-null float64\n",
            "Cabin          204 non-null object\n",
            "Embarked       889 non-null object\n",
            "dtypes: float64(2), int64(5), object(5)\n",
            "memory usage: 83.7+ KB\n"
          ],
          "name": "stdout"
        }
      ]
    },
    {
      "cell_type": "code",
      "metadata": {
        "id": "Ydgc6V8iukcX",
        "colab_type": "code",
        "outputId": "84e080a5-00ac-4058-806a-34266a2c9dcb",
        "colab": {
          "base_uri": "https://localhost:8080/",
          "height": 442
        }
      },
      "source": [
        "# Visualizando o dataset\n",
        "df.head(5)"
      ],
      "execution_count": 0,
      "outputs": [
        {
          "output_type": "execute_result",
          "data": {
            "text/html": [
              "<div>\n",
              "<style scoped>\n",
              "    .dataframe tbody tr th:only-of-type {\n",
              "        vertical-align: middle;\n",
              "    }\n",
              "\n",
              "    .dataframe tbody tr th {\n",
              "        vertical-align: top;\n",
              "    }\n",
              "\n",
              "    .dataframe thead th {\n",
              "        text-align: right;\n",
              "    }\n",
              "</style>\n",
              "<table border=\"1\" class=\"dataframe\">\n",
              "  <thead>\n",
              "    <tr style=\"text-align: right;\">\n",
              "      <th></th>\n",
              "      <th>PassengerId</th>\n",
              "      <th>Survived</th>\n",
              "      <th>Pclass</th>\n",
              "      <th>Name</th>\n",
              "      <th>Sex</th>\n",
              "      <th>Age</th>\n",
              "      <th>SibSp</th>\n",
              "      <th>Parch</th>\n",
              "      <th>Ticket</th>\n",
              "      <th>Fare</th>\n",
              "      <th>Cabin</th>\n",
              "      <th>Embarked</th>\n",
              "    </tr>\n",
              "  </thead>\n",
              "  <tbody>\n",
              "    <tr>\n",
              "      <th>0</th>\n",
              "      <td>1</td>\n",
              "      <td>0</td>\n",
              "      <td>3</td>\n",
              "      <td>Braund, Mr. Owen Harris</td>\n",
              "      <td>male</td>\n",
              "      <td>22.0</td>\n",
              "      <td>1</td>\n",
              "      <td>0</td>\n",
              "      <td>A/5 21171</td>\n",
              "      <td>7.2500</td>\n",
              "      <td>NaN</td>\n",
              "      <td>S</td>\n",
              "    </tr>\n",
              "    <tr>\n",
              "      <th>1</th>\n",
              "      <td>2</td>\n",
              "      <td>1</td>\n",
              "      <td>1</td>\n",
              "      <td>Cumings, Mrs. John Bradley (Florence Briggs Th...</td>\n",
              "      <td>female</td>\n",
              "      <td>38.0</td>\n",
              "      <td>1</td>\n",
              "      <td>0</td>\n",
              "      <td>PC 17599</td>\n",
              "      <td>71.2833</td>\n",
              "      <td>C85</td>\n",
              "      <td>C</td>\n",
              "    </tr>\n",
              "    <tr>\n",
              "      <th>2</th>\n",
              "      <td>3</td>\n",
              "      <td>1</td>\n",
              "      <td>3</td>\n",
              "      <td>Heikkinen, Miss. Laina</td>\n",
              "      <td>female</td>\n",
              "      <td>26.0</td>\n",
              "      <td>0</td>\n",
              "      <td>0</td>\n",
              "      <td>STON/O2. 3101282</td>\n",
              "      <td>7.9250</td>\n",
              "      <td>NaN</td>\n",
              "      <td>S</td>\n",
              "    </tr>\n",
              "    <tr>\n",
              "      <th>3</th>\n",
              "      <td>4</td>\n",
              "      <td>1</td>\n",
              "      <td>1</td>\n",
              "      <td>Futrelle, Mrs. Jacques Heath (Lily May Peel)</td>\n",
              "      <td>female</td>\n",
              "      <td>35.0</td>\n",
              "      <td>1</td>\n",
              "      <td>0</td>\n",
              "      <td>113803</td>\n",
              "      <td>53.1000</td>\n",
              "      <td>C123</td>\n",
              "      <td>S</td>\n",
              "    </tr>\n",
              "    <tr>\n",
              "      <th>4</th>\n",
              "      <td>5</td>\n",
              "      <td>0</td>\n",
              "      <td>3</td>\n",
              "      <td>Allen, Mr. William Henry</td>\n",
              "      <td>male</td>\n",
              "      <td>35.0</td>\n",
              "      <td>0</td>\n",
              "      <td>0</td>\n",
              "      <td>373450</td>\n",
              "      <td>8.0500</td>\n",
              "      <td>NaN</td>\n",
              "      <td>S</td>\n",
              "    </tr>\n",
              "  </tbody>\n",
              "</table>\n",
              "</div>"
            ],
            "text/plain": [
              "   PassengerId  Survived  Pclass  ...     Fare Cabin  Embarked\n",
              "0            1         0       3  ...   7.2500   NaN         S\n",
              "1            2         1       1  ...  71.2833   C85         C\n",
              "2            3         1       3  ...   7.9250   NaN         S\n",
              "3            4         1       1  ...  53.1000  C123         S\n",
              "4            5         0       3  ...   8.0500   NaN         S\n",
              "\n",
              "[5 rows x 12 columns]"
            ]
          },
          "metadata": {
            "tags": []
          },
          "execution_count": 25
        }
      ]
    },
    {
      "cell_type": "markdown",
      "metadata": {
        "id": "VSTvdwoLunug",
        "colab_type": "text"
      },
      "source": [
        "Deletando as features que não tem importância no modelo: Nome, Código do Ticket e Código da Cabine:*italicized text*"
      ]
    },
    {
      "cell_type": "code",
      "metadata": {
        "id": "7IkfRti0uoPs",
        "colab_type": "code",
        "colab": {}
      },
      "source": [
        "df = df.drop(['Name','Ticket','Cabin', 'PassengerId'], axis = 1)"
      ],
      "execution_count": 0,
      "outputs": []
    },
    {
      "cell_type": "markdown",
      "metadata": {
        "id": "gqQV4FH1uswd",
        "colab_type": "text"
      },
      "source": [
        "Preenchendo os valores númericos nulos (NA) com a mediana."
      ]
    },
    {
      "cell_type": "code",
      "metadata": {
        "id": "NLwobw_xuvXu",
        "colab_type": "code",
        "colab": {}
      },
      "source": [
        "df = df.fillna(df.median())"
      ],
      "execution_count": 0,
      "outputs": []
    },
    {
      "cell_type": "markdown",
      "metadata": {
        "id": "HGT6O0d4uw0S",
        "colab_type": "text"
      },
      "source": [
        " Criando variaǘeis Dummy nas variáveis categóricas"
      ]
    },
    {
      "cell_type": "code",
      "metadata": {
        "id": "4y834aVouxA4",
        "colab_type": "code",
        "colab": {}
      },
      "source": [
        "df = pd.get_dummies(df ,prefix=['Sex', 'Embarked'], drop_first=True)"
      ],
      "execution_count": 0,
      "outputs": []
    },
    {
      "cell_type": "markdown",
      "metadata": {
        "id": "a3wE0Gszuz7Z",
        "colab_type": "text"
      },
      "source": [
        "Visualizando o dataset após o tratamento dos dados:"
      ]
    },
    {
      "cell_type": "code",
      "metadata": {
        "id": "iYl3uLnCuzcA",
        "colab_type": "code",
        "outputId": "a44a44c8-5956-4373-a9fd-1e0716c73cd4",
        "colab": {
          "base_uri": "https://localhost:8080/",
          "height": 359
        }
      },
      "source": [
        "df.head(10)"
      ],
      "execution_count": 0,
      "outputs": [
        {
          "output_type": "execute_result",
          "data": {
            "text/html": [
              "<div>\n",
              "<style scoped>\n",
              "    .dataframe tbody tr th:only-of-type {\n",
              "        vertical-align: middle;\n",
              "    }\n",
              "\n",
              "    .dataframe tbody tr th {\n",
              "        vertical-align: top;\n",
              "    }\n",
              "\n",
              "    .dataframe thead th {\n",
              "        text-align: right;\n",
              "    }\n",
              "</style>\n",
              "<table border=\"1\" class=\"dataframe\">\n",
              "  <thead>\n",
              "    <tr style=\"text-align: right;\">\n",
              "      <th></th>\n",
              "      <th>Survived</th>\n",
              "      <th>Pclass</th>\n",
              "      <th>Age</th>\n",
              "      <th>SibSp</th>\n",
              "      <th>Parch</th>\n",
              "      <th>Fare</th>\n",
              "      <th>Sex_male</th>\n",
              "      <th>Embarked_Q</th>\n",
              "      <th>Embarked_S</th>\n",
              "    </tr>\n",
              "  </thead>\n",
              "  <tbody>\n",
              "    <tr>\n",
              "      <th>0</th>\n",
              "      <td>0</td>\n",
              "      <td>3</td>\n",
              "      <td>22.0</td>\n",
              "      <td>1</td>\n",
              "      <td>0</td>\n",
              "      <td>7.2500</td>\n",
              "      <td>1</td>\n",
              "      <td>0</td>\n",
              "      <td>1</td>\n",
              "    </tr>\n",
              "    <tr>\n",
              "      <th>1</th>\n",
              "      <td>1</td>\n",
              "      <td>1</td>\n",
              "      <td>38.0</td>\n",
              "      <td>1</td>\n",
              "      <td>0</td>\n",
              "      <td>71.2833</td>\n",
              "      <td>0</td>\n",
              "      <td>0</td>\n",
              "      <td>0</td>\n",
              "    </tr>\n",
              "    <tr>\n",
              "      <th>2</th>\n",
              "      <td>1</td>\n",
              "      <td>3</td>\n",
              "      <td>26.0</td>\n",
              "      <td>0</td>\n",
              "      <td>0</td>\n",
              "      <td>7.9250</td>\n",
              "      <td>0</td>\n",
              "      <td>0</td>\n",
              "      <td>1</td>\n",
              "    </tr>\n",
              "    <tr>\n",
              "      <th>3</th>\n",
              "      <td>1</td>\n",
              "      <td>1</td>\n",
              "      <td>35.0</td>\n",
              "      <td>1</td>\n",
              "      <td>0</td>\n",
              "      <td>53.1000</td>\n",
              "      <td>0</td>\n",
              "      <td>0</td>\n",
              "      <td>1</td>\n",
              "    </tr>\n",
              "    <tr>\n",
              "      <th>4</th>\n",
              "      <td>0</td>\n",
              "      <td>3</td>\n",
              "      <td>35.0</td>\n",
              "      <td>0</td>\n",
              "      <td>0</td>\n",
              "      <td>8.0500</td>\n",
              "      <td>1</td>\n",
              "      <td>0</td>\n",
              "      <td>1</td>\n",
              "    </tr>\n",
              "    <tr>\n",
              "      <th>5</th>\n",
              "      <td>0</td>\n",
              "      <td>3</td>\n",
              "      <td>28.0</td>\n",
              "      <td>0</td>\n",
              "      <td>0</td>\n",
              "      <td>8.4583</td>\n",
              "      <td>1</td>\n",
              "      <td>1</td>\n",
              "      <td>0</td>\n",
              "    </tr>\n",
              "    <tr>\n",
              "      <th>6</th>\n",
              "      <td>0</td>\n",
              "      <td>1</td>\n",
              "      <td>54.0</td>\n",
              "      <td>0</td>\n",
              "      <td>0</td>\n",
              "      <td>51.8625</td>\n",
              "      <td>1</td>\n",
              "      <td>0</td>\n",
              "      <td>1</td>\n",
              "    </tr>\n",
              "    <tr>\n",
              "      <th>7</th>\n",
              "      <td>0</td>\n",
              "      <td>3</td>\n",
              "      <td>2.0</td>\n",
              "      <td>3</td>\n",
              "      <td>1</td>\n",
              "      <td>21.0750</td>\n",
              "      <td>1</td>\n",
              "      <td>0</td>\n",
              "      <td>1</td>\n",
              "    </tr>\n",
              "    <tr>\n",
              "      <th>8</th>\n",
              "      <td>1</td>\n",
              "      <td>3</td>\n",
              "      <td>27.0</td>\n",
              "      <td>0</td>\n",
              "      <td>2</td>\n",
              "      <td>11.1333</td>\n",
              "      <td>0</td>\n",
              "      <td>0</td>\n",
              "      <td>1</td>\n",
              "    </tr>\n",
              "    <tr>\n",
              "      <th>9</th>\n",
              "      <td>1</td>\n",
              "      <td>2</td>\n",
              "      <td>14.0</td>\n",
              "      <td>1</td>\n",
              "      <td>0</td>\n",
              "      <td>30.0708</td>\n",
              "      <td>0</td>\n",
              "      <td>0</td>\n",
              "      <td>0</td>\n",
              "    </tr>\n",
              "  </tbody>\n",
              "</table>\n",
              "</div>"
            ],
            "text/plain": [
              "   Survived  Pclass   Age  SibSp  ...     Fare  Sex_male  Embarked_Q  Embarked_S\n",
              "0         0       3  22.0      1  ...   7.2500         1           0           1\n",
              "1         1       1  38.0      1  ...  71.2833         0           0           0\n",
              "2         1       3  26.0      0  ...   7.9250         0           0           1\n",
              "3         1       1  35.0      1  ...  53.1000         0           0           1\n",
              "4         0       3  35.0      0  ...   8.0500         1           0           1\n",
              "5         0       3  28.0      0  ...   8.4583         1           1           0\n",
              "6         0       1  54.0      0  ...  51.8625         1           0           1\n",
              "7         0       3   2.0      3  ...  21.0750         1           0           1\n",
              "8         1       3  27.0      0  ...  11.1333         0           0           1\n",
              "9         1       2  14.0      1  ...  30.0708         0           0           0\n",
              "\n",
              "[10 rows x 9 columns]"
            ]
          },
          "metadata": {
            "tags": []
          },
          "execution_count": 29
        }
      ]
    },
    {
      "cell_type": "markdown",
      "metadata": {
        "id": "AYTUl3VRu5A0",
        "colab_type": "text"
      },
      "source": [
        "Definindo as variáveis dependentes/independentes."
      ]
    },
    {
      "cell_type": "code",
      "metadata": {
        "id": "qQR4ljeWu5LR",
        "colab_type": "code",
        "colab": {}
      },
      "source": [
        "X = df.iloc[:, 1:].values\n",
        "y = df.iloc[:, 0].values"
      ],
      "execution_count": 0,
      "outputs": []
    },
    {
      "cell_type": "markdown",
      "metadata": {
        "id": "Ro6Ivc4fu-MY",
        "colab_type": "text"
      },
      "source": [
        "Criando os subconjuntos de treinamento e testes"
      ]
    },
    {
      "cell_type": "code",
      "metadata": {
        "id": "6Xi3FaBlu-Bn",
        "colab_type": "code",
        "colab": {}
      },
      "source": [
        "X_train, X_test, y_train, y_test = train_test_split(X, y, test_size = 0.2, random_state = 0)\n"
      ],
      "execution_count": 0,
      "outputs": []
    },
    {
      "cell_type": "markdown",
      "metadata": {
        "id": "vWa4NAxjvGxL",
        "colab_type": "text"
      },
      "source": [
        "Normalizando as features "
      ]
    },
    {
      "cell_type": "code",
      "metadata": {
        "id": "50S_oZaxvG8G",
        "colab_type": "code",
        "colab": {}
      },
      "source": [
        "X_train = feature_scaling(X_train)\n",
        "X_test = feature_scaling(X_test)"
      ],
      "execution_count": 0,
      "outputs": []
    },
    {
      "cell_type": "markdown",
      "metadata": {
        "id": "-q0UR3OZvKjA",
        "colab_type": "text"
      },
      "source": [
        "Criando o dicionário contendo todos os classificadores"
      ]
    },
    {
      "cell_type": "code",
      "metadata": {
        "id": "C6jXnAqmvJiU",
        "colab_type": "code",
        "colab": {}
      },
      "source": [
        "estimators = {'Decision Tree': DecisionTreeClassifier(criterion = 'entropy', random_state = 0),\n",
        "              'KNN': KNeighborsClassifier(n_neighbors = 5, metric = 'minkowski', p = 2),\n",
        "              'Logistic Regression': LogisticRegression(random_state = 0),\n",
        "              'Naive Bayes': GaussianNB(),\n",
        "              'Random Forest': RandomForestClassifier(n_estimators = 10, criterion = 'entropy', random_state = 0),\n",
        "              'SVC': SVC(kernel = 'rbf', random_state = 0)}"
      ],
      "execution_count": 0,
      "outputs": []
    },
    {
      "cell_type": "markdown",
      "metadata": {
        "id": "rhzfX_LivNkK",
        "colab_type": "text"
      },
      "source": [
        "Criando dataframe que irá guardar os resultados finais dos classificadores"
      ]
    },
    {
      "cell_type": "code",
      "metadata": {
        "id": "5zmJEiArvNtl",
        "colab_type": "code",
        "colab": {}
      },
      "source": [
        "df_results = pd.DataFrame(columns=['clf', 'acc', 'prec', 'rec', 'f1', 'inform', 'mark'], index=None)\n"
      ],
      "execution_count": 0,
      "outputs": []
    },
    {
      "cell_type": "markdown",
      "metadata": {
        "id": "F00njvtjvS-H",
        "colab_type": "text"
      },
      "source": [
        "Itereando os classificadores e gerando os resultados para cada classificador:"
      ]
    },
    {
      "cell_type": "code",
      "metadata": {
        "id": "yRICqONavTKP",
        "colab_type": "code",
        "outputId": "95ea2af8-7eeb-4089-c4af-a8335df4f1d3",
        "colab": {
          "base_uri": "https://localhost:8080/",
          "height": 71
        }
      },
      "source": [
        "for name, estim in estimators.items():\n",
        "    # print(\"Treinando Estimador {0}: \".format(name))\n",
        "    \n",
        "    # Treinando os classificadores com Conjunto de Treinamento\n",
        "    estim.fit(X_train, y_train)\n",
        "    \n",
        "    # Prevendo os resultados do modelo criado com o conjunto de testes\n",
        "    y_pred = estim.predict(X_test)\n",
        "    \n",
        "    # Criando a matriz de confusão com o conjunto de testes \n",
        "    tn, fp, fn, tp = confusion_matrix(y_test, y_pred).ravel()\n",
        "    \n",
        "    # print(\"accuracy {0}: \".format(accuracy(tp, fp, fn, tn)))\n",
        "    \n",
        "    # Armazenando as métricas de cada classificador em um dataframe\n",
        "    df_results.loc[len(df_results), :] = [name, accuracy(tp, fp, fn, tn), precision (tp, fp), recall(tp, fn), \n",
        "                   f_measure(tp, fp, fn), informedness(tp, fp, fn, tn), markdness(tp, fp, fn, tn)]\n"
      ],
      "execution_count": 0,
      "outputs": [
        {
          "output_type": "stream",
          "text": [
            "/usr/local/lib/python3.6/dist-packages/sklearn/linear_model/logistic.py:432: FutureWarning: Default solver will be changed to 'lbfgs' in 0.22. Specify a solver to silence this warning.\n",
            "  FutureWarning)\n"
          ],
          "name": "stderr"
        }
      ]
    },
    {
      "cell_type": "markdown",
      "metadata": {
        "id": "awihOX4EveXv",
        "colab_type": "text"
      },
      "source": [
        "Exibindo os resultados finais"
      ]
    },
    {
      "cell_type": "code",
      "metadata": {
        "id": "vgikluovven6",
        "colab_type": "code",
        "outputId": "3c6039b6-f443-4311-fbf6-129542e8a47e",
        "colab": {
          "base_uri": "https://localhost:8080/",
          "height": 235
        }
      },
      "source": [
        "df_results"
      ],
      "execution_count": 0,
      "outputs": [
        {
          "output_type": "execute_result",
          "data": {
            "text/html": [
              "<div>\n",
              "<style scoped>\n",
              "    .dataframe tbody tr th:only-of-type {\n",
              "        vertical-align: middle;\n",
              "    }\n",
              "\n",
              "    .dataframe tbody tr th {\n",
              "        vertical-align: top;\n",
              "    }\n",
              "\n",
              "    .dataframe thead th {\n",
              "        text-align: right;\n",
              "    }\n",
              "</style>\n",
              "<table border=\"1\" class=\"dataframe\">\n",
              "  <thead>\n",
              "    <tr style=\"text-align: right;\">\n",
              "      <th></th>\n",
              "      <th>clf</th>\n",
              "      <th>acc</th>\n",
              "      <th>prec</th>\n",
              "      <th>rec</th>\n",
              "      <th>f1</th>\n",
              "      <th>inform</th>\n",
              "      <th>mark</th>\n",
              "    </tr>\n",
              "  </thead>\n",
              "  <tbody>\n",
              "    <tr>\n",
              "      <th>0</th>\n",
              "      <td>Decision Tree</td>\n",
              "      <td>0.782123</td>\n",
              "      <td>0.734375</td>\n",
              "      <td>0.681159</td>\n",
              "      <td>0.706767</td>\n",
              "      <td>0.526614</td>\n",
              "      <td>0.543071</td>\n",
              "    </tr>\n",
              "    <tr>\n",
              "      <th>1</th>\n",
              "      <td>KNN</td>\n",
              "      <td>0.810056</td>\n",
              "      <td>0.79661</td>\n",
              "      <td>0.681159</td>\n",
              "      <td>0.734375</td>\n",
              "      <td>0.572069</td>\n",
              "      <td>0.613277</td>\n",
              "    </tr>\n",
              "    <tr>\n",
              "      <th>2</th>\n",
              "      <td>Logistic Regression</td>\n",
              "      <td>0.815642</td>\n",
              "      <td>0.78125</td>\n",
              "      <td>0.724638</td>\n",
              "      <td>0.75188</td>\n",
              "      <td>0.597365</td>\n",
              "      <td>0.616033</td>\n",
              "    </tr>\n",
              "    <tr>\n",
              "      <th>3</th>\n",
              "      <td>Naive Bayes</td>\n",
              "      <td>0.793296</td>\n",
              "      <td>0.728571</td>\n",
              "      <td>0.73913</td>\n",
              "      <td>0.733813</td>\n",
              "      <td>0.566403</td>\n",
              "      <td>0.563434</td>\n",
              "    </tr>\n",
              "    <tr>\n",
              "      <th>4</th>\n",
              "      <td>Random Forest</td>\n",
              "      <td>0.865922</td>\n",
              "      <td>0.894737</td>\n",
              "      <td>0.73913</td>\n",
              "      <td>0.809524</td>\n",
              "      <td>0.684585</td>\n",
              "      <td>0.747196</td>\n",
              "    </tr>\n",
              "    <tr>\n",
              "      <th>5</th>\n",
              "      <td>SVC</td>\n",
              "      <td>0.810056</td>\n",
              "      <td>0.807018</td>\n",
              "      <td>0.666667</td>\n",
              "      <td>0.730159</td>\n",
              "      <td>0.566667</td>\n",
              "      <td>0.618493</td>\n",
              "    </tr>\n",
              "  </tbody>\n",
              "</table>\n",
              "</div>"
            ],
            "text/plain": [
              "                   clf       acc      prec  ...        f1    inform      mark\n",
              "0        Decision Tree  0.782123  0.734375  ...  0.706767  0.526614  0.543071\n",
              "1                  KNN  0.810056   0.79661  ...  0.734375  0.572069  0.613277\n",
              "2  Logistic Regression  0.815642   0.78125  ...   0.75188  0.597365  0.616033\n",
              "3          Naive Bayes  0.793296  0.728571  ...  0.733813  0.566403  0.563434\n",
              "4        Random Forest  0.865922  0.894737  ...  0.809524  0.684585  0.747196\n",
              "5                  SVC  0.810056  0.807018  ...  0.730159  0.566667  0.618493\n",
              "\n",
              "[6 rows x 7 columns]"
            ]
          },
          "metadata": {
            "tags": []
          },
          "execution_count": 36
        }
      ]
    }
  ]
}